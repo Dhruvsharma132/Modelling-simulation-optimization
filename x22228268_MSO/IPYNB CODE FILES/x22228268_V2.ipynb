{
 "cells": [
  {
   "cell_type": "markdown",
   "id": "f421c061",
   "metadata": {},
   "source": [
    "## Importing Libraries"
   ]
  },
  {
   "cell_type": "code",
   "execution_count": 1,
   "id": "c9abe20a",
   "metadata": {},
   "outputs": [],
   "source": [
    "import matplotlib.pyplot as plt\n",
    "import math\n",
    "import random\n",
    "import numpy as np\n",
    "import pickle\n",
    "import simpy\n",
    "import time\n",
    "import pulp\n",
    "import pandas as pd\n",
    "import scipy.stats as stats"
   ]
  },
  {
   "cell_type": "markdown",
   "id": "2158027c",
   "metadata": {},
   "source": [
    "## Initializing data generation utilities"
   ]
  },
  {
   "cell_type": "code",
   "execution_count": 2,
   "id": "9371a2d0",
   "metadata": {},
   "outputs": [],
   "source": [
    "def dist(p1, p2):\n",
    "    (x1, y1) = p1\n",
    "    (x2, y2) = p2\n",
    "    return int(math.sqrt((x1-x2)**2+(y1-y2)**2))"
   ]
  },
  {
   "cell_type": "code",
   "execution_count": 3,
   "id": "dc2f82fe",
   "metadata": {},
   "outputs": [],
   "source": [
    "def nearest(X, P):\n",
    "    minD = math.inf\n",
    "    minP = None\n",
    "    for p in P:\n",
    "        for x in X:\n",
    "            d=dist(x, p)\n",
    "            if d<minD:\n",
    "                minX, minP, minD = x, p, d\n",
    "    return minX, minP         "
   ]
  },
  {
   "cell_type": "code",
   "execution_count": 4,
   "id": "33a8d639",
   "metadata": {},
   "outputs": [],
   "source": [
    "def generateRandomGraph(n, x0, y0, r):\n",
    "\n",
    "    def rounding(x):\n",
    "        return int(math.floor(x/10))*10\n",
    "\n",
    "    x0 = rounding(x0)\n",
    "    y0 = rounding(y0)\n",
    "    gridsize = rounding(r / math.sqrt(n) * 1.4)\n",
    "    r = int(math.floor(r/gridsize))*gridsize\n",
    "    split = int(2*r/gridsize)+1\n",
    "    X = np.linspace(x0-r, x0+r, split)\n",
    "    Y = np.linspace(y0-r, y0+r, split)\n",
    "    P = [ (int(x), int(y)) for x in X for y in Y if dist((x,y), (x0,y0)) < r ]\n",
    "    P = random.sample(P, k=n)\n",
    "    \n",
    "    E = []\n",
    "    \n",
    "    def addEdge(p, q):\n",
    "        if p in P and q in P and (p, q) not in E and (q, p) not in E:\n",
    "            E.append((p, q))\n",
    "    def addDiagonalEdge(p, q):\n",
    "        (xp, yp) = p\n",
    "        (xq, yq) = q\n",
    "        if p in P and q in P and (xp, yq) not in P and (xq, yp) not in P and (p, q) not in E and (q, p) not in E:\n",
    "            E.append((p, q))\n",
    "            \n",
    "    for (x, y) in P:\n",
    "        addEdge( (x, y), (x, y+gridsize) )\n",
    "        addEdge( (x, y), (x, y-gridsize) )\n",
    "        addEdge( (x, y), (x+gridsize, y) )\n",
    "        addEdge( (x, y), (x-gridsize, y) )\n",
    "        addDiagonalEdge( (x, y), (x+gridsize, y+gridsize) )\n",
    "        addDiagonalEdge( (x, y), (x+gridsize, y-gridsize) )\n",
    "        addDiagonalEdge( (x, y), (x-gridsize, y+gridsize) )\n",
    "        addDiagonalEdge( (x, y), (x-gridsize, y-gridsize) )\n",
    "        \n",
    "    return sorted(P), sorted(E)"
   ]
  },
  {
   "cell_type": "code",
   "execution_count": null,
   "id": "40d56400",
   "metadata": {},
   "outputs": [],
   "source": [
    "def plotGraph(P, E, col='b', grid=False):\n",
    "    if not grid:\n",
    "        plt.axis('off')\n",
    "    plt.plot( [ p[0] for p in P ], [ p[1] for p in P ], col+'o', lw=1, ms=3)\n",
    "    for (p, q) in E:\n",
    "        plt.plot( [ p[0], q[0] ], [ p[1], q[1] ], col+'-o', lw=1, ms=3)\n",
    "    if grid:\n",
    "        plt.grid()"
   ]
  },
  {
   "cell_type": "code",
   "execution_count": 5,
   "id": "d364fe67",
   "metadata": {},
   "outputs": [],
   "source": [
    "def subgraph(P, E):\n",
    "    P = P.copy()\n",
    "    E = E.copy()\n",
    "    PP = [ P[0] ] \n",
    "    EE = []\n",
    "    P = P[1:]\n",
    "    extended = True\n",
    "    while extended:\n",
    "        extended = False\n",
    "        for (a, b) in E:\n",
    "            if a in PP and b in P:\n",
    "                PP.append(b)\n",
    "                P.remove(b)\n",
    "                EE.append((a, b))\n",
    "                E.remove((a, b))\n",
    "                extended = True\n",
    "                break\n",
    "            if a in P and b in PP:\n",
    "                PP.append(a)\n",
    "                P.remove(a)\n",
    "                EE.append((a, b))\n",
    "                E.remove((a, b))\n",
    "                extended = True\n",
    "                break\n",
    "            if a in PP and b in PP:\n",
    "                EE.append((a, b))\n",
    "                E.remove((a, b))\n",
    "                extended = True\n",
    "                break\n",
    "    return PP, EE, P, E       "
   ]
  },
  {
   "cell_type": "code",
   "execution_count": 6,
   "id": "52372c76",
   "metadata": {},
   "outputs": [],
   "source": [
    "def generateGraph(n, x0, y0, r):\n",
    "    P, E = generateRandomGraph(n, x0, y0, r)\n",
    "    P0, _, P1, _ = subgraph(P, E)\n",
    "    while len(P1)>0:\n",
    "        (p, q) = nearest(P0, P1)\n",
    "        E.append((p, q))\n",
    "        P0, _, P1, _ = subgraph(P, E)\n",
    "    return P, E"
   ]
  },
  {
   "cell_type": "code",
   "execution_count": 7,
   "id": "cff827be",
   "metadata": {},
   "outputs": [],
   "source": [
    "def splitEdgeRandomly(V, E, s):\n",
    "    A, B = s\n",
    "    p = random.uniform(0.3,0.7)\n",
    "    x = int(A[0]+p*(B[0]-A[0]))\n",
    "    y = int(A[1]+p*(B[1]-A[1]))\n",
    "    t = (x,y)\n",
    "    E.remove(s) \n",
    "    E.append((A, t))\n",
    "    E.append((t, B))\n",
    "    V.append(t)\n",
    "    return (V, E), t"
   ]
  },
  {
   "cell_type": "code",
   "execution_count": 8,
   "id": "3f40ad28",
   "metadata": {},
   "outputs": [],
   "source": [
    "def generateRandomTargets(V, E, n=5):\n",
    "    V, E = V.copy(), E.copy()\n",
    "    T = []\n",
    "    # we want to ensure that the beginning of the \n",
    "    # sequence of points generated randomly stays\n",
    "    # the same\n",
    "    mindist = 300\n",
    "    while len(T)<n:\n",
    "        s = random.choice(E)\n",
    "        A, B = s\n",
    "        if dist(A,B)>mindist: # avoid targets placed narrowly\n",
    "            (V, E), t = splitEdgeRandomly(V, E, s)\n",
    "            T.append(t)\n",
    "    return sorted(T)"
   ]
  },
  {
   "cell_type": "code",
   "execution_count": 9,
   "id": "d7451342",
   "metadata": {},
   "outputs": [],
   "source": [
    "def addTargets(M, T):\n",
    "    V, E = M\n",
    "    E = E.copy()\n",
    "    V = V.copy()\n",
    "    for t in T:\n",
    "        minD = math.inf\n",
    "        minE = None\n",
    "        for e in E:\n",
    "            P, Q = e\n",
    "            distT = dist(P, t)+dist(t, Q)-dist(P, Q)\n",
    "            if distT < minD:\n",
    "                minD = distT\n",
    "                minE = e\n",
    "        P, Q = minE\n",
    "        E.remove( (P, Q) )\n",
    "        E.append( (P, t) )\n",
    "        E.append( (t, Q) )\n",
    "        V.append(t)\n",
    "    return V, E"
   ]
  },
  {
   "cell_type": "code",
   "execution_count": 10,
   "id": "fba08272",
   "metadata": {},
   "outputs": [],
   "source": [
    "def plotMap(G, T=[], P=[], W=None,\n",
    "            style='r-o', lw=1, ms=3, \n",
    "            styleT='go', msT=5,\n",
    "            styleP='b-o', lwP=3, msP=1,\n",
    "            stylePT='go', msPT=7,\n",
    "            styleW='bo', msW=7,\n",
    "            text=None, grid=False):\n",
    "    fig = plt.gcf()\n",
    "    fig.set_size_inches(6, 6)\n",
    "    V, E = G\n",
    "\n",
    "    if not grid:\n",
    "        plt.axis('off')\n",
    "    plt.plot( [ p[0] for p in V ], [ p[1] for p in V ], 'ro', lw=lw, ms=ms)\n",
    "    for (p, q) in E:\n",
    "        plt.plot( [ p[0], q[0] ], [ p[1], q[1] ], 'r-o', lw=lw, ms=ms)\n",
    "    for t in T:\n",
    "        plt.plot( [ t[0] ], [ t[1] ], \n",
    "                  styleT, ms=msT)\n",
    "    plt.plot( [ p[0] for p in P ],\n",
    "              [ p[1] for p in P ], \n",
    "              styleP, lw=lwP, ms=msP)\n",
    "    for p in P:\n",
    "        if p in T:\n",
    "            plt.plot( [ p[0] ], [ p[1] ], \n",
    "                      stylePT, ms=msPT)\n",
    "    if W is not None:\n",
    "        plt.plot( [ W[0] ], [ W[1] ], \n",
    "                      styleW, ms=msW)\n",
    "    if text is not None:\n",
    "        maxX = max([p[0] for p in V])\n",
    "        plt.text(0.8*maxX, 0, text)\n",
    "    if grid:\n",
    "        plt.grid()\n",
    "    plt.show()"
   ]
  },
  {
   "cell_type": "code",
   "execution_count": 11,
   "id": "20498371",
   "metadata": {},
   "outputs": [],
   "source": [
    "#main utility to generate data"
   ]
  },
  {
   "cell_type": "code",
   "execution_count": 12,
   "id": "5b5e2ce4",
   "metadata": {},
   "outputs": [],
   "source": [
    "#for generating data -imp\n",
    "\n",
    "def generateData(seed=None, nodes=100, customers=150, \n",
    "                 plot=False, log=False):\n",
    "\n",
    "    if seed is None:\n",
    "\n",
    "        print(\"Usage:  M, C = generateData(seed=None, \")\n",
    "        print(\"                            nodes=100, customers=50, \")\n",
    "        print(\"                            plot=False, log=False)\")\n",
    "        print(\"\")\n",
    "        print(\"  seed  the seed value to be used for data generation. \")\n",
    "        print(\"        To test the application use seed=0, it will create\")\n",
    "        print(\"        a small map, with a very few customer locations and\")\n",
    "        print(\"        a small set of delivery data.\")\n",
    "        print(\"\")\n",
    "        print(\"  nodes the number of intersections (vertices) in the generated map\")\n",
    "        print(\"\")\n",
    "        print(\"  customers  the number of customers generated on the map\")\n",
    "        print(\"\")\n",
    "        print(\"  log   Controls print output during data generation.\")\n",
    "        print(\"\")\n",
    "        print(\"  plot  Controls graphical output during data generation.\")\n",
    "        print(\"\")\n",
    "        print(\"Returns:\")\n",
    "        print(\"\")\n",
    "        print(\"  M = (V, E) is the generated map given as a graph\")\n",
    "        print(\"    where V is a list of vertices, with each vertice \")\n",
    "        print(\"    given as a pair (x, y) of integer coordinates, \")\n",
    "        print(\"    and E is a list of edges, with each edge given\")\n",
    "        print(\"    as a pair (A, B) of vertices, with each vertex again\")\n",
    "        print(\"    given as a pair (x, y) of integer coordinates\")\n",
    "        print(\"\")\n",
    "        # print(\"  W ∈ V  is the location of the distribution warehouse\")\n",
    "        # print(\"    given as a pair (x, y) of integer coordinates\")\n",
    "        # print(\"\")\n",
    "        print(\"  C is a list of customer locations\")\n",
    "        print(\"    given as pairs (x, y) of integer coordinates on or near\")\n",
    "        print(\"    existing edges E. To integrate a set of customer locations\")\n",
    "        print(\"    into a given map M = (V, E), use addTarget(M, C)\")\n",
    "        print(\"\")\n",
    "        \n",
    "        seed = 0\n",
    "    \n",
    "    if seed==0:          # generate very simple test data \n",
    "        nodes = 20       # number of points in map\n",
    "        customers = 5    # number of  customers\n",
    "        grid = True\n",
    "            \n",
    "    else:\n",
    "        grid = False\n",
    "        \n",
    "    random.seed(seed)\n",
    "    \n",
    "    V, E = generateGraph(nodes, 4000, 4000, 4000)\n",
    "    \n",
    "    C = generateRandomTargets(V, E, customers)\n",
    "\n",
    "    if log:\n",
    "        print(f\"Generated map with {nodes:d} nodes and \" \n",
    "              f\"{customers:d} customer locations\")\n",
    "    if plot:\n",
    "        label=\"\" if seed==0 else f\"seed={seed:4d}\"\n",
    "        plotMap((V, E), T=C, text=label, grid=grid)\n",
    "    \n",
    "    return (V, E), C\n"
   ]
  },
  {
   "cell_type": "markdown",
   "id": "8b805b0d",
   "metadata": {},
   "source": [
    "## Initializing Plotting Utilities"
   ]
  },
  {
   "cell_type": "code",
   "execution_count": 13,
   "id": "669309b9",
   "metadata": {},
   "outputs": [],
   "source": [
    "def histplot(data, title=\"\", xlabel=\"\",\n",
    "             width=None, height=None):\n",
    "    \n",
    "    minx = min(data)\n",
    "    maxx = max(data)\n",
    "    μ = np.mean(data)\n",
    "    σ = np.std(data)\n",
    "    \n",
    "    fig = plt.figure()\n",
    "    fig.set_figwidth(width if width is not None else 4)\n",
    "    fig.set_figheight(height if height is not None else 2.5)\n",
    "    ax = fig.gca()\n",
    "        \n",
    "    bins=(maxx-minx)//5+1\n",
    "    hist=plt.hist(data, density=True, bins=bins)\n",
    "    plt.xlabel(xlabel)\n",
    "    plt.ylabel('Density')\n",
    "    plt.title(title)\n",
    "        \n",
    "    x = np.linspace(minx, maxx, 100)\n",
    "    y = [ stats.norm(loc=μ, scale=σ).pdf(p) for p in x]\n",
    "    ax.plot(x, y, lw=1, color='red')\n",
    "    ax.axvline(x=μ, color='red')\n",
    "    maxy = max(max(y), max(hist[0]))\n",
    "    ax.text(maxx, maxy, \n",
    "            f'μ={μ:2.2f}\\nσ={σ:2.2f}', \n",
    "            ha='right', va='top', \n",
    "            color='red', fontsize=12)\n",
    "    ax.grid(True)\n",
    "    plt.show()"
   ]
  },
  {
   "cell_type": "code",
   "execution_count": 14,
   "id": "0bd5f3ed",
   "metadata": {},
   "outputs": [],
   "source": [
    "def dailyPlot(data, \n",
    "              title=\"\", ylabel=\"\",\n",
    "              width=None, height=None):\n",
    "    \n",
    "    days = len(data)\n",
    "    \n",
    "    fig = plt.figure()\n",
    "    fig.set_figwidth(width if width is not None else 6)\n",
    "    fig.set_figheight(height if height is not None else 2)\n",
    "    \n",
    "    ax = fig.gca()\n",
    "    diff = (max(data)-min(data))*0.1\n",
    "    ymin = int(math.floor(min(data)-diff))\n",
    "    ymax = int(math.ceil(max(data)+diff))\n",
    "    ax.set_xlim(-1, days)\n",
    "    ax.set_ylim(ymin, ymax)\n",
    "    ax.grid(True)\n",
    "    \n",
    "    ms = 2 if len(data)>100 else 5\n",
    "    lw = 0.5 if len(data)>100 else 1\n",
    "\n",
    "    x = np.arange(0, len(data))\n",
    "    y = np.array([ y for y in data ])\n",
    "    b, m = np.polynomial.polynomial.polyfit(x, y, 1)\n",
    "    \n",
    "    plt.plot(x, y, 'bo-', linewidth=lw, markersize=ms)\n",
    "    plt.plot(x, m*x+b, 'r-')\n",
    "    \n",
    "    plt.xlabel('Day')\n",
    "    plt.ylabel(ylabel)\n",
    "    plt.title(title)\n",
    "    plt.show()"
   ]
  },
  {
   "cell_type": "markdown",
   "id": "3d7e4379",
   "metadata": {},
   "source": [
    "## Step 1 : Generate test data"
   ]
  },
  {
   "cell_type": "code",
   "execution_count": 15,
   "id": "5941d245",
   "metadata": {},
   "outputs": [
    {
     "name": "stdout",
     "output_type": "stream",
     "text": [
      "Generated map with 100 nodes and 150 customer locations\n"
     ]
    },
    {
     "data": {
      "image/png": "[encoded data removed]",
      "text/plain": [
       "<Figure size 600x600 with 1 Axes>"
      ]
     },
     "metadata": {},
     "output_type": "display_data"
    }
   ],
   "source": [
    "seed=8268\n",
    "data = generateData(seed, plot=True, log=True)"
   ]
  },
  {
   "cell_type": "code",
   "execution_count": 16,
   "id": "84dc3c33",
   "metadata": {},
   "outputs": [],
   "source": [
    "#save test data for customer locations\n",
    "with open('customer_data.pickled', 'wb') as f:\n",
    "    pickle.dump(data, f)"
   ]
  },
  {
   "cell_type": "markdown",
   "id": "c9ee9540",
   "metadata": {},
   "source": [
    "### 1.1 Generate Delivery Data function"
   ]
  },
  {
   "cell_type": "code",
   "execution_count": 17,
   "id": "aa8f87c1",
   "metadata": {},
   "outputs": [],
   "source": [
    "## generating delivery data according to specification in assignment\n",
    "\n",
    "def generateDeliveryData(p, C, days, seed=0):\n",
    "    ## p is the average number of parcels per day per customer\n",
    "    ## C is the number of customers to be served\n",
    "    ## days is the number of days for which data are to be generated.\n",
    "    np.random.seed(seed)\n",
    "    R = np.random.poisson(lam=len(C)*p, size=days)\n",
    "    D = [ sorted(list(np.random.choice(range(len(C)), size=i))) for i in R ]\n",
    "    return D"
   ]
  },
  {
   "cell_type": "markdown",
   "id": "5115f4d2",
   "metadata": {},
   "source": [
    "### 1.2 Generate Warehouse Location"
   ]
  },
  {
   "cell_type": "code",
   "execution_count": 18,
   "id": "2844fe59",
   "metadata": {},
   "outputs": [],
   "source": [
    "#for generating a single random warehouse location from Map()\n",
    "def generateWarehouseLocation(M):\n",
    "    V, _ = M\n",
    "    W = random.sample(V, k=1)[0]#1 sample\n",
    "    return W"
   ]
  },
  {
   "cell_type": "markdown",
   "id": "3a779e75",
   "metadata": {},
   "source": [
    "## Step 2 : Trip and Path Utilities"
   ]
  },
  {
   "cell_type": "markdown",
   "id": "96e0de7a",
   "metadata": {},
   "source": [
    "### 2.1 Path"
   ]
  },
  {
   "cell_type": "code",
   "execution_count": 19,
   "id": "f19050b4",
   "metadata": {},
   "outputs": [],
   "source": [
    "def pathLength(P):\n",
    "    return 0 if len(P)<=1 else \\\n",
    "            dist(P[0], P[1])+pathLength(P[1:])"
   ]
  },
  {
   "cell_type": "code",
   "execution_count": 20,
   "id": "6753ddb3",
   "metadata": {},
   "outputs": [],
   "source": [
    "# A* algorithm for shortest path\n",
    "def shortestPath(M, A, B):\n",
    "\n",
    "    def h(p): \n",
    "        return pathLength(p)+dist(p[-1],B)\n",
    "    \n",
    "    # candidates C are pairs of the path so far and \n",
    "    # the heuristic function of that path, \n",
    "    # sorted by the heuristic function, as maintained by\n",
    "    # insert function\n",
    "    def insert(C, p):\n",
    "        hp = h(p)\n",
    "        c = (p, hp)\n",
    "        for i in range(len(C)):\n",
    "            if C[i][1]>hp:\n",
    "                return C[:i]+[c]+C[i:]\n",
    "        return C+[c]   \n",
    "        \n",
    "    V, E = M\n",
    "    assert(A in V and B in V)    \n",
    "    C = insert([], [A])\n",
    "\n",
    "    while len(C)>0:\n",
    "        # take the first candidate out of the list of candidates\n",
    "        path, _ = C[0]\n",
    "        C = C[1:]\n",
    "        if path[-1]==B:\n",
    "            return path\n",
    "        else:\n",
    "            for (x, y) in E:\n",
    "                if path[-1]==x and y not in path:\n",
    "                    C = insert(C, path+[y])\n",
    "                elif path[-1]==y and x not in path:\n",
    "                    C = insert(C, path+[x])\n",
    "    return None"
   ]
  },
  {
   "cell_type": "markdown",
   "id": "3229bfe9",
   "metadata": {},
   "source": [
    "### 2.2 Shortest delivery route utilities"
   ]
  },
  {
   "cell_type": "code",
   "execution_count": 21,
   "id": "c629142e",
   "metadata": {},
   "outputs": [],
   "source": [
    "def reverse(P):\n",
    "    return [ P[-i] for i in range(1,len(P)+1) ]\n",
    "    \n",
    "def index(x, L):\n",
    "    for i in range(len(L)):\n",
    "        if x==L[i]: \n",
    "            return i\n",
    "    return None"
   ]
  },
  {
   "cell_type": "code",
   "execution_count": 22,
   "id": "916e9e3f",
   "metadata": {},
   "outputs": [],
   "source": [
    "def createTables(M, T):\n",
    "    n = len(T)\n",
    "    d = [ [ math.inf for t in T ] for t in T ]\n",
    "    p = [ [ None for t in T ] for t in T ]\n",
    "    for i in range(n):\n",
    "        d[i][i] = 0\n",
    "        p[i][i] = [ T[i] ]\n",
    "    for i in range(n):\n",
    "        for j in range(n):\n",
    "            if p[i][j] is None:\n",
    "                s = shortestPath(M, T[i], T[j])\n",
    "                d[i][j] = d[j][i] = pathLength(s)\n",
    "                p[i][j] = s\n",
    "                p[j][i] = reverse(s)\n",
    "                for m in range(len(s)-1):\n",
    "                    smi = index(s[m], T)\n",
    "                    if smi is None:\n",
    "                        continue\n",
    "                    for l in range(m+1, len(s)):\n",
    "                        sli = index(s[l], T)\n",
    "                        if sli is None:\n",
    "                            continue  \n",
    "                        sub = s[m:l+1]\n",
    "                        if p[smi][sli] is None:\n",
    "                            p[smi][sli] = sub\n",
    "                            p[sli][smi] = reverse(sub)\n",
    "                            d[smi][sli] = d[sli][smi] = pathLength(sub)\n",
    "    return d,p               "
   ]
  },
  {
   "cell_type": "code",
   "execution_count": 23,
   "id": "1cb5edd0",
   "metadata": {},
   "outputs": [],
   "source": [
    "def roundtrips(x, n):\n",
    "    \n",
    "    def isElem(x, l):\n",
    "        for i in range(len(l)):\n",
    "            if l[i]==x:\n",
    "                return True\n",
    "        return False\n",
    "\n",
    "    def startpoint(trips):\n",
    "        for i in range(n):\n",
    "            for t in trips:\n",
    "                if isElem(i, t):\n",
    "                    break\n",
    "            else:\n",
    "                return i\n",
    "    \n",
    "    def totalLength(trips):\n",
    "        s=0\n",
    "        for i in range(0, len(trips)):\n",
    "            s += len(trips[i])-1\n",
    "        return s\n",
    "\n",
    "    trips = []\n",
    "    while totalLength(trips)<n:\n",
    "        start = startpoint(trips)\n",
    "        trip = [ start ]\n",
    "        i = start\n",
    "        while len(trip) < n-totalLength(trips):\n",
    "            for j in range(0, n):\n",
    "                if pulp.value(x[i][j])==1:\n",
    "                    trip.append(j)\n",
    "                    i=j\n",
    "                    break        \n",
    "            if pulp.value(x[trip[-1]][start])==1:\n",
    "                trip.append(start)\n",
    "                break\n",
    "        trips.append(trip)\n",
    "    return sorted(trips, key=lambda t: len(t), reverse=True)"
   ]
  },
  {
   "cell_type": "code",
   "execution_count": 24,
   "id": "ca3046bf",
   "metadata": {},
   "outputs": [],
   "source": [
    "def createLoop(M, T):\n",
    "    D, P = createTables(M, T)\n",
    "    n = len(T)\n",
    "    # create variables\n",
    "    x = pulp.LpVariable.dicts(\"x\", ( range(n), range(n) ),\n",
    "                            lowBound=0, upBound=1, cat=pulp.LpInteger)\n",
    "    # create problem\n",
    "    prob = pulp.LpProblem(\"Loop\",pulp.LpMinimize)\n",
    "    # add objective function\n",
    "    prob += pulp.lpSum([ D[i][j]*x[i][j] \n",
    "                             for i in range(n) for j in range(n) ])\n",
    "    # add constraints\n",
    "    constraints=0\n",
    "    for j in range(n):\n",
    "        prob += pulp.lpSum([ x[i][j] for i in range(n) if i!=j ]) ==1\n",
    "    constraints += n\n",
    "    for i in range(n):\n",
    "        prob += pulp.lpSum([ x[i][j] for j in range(n) if i!=j ]) ==1\n",
    "    constraints += n\n",
    "    for i in range(n):\n",
    "        for j in range(n):\n",
    "            if i!=j:\n",
    "                prob += x[i][j]+x[j][i] <= 1\n",
    "                constraints += 1\n",
    "    # initialise solver\n",
    "    solvers = pulp.listSolvers(onlyAvailable=True)\n",
    "    solver = pulp.getSolver(solvers[0], msg=0)\n",
    "    # print(f\"{constraints:d} Constraints\")\n",
    "    prob.solve(solver)\n",
    "    trips = roundtrips(x, n)\n",
    "    while len(trips)>1:\n",
    "        for t in trips:\n",
    "            prob += pulp.lpSum([ x[t[i]][t[i+1]] + x[t[i+1]][t[i]]\n",
    "                            for i in range(0,len(t)-1) ]) <= len(t)-2\n",
    "            constraints += 1\n",
    "        # print(f\"{constraints:d} Constraints\")\n",
    "        prob.solve(solver)\n",
    "        trips = roundtrips(x, n)\n",
    "    trip = trips[0]\n",
    "    # print(trip)\n",
    "    loop = []\n",
    "    for k in range(len(trip)-1):\n",
    "        sub = P[trip[k]][trip[k+1]]\n",
    "        loop += sub if len(loop)==0 else sub[1:]\n",
    "    return loop"
   ]
  },
  {
   "cell_type": "markdown",
   "id": "bec3cdad",
   "metadata": {},
   "source": [
    "## Step 3 : Time Handling Utilities"
   ]
  },
  {
   "cell_type": "markdown",
   "id": "5e25ee03",
   "metadata": {},
   "source": [
    "**Convention:** In this project we measure time in seconds. The simulation will start at 0:00. Time related methods will be added as they are needed."
   ]
  },
  {
   "cell_type": "markdown",
   "id": "16f63ffe",
   "metadata": {},
   "source": [
    "`timestamp(t)` generates a timestamp string in the form `[dd] hh:mm:ss.d`"
   ]
  },
  {
   "cell_type": "code",
   "execution_count": 25,
   "id": "18bd4eac",
   "metadata": {},
   "outputs": [],
   "source": [
    "def timestamp(t):\n",
    "    day = int(t)//(24*3600)\n",
    "    t = t - day*24*3600\n",
    "    hour = int(t)//3600\n",
    "    t = t - hour*3600\n",
    "    mins = int(t)//60\n",
    "    t = t - mins*60\n",
    "    secs = int(t)\n",
    "    t = int(round((t - secs)*10))\n",
    "    return f\"[{day:2d}] {hour:02d}:{mins:02d}:{secs:02d}.{t:1d}\""
   ]
  },
  {
   "cell_type": "code",
   "execution_count": 26,
   "id": "5199b4a5",
   "metadata": {},
   "outputs": [
    {
     "data": {
      "text/plain": [
       "'[ 3] 17:10:15.1'"
      ]
     },
     "execution_count": 26,
     "metadata": {},
     "output_type": "execute_result"
    }
   ],
   "source": [
    "timestamp(24*3600*3+17*3600+615.1)"
   ]
  },
  {
   "cell_type": "code",
   "execution_count": 27,
   "id": "01bb43a3",
   "metadata": {},
   "outputs": [],
   "source": [
    "def nextHour(env, hour):\n",
    "    beginningOfDay = int(env.now//(24*3600))*24*3600\n",
    "    timeOfDay = env.now-beginningOfDay\n",
    "    if hour*3600 > timeOfDay:\n",
    "        return hour*3600 - timeOfDay\n",
    "    else:\n",
    "        return hour*3600 + 24*3600 - timeOfDay"
   ]
  },
  {
   "cell_type": "code",
   "execution_count": 28,
   "id": "9ac9b646",
   "metadata": {},
   "outputs": [],
   "source": [
    "def day(now):\n",
    "    return int(now//(24*3600))"
   ]
  },
  {
   "cell_type": "markdown",
   "id": "6b6b73d8",
   "metadata": {},
   "source": [
    "## Step 4: Simulation Data Capturing Utilities"
   ]
  },
  {
   "cell_type": "markdown",
   "id": "f96dcecf",
   "metadata": {},
   "source": [
    "We will use a class Recorder as a reference point for capturing data during the simulation. There will be only one recorder. It will be created at the beginning of every simulation run. Every entity will carry a reference to the Recorder."
   ]
  },
  {
   "cell_type": "markdown",
   "id": "033d56eb",
   "metadata": {},
   "source": [
    "### 4.1 Class Recorder"
   ]
  },
  {
   "cell_type": "code",
   "execution_count": 29,
   "id": "5209f1c2",
   "metadata": {},
   "outputs": [],
   "source": [
    "class Recorder:\n",
    "    \n",
    "    def __init__(self, env, M, W, C, days, \n",
    "                 log=False, plot=False, timing=False):\n",
    "        self.env = env\n",
    "        self.M = M\n",
    "        self.W = W\n",
    "        self.C = C\n",
    "        self.days = days\n",
    "        self.log = log\n",
    "        self.plot = plot\n",
    "        \n",
    "        self.timing = timing\n",
    "        self.start_time = time.time()\n",
    "        self.last_time = self.start_time\n",
    "        self.cum_timer = {}\n",
    "\n",
    "        Customer.REGISTER = []\n",
    "        Parcel.REGISTER = []\n",
    "\n",
    "        # created a data frame for records per working day\n",
    "        self.daily = pd.DataFrame()\n",
    "        self.daily['begin work at'] = [None]*days\n",
    "        self.daily['end work at'] = [None]*days\n",
    "        self.daily['dist'] = [None]*days\n",
    "        self.daily['left'] = [None]*days\n",
    "\n",
    "    def timer(self, s):\n",
    "        t = time.time()\n",
    "        Δt = t-self.last_time\n",
    "        if self.timing:\n",
    "            print(f\"==== t: {t-self.start_time:6.2f}s \"\n",
    "                  f\"Δt: {Δt:6.2f}s [{s:s}]\")\n",
    "        if s in self.cum_timer:\n",
    "            self.cum_timer[s] += Δt\n",
    "        else:\n",
    "            self.cum_timer[s] = Δt\n",
    "        self.last_time = t\n",
    "\n",
    "    def reportTimer(self):\n",
    "        print(f\"==== t: {self.total_time:6.2f}s Total\")\n",
    "        for k in sorted(self.cum_timer, key=lambda x: self.cum_timer[x], reverse=True):\n",
    "            print(f\"==== ΣΔt: {self.cum_timer[k]:6.2f}s \"+ k)\n",
    "\n",
    "    def trace(self, event):\n",
    "        if self.log:\n",
    "            print(timestamp(self.env.now), event)\n",
    "\n",
    "    def recordDriverBeginsWork(self):\n",
    "        self.trace(\"Driver arrives for work\")\n",
    "        self.daily.at[day(self.env.now), 'begin work at'] = int(round(self.env.now))\n",
    "        \n",
    "    def recordDriverEndsWork(self):\n",
    "        self.trace(\"Driver goes home\")\n",
    "        self.daily.at[day(self.env.now), 'end work at'] = int(round(self.env.now))\n",
    "    \n",
    "    def recordTourLength(self, length):\n",
    "        self.daily.at[day(self.env.now), 'dist'] = int(length)\n",
    "\n",
    "    def recordParcelsLeftOver(self, numberOfParcels):\n",
    "        self.trace(f\"{numberOfParcels:d} left over for next day\")\n",
    "        self.daily.at[day(self.env.now), 'left'] = numberOfParcels\n",
    "\n",
    "    def finish(self):\n",
    "        self.total_time = time.time()-self.start_time\n",
    "        self.daily['working time'] = (self.daily['end work at']-self.daily['begin work at'])//60\n",
    "        # simulation is finished for good\n",
    "        # by removing the simulation environment we can\n",
    "        # pickle recorder\n",
    "        self.env = None\n",
    "        \n",
    "    def __stats__(self, column):\n",
    "        d = self.daily[column].copy()\n",
    "        return d.mean(), d.median(), d.std()\n",
    "        \n",
    "    def statsWorkingTime(self):\n",
    "        return self.__stats__('working time')\n",
    "        \n",
    "    def histWorkingTime(self):\n",
    "        histplot(self.daily['working time'],\n",
    "                 xlabel='Working Time [min]',\n",
    "                 title='Daily Working Time')\n",
    "        \n",
    "    def plotWorkingTime(self):\n",
    "        dailyPlot(self.daily['working time'],\n",
    "                  ylabel='Working Time [min]',\n",
    "                  title='Daily Working Time')\n",
    "\n",
    "    def statsTourLength(self):\n",
    "        return self.__stats__('dist')\n",
    "        \n",
    "    def histTourLength(self):\n",
    "        histplot(self.daily['dist'],\n",
    "                 xlabel='Tour Length [m]',\n",
    "                 title='Daily Tour Length')\n",
    "            \n",
    "    def plotTourLength(self):\n",
    "        dailyPlot(self.daily['dist'],\n",
    "                  ylabel='Tour Length [m]',\n",
    "                  title='Daily Tour Length')\n",
    "\n",
    "    def statsLeftOver(self):\n",
    "        return self.__stats__('left')\n",
    "        \n",
    "    def histLeftOver(self):\n",
    "        histplot(self.daily['left'],\n",
    "                 xlabel='Left-Over Parcels',\n",
    "                 title='Daily Left-Over Parcels')\n",
    "                \n",
    "    def plotLeftOver(self):\n",
    "        dailyPlot(self.daily['left'],\n",
    "                  ylabel='Number of Parcels',\n",
    "                  title='Daily Left-Over Parcels')"
   ]
  },
  {
   "cell_type": "markdown",
   "id": "9003321d",
   "metadata": {},
   "source": [
    "### 4.2 Class Parcel"
   ]
  },
  {
   "cell_type": "markdown",
   "id": "006f78e3",
   "metadata": {},
   "source": [
    "Parcels follow through a sequence of states:\n",
    "- processing\n",
    "- in transit (from manufacture to distribution centre)\n",
    "- arrived in distribution centre\n",
    "- ready for delivery \n",
    "- out for delivery\n",
    "- customer not present\n",
    "- returned to distribution centre\n",
    "- delivered"
   ]
  },
  {
   "cell_type": "code",
   "execution_count": 30,
   "id": "8026fd54",
   "metadata": {},
   "outputs": [],
   "source": [
    "class Parcel:\n",
    "    \n",
    "    REGISTER = []\n",
    "    \n",
    "    def __init__(self, rec, i, cust, custIndex):\n",
    "        self.rec = rec\n",
    "        self.i = i  # row index in data frames of input data\n",
    "        self.dest = cust.location\n",
    "        self.custIndex = custIndex\n",
    "        self.status = [ 'processing' ] # status record and\n",
    "        self.timing = [ self.rec.env.now ]      # timing\n",
    "        assert(len(Parcel.REGISTER)==i)\n",
    "        Parcel.REGISTER += [ self ] \n",
    "    \n",
    "    # factory method ensures that there is only\n",
    "    # one Parcel per location\n",
    "    def getParcel(rec, i, location, custIndex):\n",
    "        for p in Parcel.REGISTER:\n",
    "            if p.i == i:\n",
    "                return p\n",
    "        return Parcel(rec, i, location, custIndex)\n",
    "\n",
    "    \n",
    "    def __str__(self):\n",
    "        return f\"Parcel: {self.i:3d} ({self.custIndex:3d})\"\n",
    "\n",
    "    def index(self):\n",
    "        return self.i\n",
    "    \n",
    "    def destination(self):\n",
    "        return self.dest\n",
    "    \n",
    "    def __reg(self, state):\n",
    "        self.status += [ state ]\n",
    "        self.timing += [ self.rec.env.now ]\n",
    "        self.rec.trace(str(self)+\" \"+state)\n",
    "        \n",
    "    def arrivedAtDeliveryCentre(self):\n",
    "        self.__reg('arr at delivery centre')\n",
    "        \n",
    "    def outForDelivery(self): \n",
    "        self.__reg('out for delivery')\n",
    "        \n",
    "    def returnFromDelivery(self):\n",
    "        self.__reg('return from delivery')\n",
    "    "
   ]
  },
  {
   "cell_type": "markdown",
   "id": "5701bdff",
   "metadata": {},
   "source": [
    "### 4.3 Class Customer"
   ]
  },
  {
   "cell_type": "code",
   "execution_count": 31,
   "id": "366d1b8b",
   "metadata": {},
   "outputs": [],
   "source": [
    "class Customer:\n",
    "    \n",
    "    REGISTER = []\n",
    "\n",
    "    def __init__(self, rec, location):\n",
    "        self.rec = rec\n",
    "        self.location = location\n",
    "        self.i = len(Customer.REGISTER)\n",
    "        Customer.REGISTER += [ self ]\n",
    "        self.atHome = True\n",
    "        self.answersDoor = False\n",
    "        self.parcelsReceived = []\n",
    "        rec.env.process(self.process())\n",
    "        \n",
    "    def __str__(self):\n",
    "        return f\"Customer: {self.i:2d} {str(self.location):s}\"\n",
    "    \n",
    "    # factory method ensures that there is only\n",
    "    # one customer per location\n",
    "    def getCustomer(rec, location):\n",
    "        for c in Customer.REGISTER:\n",
    "            if c.location == location:\n",
    "                return c\n",
    "        return Customer(rec, location)\n",
    "    \n",
    "    def leaveHouse(self):\n",
    "        assert(self.atHome and not self.answersDoor)\n",
    "        # self.rec.trace(str(self)+\" leaves house\")\n",
    "        self.atHome = False\n",
    "     \n",
    "    def returnHome(self):\n",
    "        assert(not self.atHome)\n",
    "        # self.rec.trace(str(self)+\" returns home\")\n",
    "        self.atHome = True\n",
    "        \n",
    "    def answerDoor(self):\n",
    "        if self.atHome:\n",
    "            yield self.rec.env.timeout(random.expovariate(1/AVERAGE_TIME_ANSWER_DOOR))\n",
    "            self.rec.trace(str(self)+\" answers door\")\n",
    "            self.answersDoor = True\n",
    "        else:\n",
    "            yield self.rec.env.timeout(WAIT_TIME_IF_CUSTOMER_DOESNT_ANSWER_DOOR)\n",
    "            self.rec(str(self)+\" not at home\")\n",
    "            \n",
    "    def acceptParcel(self, parcel):\n",
    "        assert(self.answersDoor)\n",
    "        self.parcelsReceived += [parcel]\n",
    "        self.rec.trace(str(self)+\" accepts \"+str(parcel))\n",
    "        \n",
    "    def signOff(self):\n",
    "        assert(self.answersDoor)\n",
    "        self.rec.trace(str(self)+\" signs off\")\n",
    "        self.answersDoor = False\n",
    "        \n",
    "    def process(self):\n",
    "        yield self.rec.env.timeout(nextHour(self.rec.env, 8))\n",
    "        while day(self.rec.env.now)<self.rec.days:\n",
    "            # in a refinement we may use random times\n",
    "            self.leaveHouse()\n",
    "            yield self.rec.env.timeout(nextHour(self.rec.env, 18))\n",
    "            self.returnHome()\n",
    "            yield self.rec.env.timeout(nextHour(self.rec.env, 8))"
   ]
  },
  {
   "cell_type": "markdown",
   "id": "201fd4da",
   "metadata": {},
   "source": [
    "### 4.4 Class Driver"
   ]
  },
  {
   "cell_type": "code",
   "execution_count": 32,
   "id": "1ba152d6",
   "metadata": {},
   "outputs": [],
   "source": [
    "class Driver:\n",
    "    \n",
    "    def __init__(self, rec, DC):\n",
    "        self.rec = rec\n",
    "        self.DC = DC\n",
    "        self.location = None\n",
    "        self.parcels = None\n",
    "        self.tour = None\n",
    "        self.rec.env.process(self.process())\n",
    "        \n",
    "    # activity\n",
    "    def __drive(self, target):\n",
    "        assert(self.tour[0] == self.location)\n",
    "        while self.location!=target:\n",
    "            d = dist(self.location, self.tour[1])\n",
    "            yield self.rec.env.timeout(d / AVERAGE_SPEED)\n",
    "            self.location = self.tour[1]\n",
    "            self.tour = self.tour[1:]\n",
    "        assert(self.tour[0] == self.location == target)\n",
    "    \n",
    "    def arriveForWork(self):\n",
    "        self.location = self.DC.W\n",
    "        self.parcels = []\n",
    "        self.returns = []\n",
    "        self.tour = [ self.DC.W ]\n",
    "        self.rec.recordDriverBeginsWork()\n",
    "        \n",
    "    def leaveForDelivery(self, tour, parcels):\n",
    "        self.tour, self.parcels = tour, parcels\n",
    "        self.rec.trace(f\"Driver leaves for delivery \" \\\n",
    "                       f\"of {len(parcels):d} parcels\")\n",
    "        \n",
    "    def process(self):\n",
    "        yield self.rec.env.timeout(nextHour(self.rec.env, 18))\n",
    "        while day(self.rec.env.now)<self.rec.days:\n",
    "            self.arriveForWork()\n",
    "            tour, parcels = self.DC.sendForDelivery()\n",
    "            yield self.rec.env.timeout(PREP_TIME_PER_PARCEL*len(parcels))\n",
    "            self.rec.recordTourLength(pathLength(tour))\n",
    "            self.leaveForDelivery(tour, parcels)        \n",
    "            while len(self.parcels)>0:\n",
    "                # drive to customer\n",
    "                custLocation = self.parcels[0].dest\n",
    "                cust = Customer.getCustomer(self.rec, custLocation)\n",
    "                self.rec.trace(\"Driver drives to \"+str(cust))\n",
    "                yield from self.__drive(custLocation)\n",
    "                self.rec.trace(\"Driver arrived at \"+str(cust))\n",
    "                # call at customer\n",
    "                yield from cust.answerDoor()\n",
    "                \n",
    "                if cust.answersDoor:\n",
    "                    while len(self.parcels)>0 and \\\n",
    "                            custLocation == self.parcels[0].dest:\n",
    "                        cust.acceptParcel(self.parcels[0])\n",
    "                        yield self.rec.env.timeout(random.expovariate(1/10))\n",
    "                        self.parcels = self.parcels[1:]\n",
    "                    cust.signOff()\n",
    "                    yield self.rec.env.timeout(random.expovariate(1/10))\n",
    "                else:\n",
    "                    while len(self.parcels)>0 and  \\\n",
    "                            custLocation == self.parcels[0].dest:\n",
    "                        self.returns += self.parcels[0]\n",
    "                        self.parcels = self.parcels[1:]\n",
    "\n",
    "            # return to delivery centre\n",
    "            self.rec.trace(\"Driver returns to delivery centre\")\n",
    "            yield from self.__drive(self.DC.W)\n",
    "            self.rec.trace(\"Driver arrived at delivery centre\")\n",
    "            \n",
    "            for parcel in self.returns:\n",
    "                self.DC.returnFromDelivery(parcel)\n",
    "                yield self.rec.env.timeout(RETURN_TIME_PER_PARCEL)\n",
    "            yield self.rec.env.timeout(600)\n",
    "                    \n",
    "            self.rec.recordParcelsLeftOver(len(self.DC.parcels)+\n",
    "                                           len(self.DC.leftOver))\n",
    "\n",
    "            self.rec.recordDriverEndsWork()\n",
    "            \n",
    "            self.rec.trace(self.DC.inventory())\n",
    "            \n",
    "            yield self.rec.env.timeout(nextHour(self.rec.env, 18))"
   ]
  },
  {
   "cell_type": "markdown",
   "id": "863c6203",
   "metadata": {},
   "source": [
    "### 4.5 Class Delivery Centre"
   ]
  },
  {
   "cell_type": "code",
   "execution_count": 33,
   "id": "11025355",
   "metadata": {},
   "outputs": [],
   "source": [
    "class DeliveryCentre:\n",
    "    \n",
    "    def __init__(self, rec, M, W):\n",
    "        self.rec = rec\n",
    "        self.M = M\n",
    "        self.W = W\n",
    "        self.limit = 35000\n",
    "        \n",
    "        \n",
    "        self.leftOver = []    # list of parcels\n",
    "        self.parcels = []     # list of parcels scheduled for delivery\n",
    "        self.dest = []        # list of unique customer destinations\n",
    "        self.tour = [W]       # tour planned for delivery\n",
    "        \n",
    "    def __accept(self, parcel):\n",
    "        custLoc = parcel.dest\n",
    "        if custLoc not in self.dest:\n",
    "            start_time = time.time()\n",
    "            MT = addTargets(self.M, self.dest + [custLoc])\n",
    "            self.rec.timer(\"addTarget\")\n",
    "            S = createLoop(MT, [self.W] + self.dest + [custLoc])\n",
    "            self.rec.timer(\"createLoop\")\n",
    "            if pathLength(S)<self.limit:\n",
    "                self.parcels.append(parcel)\n",
    "                self.dest += [custLoc]\n",
    "                self.tour = S\n",
    "            else:\n",
    "                self.leftOver.append(parcel)\n",
    "        else:\n",
    "            self.parcels.append(parcel)\n",
    "        \n",
    "    def acceptParcel(self, parcel):\n",
    "        parcel.arrivedAtDeliveryCentre()\n",
    "        self.__accept(parcel)\n",
    "            \n",
    "    def sendForDelivery(self):\n",
    "        parcels = []\n",
    "        tour = self.tour\n",
    "        addresses = self.dest\n",
    "        \n",
    "        # pick parcels in sequence to be delivered\n",
    "        for i in range(1, len(tour)-1):\n",
    "            dest = tour[i]\n",
    "            for p in self.parcels:\n",
    "                if p.dest == dest and p not in parcels:\n",
    "                    parcels += [p]\n",
    "                    p.outForDelivery()\n",
    "         \n",
    "        # arrange the left overs\n",
    "        L = self.leftOver\n",
    "        self.tour = [self.W]\n",
    "        self.parcels = []\n",
    "        self.leftOver = []\n",
    "        self.dest = []\n",
    "        for p in L:\n",
    "            self.__accept(p)\n",
    "        \n",
    "        if self.rec.plot:\n",
    "            plotMap(self.rec.M, T=addresses, P=tour, W=tour[0], \n",
    "                    text=f\"Day {day(self.rec.env.now):2d}, {pathLength(tour):,d}m\")\n",
    "\n",
    "        return tour, parcels\n",
    "                 \n",
    "    def returnFromDelivery(self, parcel):\n",
    "        parcel.returnFromDelivery()\n",
    "        self.__accept(parcel)\n",
    "\n",
    "    def getInventory(self):\n",
    "        acc = \"\"\n",
    "        for p in self.parcels:\n",
    "            if len(acc)>0:\n",
    "                acc += \", \"\n",
    "            acc += f\"{p.custIndex:d}\"\n",
    "        acc += \" / \"\n",
    "        for p in self.leftOver:\n",
    "            if len(acc)>0:\n",
    "                acc += \", \"\n",
    "            acc += f\"{p.custIndex:d}\"\n",
    "        return acc\n",
    "        \n",
    "    def inventory(self):\n",
    "        return f\"Delivery Centre Inventory: \" \\\n",
    "               f\"{len(self.parcels)+len(self.leftOver):d}\""
   ]
  },
  {
   "cell_type": "markdown",
   "id": "2c7a0e3a",
   "metadata": {},
   "source": [
    "## Step 5 : Simulation"
   ]
  },
  {
   "cell_type": "markdown",
   "id": "3286d097",
   "metadata": {},
   "source": [
    "### 5.1 Parameters from Specification"
   ]
  },
  {
   "cell_type": "markdown",
   "id": "a57d3d68",
   "metadata": {},
   "source": [
    "The time required for driving is based on the distance between way points at an average speed of 15km/h."
   ]
  },
  {
   "cell_type": "code",
   "execution_count": 34,
   "id": "0588d273",
   "metadata": {},
   "outputs": [],
   "source": [
    "AVERAGE_SPEED = 15/3.6"
   ]
  },
  {
   "cell_type": "markdown",
   "id": "0f2aaf96",
   "metadata": {},
   "source": [
    "The **cumulative preparation time** (route planning and \n",
    "sorting of the parcels in the delivery order and \n",
    "packing the cargo-bike) is assumed to be 50 sec per \n",
    "parcel to be delivered."
   ]
  },
  {
   "cell_type": "code",
   "execution_count": 35,
   "id": "3ac021f5",
   "metadata": {},
   "outputs": [],
   "source": [
    "PREP_TIME_PER_PARCEL = 50"
   ]
  },
  {
   "cell_type": "markdown",
   "id": "e8c7a21d",
   "metadata": {},
   "source": [
    "**Additional assumption:** The time to **process returned parcels** in the delivery centre is 30 sec per parcel. "
   ]
  },
  {
   "cell_type": "code",
   "execution_count": 36,
   "id": "3b0f1e4f",
   "metadata": {},
   "outputs": [],
   "source": [
    "RETURN_TIME_PER_PARCEL = 30"
   ]
  },
  {
   "cell_type": "markdown",
   "id": "85af2808",
   "metadata": {},
   "source": [
    "The average time to answer the door."
   ]
  },
  {
   "cell_type": "code",
   "execution_count": 37,
   "id": "1a3ce828",
   "metadata": {},
   "outputs": [],
   "source": [
    "AVERAGE_TIME_ANSWER_DOOR = 40"
   ]
  },
  {
   "cell_type": "code",
   "execution_count": 38,
   "id": "7b7e0fce",
   "metadata": {},
   "outputs": [],
   "source": [
    "WAIT_TIME_IF_CUSTOMER_DOESNT_ANSWER_DOOR = 60"
   ]
  },
  {
   "cell_type": "markdown",
   "id": "7b41a103",
   "metadata": {},
   "source": [
    "Now, we will use the Delivery data generated for simulation earlier for the coming steps. "
   ]
  },
  {
   "cell_type": "markdown",
   "id": "26f9f923",
   "metadata": {},
   "source": [
    "### 5.2 Generate input data for simulation"
   ]
  },
  {
   "cell_type": "code",
   "execution_count": 39,
   "id": "b8ed9c6d",
   "metadata": {},
   "outputs": [],
   "source": [
    "## generate input data for simulation\n",
    "def generateInputData(D, log=False):\n",
    "\n",
    "    R = [ len(d) for d in D ]\n",
    "    N = sum(R)\n",
    "    \n",
    "    DAY_LENGTH = 24*3600    # measured in minutes\n",
    "    DAY_START = 8*3600      # first delivery in the morning\n",
    "    DAY_END = 17*3600     # last delivery during day time\n",
    "\n",
    "    x = pd.DataFrame()\n",
    "\n",
    "    x['iarr'] = [None]*N\n",
    "    x['time'] = [None]*N\n",
    "    x['day'] = [None]*N\n",
    "    x['dest'] = [None]*N\n",
    "\n",
    "    current_day = 0\n",
    "    last_time = 0\n",
    "    i = 0\n",
    "\n",
    "    for d in D: # for each day\n",
    "\n",
    "        if log:\n",
    "            print(\"generating for day: \",current_day, D[current_day])\n",
    "            \n",
    "        time = current_day*DAY_LENGTH + DAY_START \n",
    "\n",
    "        for c in d: # for each customer that should get a \n",
    "\n",
    "            IARR = (DAY_END-DAY_START-2*3600) / len(d)  # estimated average IAT for the current day\n",
    "\n",
    "            iat = random.expovariate(1.0/IARR)\n",
    "            new_time = time + iat\n",
    "\n",
    "            x.at[i, 'iarr'] = round(new_time - last_time,1)\n",
    "            x.at[i, 'time'] = round(new_time - current_day*DAY_LENGTH , 1)\n",
    "            x.at[i, 'day'] = current_day\n",
    "            x.at[i, 'dest'] = c\n",
    "            \n",
    "            i += 1\n",
    "            last_time = time = new_time\n",
    "    \n",
    "        current_day += 1\n",
    "    \n",
    "    return x"
   ]
  },
  {
   "cell_type": "markdown",
   "id": "f31acfa0",
   "metadata": {},
   "source": [
    "### 5.3 Simulation Routine"
   ]
  },
  {
   "cell_type": "code",
   "execution_count": 40,
   "id": "7ec5693a",
   "metadata": {},
   "outputs": [],
   "source": [
    "def simulation(M, W, C, p=0.2, days=10, seed=0, \n",
    "               title=None, log=False, plot=False, timing=False):\n",
    "\n",
    "    if timing:\n",
    "        start_time = time.time()\n",
    "        \n",
    "    random.seed(seed)\n",
    "    D = generateDeliveryData(p, C, days, seed)\n",
    "    X = generateInputData(D, log=log)\n",
    "    \n",
    "    env = simpy.Environment()\n",
    "    rec = Recorder(env, M, W, C, days, log=log, plot=plot, timing=timing)\n",
    "\n",
    "    if title is not None:\n",
    "        print(title)\n",
    "    else:\n",
    "        print(f\"Simulating delivery of {len(X):d} parcels \"\n",
    "              f\"over {len(D):d} days to {len(C):d} customers\")\n",
    "\n",
    "    for c in C:\n",
    "        Customer.getCustomer(rec, c)           \n",
    "    DC = DeliveryCentre(rec, M, W)\n",
    "    D = Driver(rec, DC)\n",
    "\n",
    "    def generatorProcess(env):\n",
    "        # generate the parcels based on input data x\n",
    "        for i in range(len(X)):\n",
    "            yield env.timeout(X.at[i, 'iarr'])\n",
    "            custIndex = X.at[i, 'dest']\n",
    "            custLoc = C[custIndex]\n",
    "            cust = Customer.getCustomer(rec, custLoc)\n",
    "            p = Parcel.getParcel(rec, i, cust, custIndex)\n",
    "            DC.acceptParcel(p)\n",
    "\n",
    "    env.process(generatorProcess(env))\n",
    "    env.run()\n",
    "\n",
    "    if log:\n",
    "        print(DC.inventory())\n",
    "\n",
    "    rec.finish()\n",
    "    return rec"
   ]
  },
  {
   "cell_type": "markdown",
   "id": "92cf0db4",
   "metadata": {},
   "source": [
    "## Step 6 : Optimisation"
   ]
  },
  {
   "cell_type": "code",
   "execution_count": 41,
   "id": "2fc870be",
   "metadata": {},
   "outputs": [],
   "source": [
    "import os\n",
    "\n",
    "def generateWarehouseLocations(M, p):\n",
    "\n",
    "    def numberOfEdges(v, E):\n",
    "        count = 0\n",
    "        for e in E:\n",
    "            if e[0]==v or e[1]==v:\n",
    "                count += 1\n",
    "        return count\n",
    "\n",
    "    V, E = M\n",
    "    W = [ v for v in V if numberOfEdges(v, E)>2 ]\n",
    "    return random.sample(W, k=int(round(len(W)*p)))\n",
    "\n",
    "def formatLocation(w):\n",
    "    return f\"({w[0]:4d},{w[1]:4d})\"\n",
    "    \n",
    "def objectiveFunction(w, seed,days,p):\n",
    "    random.seed(seed)\n",
    "    title = \"Simulate Delivery from Warehouse \"+formatLocation(w)\n",
    "    rec = simulation(M, w, C, p=p, days=days, title=title)\n",
    "    filename = \"recorder/rec_w=\"+formatLocation(w)+\".pickled\"\n",
    "    \n",
    "    # Check if directory exists, if not, create it\n",
    "    directory = os.path.dirname(filename)\n",
    "    if not os.path.exists(directory):\n",
    "        os.makedirs(directory)\n",
    "    \n",
    "    with open(filename, 'wb') as f:\n",
    "        pickle.dump(rec, f)\n",
    "    return rec.statsTourLength()[0] # mean tour length\n",
    "\n",
    "\n",
    "def monteCarlo(M, p, days,seed):#changed\n",
    "\n",
    "    W = generateWarehouseLocations(M, p)\n",
    "    plotMap(M, T=W, styleT='bo', msT=7, \n",
    "            text=\"Warehouse Candidate Positions\")\n",
    "\n",
    "    minW, minP = None, math.inf\n",
    "    for w in W:\n",
    "        f = objectiveFunction(w,seed,days,p)#added p\n",
    "        if f < minP:\n",
    "            print(f\"  improved position:   {formatLocation(w):s} f={f:7.2f}\")\n",
    "            minW, minP = [w], f\n",
    "        elif f == minP:\n",
    "            print(f\"  equivalent position: {formatLocation(w):s} f={f:7.2f}\")\n",
    "            minW.append(w)\n",
    "            \n",
    "    return minW"
   ]
  },
  {
   "cell_type": "code",
   "execution_count": 42,
   "id": "fc568e6a",
   "metadata": {},
   "outputs": [],
   "source": [
    "#open test data\n",
    "with open('customer_data.pickled', 'rb') as f:\n",
    "    M, C = pickle.load(f)"
   ]
  },
  {
   "cell_type": "code",
   "execution_count": 43,
   "id": "9347a2d4",
   "metadata": {
    "scrolled": false
   },
   "outputs": [
    {
     "data": {
      "image/png": "[encoded data removed]",
      "text/plain": [
       "<Figure size 600x600 with 1 Axes>"
      ]
     },
     "metadata": {},
     "output_type": "display_data"
    },
    {
     "name": "stdout",
     "output_type": "stream",
     "text": [
      "Simulate Delivery from Warehouse (6800,5120)\n",
      "  improved position:   (6800,5120) f=31822.20\n",
      "Simulate Delivery from Warehouse (4000,4560)\n",
      "  improved position:   (4000,4560) f=31681.20\n",
      "Simulate Delivery from Warehouse (5120,4000)\n",
      "Simulate Delivery from Warehouse (4560,4560)\n",
      "Simulate Delivery from Warehouse (2320,2320)\n",
      "  improved position:   (2320,2320) f=31444.50\n",
      "Simulate Delivery from Warehouse (4560,2320)\n",
      "Simulate Delivery from Warehouse (7360,4560)\n",
      "Simulate Delivery from Warehouse (1200,2880)\n",
      "  improved position:   (1200,2880) f=31428.50\n",
      "Simulate Delivery from Warehouse (3440,5680)\n",
      "Simulate Delivery from Warehouse (2880,4560)\n"
     ]
    },
    {
     "data": {
      "image/png": "[encoded data removed]",
      "text/plain": [
       "<Figure size 600x600 with 1 Axes>"
      ]
     },
     "metadata": {},
     "output_type": "display_data"
    }
   ],
   "source": [
    "seed=8268# for warehouse locations\n",
    "random.seed(seed)\n",
    "W = monteCarlo(M, p = 0.15, days=10 ,seed=seed)#changed p to 0.15\n",
    "plotMap(M, T=W, styleT='bo', msT=7, text='Best Warehouse Positions')"
   ]
  },
  {
   "cell_type": "code",
   "execution_count": 49,
   "id": "20ec1f03",
   "metadata": {},
   "outputs": [],
   "source": [
    "#open test data\n",
    "with open(r'recorder/rec_w=(1200,2880).pickled', 'rb') as f:\n",
    "    recorder_optimised=pickle.load(f)"
   ]
  },
  {
   "cell_type": "code",
   "execution_count": null,
   "id": "4b756632",
   "metadata": {},
   "outputs": [],
   "source": []
  },
  {
   "cell_type": "code",
   "execution_count": 50,
   "id": "5abd0b25",
   "metadata": {},
   "outputs": [
    {
     "data": {
      "image/png": "[encoded data removed]",
      "text/plain": [
       "<Figure size 400x250 with 1 Axes>"
      ]
     },
     "metadata": {},
     "output_type": "display_data"
    },
    {
     "data": {
      "image/png": "[encoded data removed]",
      "text/plain": [
       "<Figure size 600x200 with 1 Axes>"
      ]
     },
     "metadata": {},
     "output_type": "display_data"
    },
    {
     "data": {
      "text/plain": [
       "(174.7, 178.5, 23.69739788809452)"
      ]
     },
     "execution_count": 50,
     "metadata": {},
     "output_type": "execute_result"
    }
   ],
   "source": [
    "recorder_optimised.histWorkingTime()\n",
    "recorder_optimised.plotWorkingTime()\n",
    "recorder_optimised.statsWorkingTime()"
   ]
  },
  {
   "cell_type": "code",
   "execution_count": 51,
   "id": "957e7b89",
   "metadata": {
    "scrolled": false
   },
   "outputs": [
    {
     "data": {
      "image/png": "[encoded data removed]",
      "text/plain": [
       "<Figure size 400x250 with 1 Axes>"
      ]
     },
     "metadata": {},
     "output_type": "display_data"
    },
    {
     "data": {
      "image/png": "[encoded data removed]",
      "text/plain": [
       "<Figure size 600x200 with 1 Axes>"
      ]
     },
     "metadata": {},
     "output_type": "display_data"
    },
    {
     "data": {
      "text/plain": [
       "(31428.5, 32681.0, 3850.563284911847)"
      ]
     },
     "execution_count": 51,
     "metadata": {},
     "output_type": "execute_result"
    }
   ],
   "source": [
    "recorder_optimised.histTourLength()\n",
    "recorder_optimised.plotTourLength()\n",
    "recorder_optimised.statsTourLength()"
   ]
  },
  {
   "cell_type": "code",
   "execution_count": 52,
   "id": "d2c8325e",
   "metadata": {},
   "outputs": [
    {
     "data": {
      "image/png": "[encoded data removed]",
      "text/plain": [
       "<Figure size 400x250 with 1 Axes>"
      ]
     },
     "metadata": {},
     "output_type": "display_data"
    },
    {
     "data": {
      "image/png": "[encoded data removed]",
      "text/plain": [
       "<Figure size 600x200 with 1 Axes>"
      ]
     },
     "metadata": {},
     "output_type": "display_data"
    },
    {
     "data": {
      "text/plain": [
       "(1.6, 1.0, 1.7126976771553508)"
      ]
     },
     "execution_count": 52,
     "metadata": {},
     "output_type": "execute_result"
    }
   ],
   "source": [
    "recorder_optimised.histLeftOver()\n",
    "recorder_optimised.plotLeftOver()\n",
    "recorder_optimised.statsLeftOver()"
   ]
  },
  {
   "cell_type": "code",
   "execution_count": null,
   "id": "30b50618",
   "metadata": {
    "scrolled": true
   },
   "outputs": [],
   "source": [
    "recorder_optimised.reportTimer()"
   ]
  },
  {
   "cell_type": "code",
   "execution_count": null,
   "id": "05b8a21d",
   "metadata": {},
   "outputs": [],
   "source": [
    "recorder_optimised.tableParcelDelay()\n",
    "recorder_optimised.barplotParcelDelay()"
   ]
  },
  {
   "cell_type": "code",
   "execution_count": null,
   "id": "132f7cd1",
   "metadata": {},
   "outputs": [],
   "source": [
    "recorder_optimised.plotLeftOver()"
   ]
  },
  {
   "cell_type": "code",
   "execution_count": null,
   "id": "d8fe28e4",
   "metadata": {},
   "outputs": [],
   "source": []
  }
 ],
 "metadata": {
  "kernelspec": {
   "display_name": "Python 3 (ipykernel)",
   "language": "python",
   "name": "python3"
  },
  "language_info": {
   "codemirror_mode": {
    "name": "ipython",
    "version": 3
   },
   "file_extension": ".py",
   "mimetype": "text/x-python",
   "name": "python",
   "nbconvert_exporter": "python",
   "pygments_lexer": "ipython3",
   "version": "3.11.5"
  }
 },
 "nbformat": 4,
 "nbformat_minor": 5
}
