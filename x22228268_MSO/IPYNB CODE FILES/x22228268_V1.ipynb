{
 "cells": [
  {
   "cell_type": "markdown",
   "id": "0e8d1a0a",
   "metadata": {},
   "source": [
    "# Dhruv Sharma"
   ]
  },
  {
   "cell_type": "markdown",
   "id": "9ffc501b",
   "metadata": {},
   "source": [
    "# x22228268"
   ]
  },
  {
   "cell_type": "markdown",
   "id": "387456fc",
   "metadata": {},
   "source": [
    "Importing libraries\n"
   ]
  },
  {
   "cell_type": "code",
   "execution_count": 1,
   "id": "9b82c0b3",
   "metadata": {},
   "outputs": [],
   "source": [
    "# Importing Matplotlib for data visualization\n",
    "import matplotlib.pyplot as plt  \n",
    "# Importing math module for mathematical operations\n",
    "import math  \n",
    "# Importing random module for generating random numbers\n",
    "import random  \n",
    "# Importing NumPy for numerical computations\n",
    "import numpy as np  \n",
    "# Importing pickle for serializing and deserializing Python objects\n",
    "import pickle \n",
    "# Importing SimPy for discrete-event simulation\n",
    "import simpy  \n",
    "# Importing time module for time-related functions\n",
    "import time  \n",
    "# Importing PuLP for linear programming\n",
    "import pulp  \n",
    "# Importing pandas for data manipulation and analysis\n",
    "import pandas as pd  "
   ]
  },
  {
   "cell_type": "markdown",
   "id": "8bfa11c0",
   "metadata": {},
   "source": [
    "## 1 Utilities"
   ]
  },
  {
   "cell_type": "markdown",
   "id": "eac69a88",
   "metadata": {},
   "source": [
    "### 1.1 Measuring Points and Distances"
   ]
  },
  {
   "cell_type": "markdown",
   "id": "840af6d5",
   "metadata": {},
   "source": [
    "#### Measuring the euclidean distance between two points."
   ]
  },
  {
   "cell_type": "code",
   "execution_count": 2,
   "id": "08b93aaa",
   "metadata": {},
   "outputs": [],
   "source": [
    "def dist(p1, p2):\n",
    "    \"\"\"\n",
    "    Function to calculate the Euclidean distance between two points.\n",
    "\n",
    "    Parameters:\n",
    "    - p1: Tuple representing the coordinates of the first point (x1, y1).\n",
    "    - p2: Tuple representing the coordinates of the second point (x2, y2).\n",
    "\n",
    "    Returns:\n",
    "    - int: Euclidean distance between the two points.\n",
    "    \"\"\"\n",
    "    (x1, y1) = p1\n",
    "    (x2, y2) = p2\n",
    "    return int(math.sqrt((x1-x2)**2+(y1-y2)**2))"
   ]
  },
  {
   "cell_type": "markdown",
   "id": "6860b5e9",
   "metadata": {},
   "source": [
    "#### Finding the nearest link between two points."
   ]
  },
  {
   "cell_type": "code",
   "execution_count": 3,
   "id": "185fe488",
   "metadata": {},
   "outputs": [],
   "source": [
    "def nearest(X, P):\n",
    "    \"\"\"\n",
    "    Function to find the nearest link between two sets of points.\n",
    "\n",
    "    Parameters:\n",
    "    - X: List of tuples representing the coordinates of the first set of points.\n",
    "    - P: List of tuples representing the coordinates of the second set of points.\n",
    "\n",
    "    Returns:\n",
    "    - Tuple: (minX, minP), where minX is the point from set X and minP is the point from set P that form the nearest link.\n",
    "    \"\"\"\n",
    "    minD = math.inf\n",
    "    minP = None\n",
    "    for p in P:\n",
    "        for x in X:\n",
    "            d = dist(x, p)\n",
    "            if d < minD:\n",
    "                minX, minP, minD = x, p, d\n",
    "    return minX, minP"
   ]
  },
  {
   "cell_type": "markdown",
   "id": "67609f0c",
   "metadata": {},
   "source": [
    "### 1.2 Graphs"
   ]
  },
  {
   "cell_type": "code",
   "execution_count": 4,
   "id": "edc62185",
   "metadata": {},
   "outputs": [],
   "source": [
    "def generateRandomGraph(n, x0, y0, r):\n",
    "    \"\"\"\n",
    "    Function to generate a random graph with specified parameters.\n",
    "\n",
    "    Parameters:\n",
    "    - n: Number of vertices (points) in the graph.\n",
    "    - x0: x-coordinate of the center of the graph.\n",
    "    - y0: y-coordinate of the center of the graph.\n",
    "    - r: Radius of the graph (maximum distance from the center).\n",
    "\n",
    "    Returns:\n",
    "    - Tuple: (P, E), where P is a sorted list of vertices and E is a sorted list of edges represented as tuples of vertices.\n",
    "    \"\"\"\n",
    "    def rounding(x):\n",
    "        return int(math.floor(x/10))*10\n",
    "\n",
    "    x0 = rounding(x0)\n",
    "    y0 = rounding(y0)\n",
    "    gridsize = rounding(r / math.sqrt(n) * 1.4)\n",
    "    r = int(math.floor(r/gridsize))*gridsize\n",
    "    split = int(2*r/gridsize)+1\n",
    "    X = np.linspace(x0-r, x0+r, split)\n",
    "    Y = np.linspace(y0-r, y0+r, split)\n",
    "    P = [ (int(x), int(y)) for x in X for y in Y if dist((x,y), (x0,y0)) < r ]\n",
    "    P = random.sample(P, k=n)\n",
    "    \n",
    "    E = []\n",
    "    \n",
    "    def addEdge(p, q):\n",
    "        if p in P and q in P and (p, q) not in E and (q, p) not in E:\n",
    "            E.append((p, q))\n",
    "    def addDiagonalEdge(p, q):\n",
    "        (xp, yp) = p\n",
    "        (xq, yq) = q\n",
    "        if p in P and q in P and (xp, yq) not in P and (xq, yp) not in P and (p, q) not in E and (q, p) not in E:\n",
    "            E.append((p, q))\n",
    "            \n",
    "    for (x, y) in P:\n",
    "        addEdge( (x, y), (x, y+gridsize) )\n",
    "        addEdge( (x, y), (x, y-gridsize) )\n",
    "        addEdge( (x, y), (x+gridsize, y) )\n",
    "        addEdge( (x, y), (x-gridsize, y) )\n",
    "        addDiagonalEdge( (x, y), (x+gridsize, y+gridsize) )\n",
    "        addDiagonalEdge( (x, y), (x+gridsize, y-gridsize) )\n",
    "        addDiagonalEdge( (x, y), (x-gridsize, y+gridsize) )\n",
    "        addDiagonalEdge( (x, y), (x-gridsize, y-gridsize) )\n",
    "        \n",
    "    return sorted(P), sorted(E)"
   ]
  },
  {
   "cell_type": "code",
   "execution_count": 5,
   "id": "81a0a1e7",
   "metadata": {},
   "outputs": [],
   "source": [
    "def plotGraph(P, E, col='b', grid=False):\n",
    "    \"\"\"\n",
    "    Function to plot a graph represented by vertices and edges.\n",
    "\n",
    "    Parameters:\n",
    "    - P: List of vertices (points) in the graph.\n",
    "    - E: List of edges in the graph, represented as tuples of vertices.\n",
    "    - col: Color for plotting vertices and edges (default is 'b' for blue).\n",
    "    - grid: Boolean indicating whether to show grid lines on the plot (default is False).\n",
    "\n",
    "    Returns:\n",
    "    - None\n",
    "    \"\"\"\n",
    "    if not grid:\n",
    "        plt.axis('off')\n",
    "    plt.plot( [ p[0] for p in P ], [ p[1] for p in P ], col+'o', lw=1, ms=3)\n",
    "    for (p, q) in E:\n",
    "        plt.plot( [ p[0], q[0] ], [ p[1], q[1] ], col+'-o', lw=1, ms=3)\n",
    "    if grid:\n",
    "        plt.grid()"
   ]
  },
  {
   "cell_type": "markdown",
   "id": "d814d6b9",
   "metadata": {},
   "source": [
    "#### Splitting the graph into not connected subgraphs, if any."
   ]
  },
  {
   "cell_type": "code",
   "execution_count": 6,
   "id": "773e31b3",
   "metadata": {},
   "outputs": [],
   "source": [
    "def subgraph(P, E):\n",
    "    \"\"\"\n",
    "    Function to split the graph into not connected subgraphs, if any.\n",
    "\n",
    "    Parameters:\n",
    "    - P: List of vertices (points) in the graph.\n",
    "    - E: List of edges in the graph, represented as tuples of vertices.\n",
    "\n",
    "    Returns:\n",
    "    - Tuple: (PP, EE, P_left, E_left), where PP is the list of vertices in the connected subgraph,\n",
    "             EE is the list of edges in the connected subgraph, P_left is the list of vertices\n",
    "             not included in any subgraph, and E_left is the list of edges not included in any subgraph.\n",
    "    \"\"\"\n",
    "    P = P.copy()\n",
    "    E = E.copy()\n",
    "    PP = [ P[0] ] \n",
    "    EE = []\n",
    "    P = P[1:]\n",
    "    extended = True\n",
    "    while extended:\n",
    "        extended = False\n",
    "        for (a, b) in E:\n",
    "            if a in PP and b in P:\n",
    "                PP.append(b)\n",
    "                P.remove(b)\n",
    "                EE.append((a, b))\n",
    "                E.remove((a, b))\n",
    "                extended = True\n",
    "                break\n",
    "            if a in P and b in PP:\n",
    "                PP.append(a)\n",
    "                P.remove(a)\n",
    "                EE.append((a, b))\n",
    "                E.remove((a, b))\n",
    "                extended = True\n",
    "                break\n",
    "            if a in PP and b in PP:\n",
    "                EE.append((a, b))\n",
    "                E.remove((a, b))\n",
    "                extended = True\n",
    "                break\n",
    "    return PP, EE, P, E"
   ]
  },
  {
   "cell_type": "code",
   "execution_count": 7,
   "id": "24171700",
   "metadata": {},
   "outputs": [],
   "source": [
    "def generateGraph(n, x0, y0, r):\n",
    "    \"\"\"\n",
    "    Function to generate a connected graph.\n",
    "\n",
    "    Parameters:\n",
    "    - n: Number of vertices (points) in the graph.\n",
    "    - x0: x-coordinate of the center of the graph.\n",
    "    - y0: y-coordinate of the center of the graph.\n",
    "    - r: Radius of the graph (maximum distance from the center).\n",
    "\n",
    "    Returns:\n",
    "    - Tuple: (P, E), where P is a list of vertices and E is a list of edges represented as tuples of vertices,\n",
    "             forming a connected graph.\n",
    "    \"\"\"\n",
    "    P, E = generateRandomGraph(n, x0, y0, r)\n",
    "    P0, _, P1, _ = subgraph(P, E)\n",
    "    while len(P1) > 0:\n",
    "        (p, q) = nearest(P0, P1)\n",
    "        E.append((p, q))\n",
    "        P0, _, P1, _ = subgraph(P, E)\n",
    "    return P, E"
   ]
  },
  {
   "cell_type": "code",
   "execution_count": 8,
   "id": "f882330c",
   "metadata": {},
   "outputs": [
    {
     "name": "stdout",
     "output_type": "stream",
     "text": [
      "Graph for seed 8268 has 200 vertices and 282 edges\n"
     ]
    },
    {
     "data": {
      "image/png": "[encoded data removed]",
      "text/plain": [
       "<Figure size 640x480 with 1 Axes>"
      ]
     },
     "metadata": {},
     "output_type": "display_data"
    },
    {
     "name": "stdout",
     "output_type": "stream",
     "text": [
      "Graph for seed 8269 has 200 vertices and 281 edges\n"
     ]
    },
    {
     "data": {
      "image/png": "[encoded data removed]",
      "text/plain": [
       "<Figure size 640x480 with 1 Axes>"
      ]
     },
     "metadata": {},
     "output_type": "display_data"
    },
    {
     "name": "stdout",
     "output_type": "stream",
     "text": [
      "Graph for seed 8270 has 200 vertices and 278 edges\n"
     ]
    },
    {
     "data": {
      "image/png": "[encoded data removed]",
      "text/plain": [
       "<Figure size 640x480 with 1 Axes>"
      ]
     },
     "metadata": {},
     "output_type": "display_data"
    },
    {
     "name": "stdout",
     "output_type": "stream",
     "text": [
      "Graph for seed 8271 has 200 vertices and 279 edges\n"
     ]
    },
    {
     "data": {
      "image/png": "[encoded data removed]",
      "text/plain": [
       "<Figure size 640x480 with 1 Axes>"
      ]
     },
     "metadata": {},
     "output_type": "display_data"
    },
    {
     "name": "stdout",
     "output_type": "stream",
     "text": [
      "Graph for seed 8272 has 200 vertices and 273 edges\n"
     ]
    },
    {
     "data": {
      "image/png": "[encoded data removed]",
      "text/plain": [
       "<Figure size 640x480 with 1 Axes>"
      ]
     },
     "metadata": {},
     "output_type": "display_data"
    }
   ],
   "source": [
    "# Generate and plot graphs for multiple seeds\n",
    "for i in range(8268, 8273):\n",
    "    random.seed(i)\n",
    "    P, E = generateGraph(200, 5000, 5000, 5000)\n",
    "    print(\"Graph for seed\", i, \"has\", len(P), \"vertices and\", len(E), \"edges\")\n",
    "    plotGraph(P, E)\n",
    "    plt.show()"
   ]
  },
  {
   "cell_type": "markdown",
   "id": "096c3485",
   "metadata": {},
   "source": [
    "#### the above graphs are generate using on a range of 8268 to 8273 seed values. Generating unique graphs with different seed values.  "
   ]
  },
  {
   "cell_type": "markdown",
   "id": "1760ecd3",
   "metadata": {},
   "source": [
    "### 1.3 Lists and Paths"
   ]
  },
  {
   "cell_type": "code",
   "execution_count": 9,
   "id": "a746d4bd",
   "metadata": {},
   "outputs": [],
   "source": [
    "def pathLength(P):\n",
    "    \"\"\"\n",
    "    Function to calculate the length of a path represented by a list of vertices.\n",
    "\n",
    "    Parameters:\n",
    "    - P: List of vertices (points) representing the path.\n",
    "\n",
    "    Returns:\n",
    "    - Integer: Length of the path.\n",
    "    \"\"\"\n",
    "    return 0 if len(P) <= 1 else dist(P[0], P[1]) + pathLength(P[1:])"
   ]
  },
  {
   "cell_type": "code",
   "execution_count": 10,
   "id": "db1aeb11",
   "metadata": {},
   "outputs": [],
   "source": [
    "def reverse(P):\n",
    "    \"\"\"\n",
    "    Function to reverse a list.\n",
    "\n",
    "    Parameters:\n",
    "    - P: List to be reversed.\n",
    "\n",
    "    Returns:\n",
    "    - List: Reversed list.\n",
    "    \"\"\"\n",
    "    return [P[-i] for i in range(1, len(P) + 1)]"
   ]
  },
  {
   "cell_type": "code",
   "execution_count": 11,
   "id": "984d9ab4",
   "metadata": {},
   "outputs": [],
   "source": [
    "def index(x, L):\n",
    "    \"\"\"\n",
    "    Function to find the index of an element in a list.\n",
    "\n",
    "    Parameters:\n",
    "    - x: Element to be found.\n",
    "    - L: List to search for the element.\n",
    "\n",
    "    Returns:\n",
    "    - Integer: Index of the element in the list, or None if the element is not found.\n",
    "    \"\"\"\n",
    "    for i in range(len(L)):\n",
    "        if x == L[i]: \n",
    "            return i\n",
    "    return None"
   ]
  },
  {
   "cell_type": "code",
   "execution_count": 12,
   "id": "383ebfc5",
   "metadata": {},
   "outputs": [],
   "source": [
    "def addWithoutDuplicates(L, X):\n",
    "    \"\"\"\n",
    "    Function to add elements from a list X to another list L without duplicates.\n",
    "\n",
    "    Parameters:\n",
    "    - L: List to which elements will be added.\n",
    "    - X: List of elements to be added to L.\n",
    "\n",
    "    Returns:\n",
    "    - List: L with elements added from X without duplicates.\n",
    "    \"\"\"\n",
    "    for i in range(len(X)):\n",
    "        if X[i] not in L:\n",
    "            L.append(X[i])\n",
    "    return L"
   ]
  },
  {
   "cell_type": "markdown",
   "id": "82360df1",
   "metadata": {},
   "source": [
    "### 1.4 Generate Delivery Points"
   ]
  },
  {
   "cell_type": "code",
   "execution_count": 13,
   "id": "efd02b05",
   "metadata": {},
   "outputs": [],
   "source": [
    "def splitEdgeRandomly(V, E, s):\n",
    "    \"\"\"\n",
    "    Function to split an edge randomly by inserting a new vertex along the edge.\n",
    "\n",
    "    Parameters:\n",
    "    - V: List of vertices in the graph.\n",
    "    - E: List of edges in the graph.\n",
    "    - s: Edge to be split, represented as a tuple of two vertices.\n",
    "\n",
    "    Returns:\n",
    "    - Tuple: Updated list of vertices and edges after splitting the edge,\n",
    "             along with the newly inserted vertex.\n",
    "    \"\"\"\n",
    "    A, B = s\n",
    "    p = random.uniform(0.3, 0.7)\n",
    "    x = int(A[0] + p * (B[0] - A[0]))\n",
    "    y = int(A[1] + p * (B[1] - A[1]))\n",
    "    t = (x, y)\n",
    "    E.remove(s)\n",
    "    E.append((A, t))\n",
    "    E.append((t, B))\n",
    "    V.append(t)\n",
    "    return (V, E), t"
   ]
  },
  {
   "cell_type": "code",
   "execution_count": 14,
   "id": "123a53f5",
   "metadata": {},
   "outputs": [],
   "source": [
    "def addRandomTargets(V, E, n=5):\n",
    "    \"\"\"\n",
    "    Function to add random targets along the edges of a graph.\n",
    "\n",
    "    Parameters:\n",
    "    - V: List of vertices in the graph.\n",
    "    - E: List of edges in the graph.\n",
    "    - n: Number of random targets to add (default is 5).\n",
    "\n",
    "    Returns:\n",
    "    - Tuple: Updated lists of vertices, edges, and the newly added targets.\n",
    "    \"\"\"\n",
    "    V, E = V.copy(), E.copy()\n",
    "    T = []\n",
    "    # We want to ensure that the beginning of the\n",
    "    # sequence of points generated randomly stays\n",
    "    # the same\n",
    "    mindist = 300\n",
    "    while len(T) < n:\n",
    "        s = random.choice(E)\n",
    "        A, B = s\n",
    "        if dist(A, B) > mindist:  # Avoid targets placed narrowly\n",
    "            (V, E), t = splitEdgeRandomly(V, E, s)\n",
    "            T.append(t)\n",
    "    return sorted(V), sorted(E), sorted(T)"
   ]
  },
  {
   "cell_type": "code",
   "execution_count": 15,
   "id": "2c846502",
   "metadata": {},
   "outputs": [],
   "source": [
    "def addTargets(M, T):\n",
    "    \"\"\"\n",
    "    Function to add targets to the graph by splitting edges and inserting target points.\n",
    "\n",
    "    Parameters:\n",
    "    - M: Tuple containing the list of vertices and edges in the graph.\n",
    "    - T: List of target points to be added.\n",
    "\n",
    "    Returns:\n",
    "    - Tuple: Updated lists of vertices and edges after adding the targets.\n",
    "    \"\"\"\n",
    "    V, E = M\n",
    "    E = E.copy()\n",
    "    V = V.copy()\n",
    "    for t in T:\n",
    "        minD = math.inf\n",
    "        minE = None\n",
    "        for e in E:\n",
    "            P, Q = e\n",
    "            distT = dist(P, t) + dist(t, Q) - dist(P, Q)\n",
    "            if distT < minD:\n",
    "                minD = distT\n",
    "                minE = e\n",
    "        P, Q = minE\n",
    "        E.remove((P, Q))\n",
    "        E.append((P, t))\n",
    "        E.append((t, Q))\n",
    "        V.append(t)\n",
    "    return V, E"
   ]
  },
  {
   "cell_type": "code",
   "execution_count": 16,
   "id": "a72b6f2d",
   "metadata": {},
   "outputs": [],
   "source": [
    "def generateRandomTargets(V, E, n=5):\n",
    "    \"\"\"\n",
    "    Function to generate random targets along the edges of a graph.\n",
    "\n",
    "    Parameters:\n",
    "    - V: List of vertices in the graph.\n",
    "    - E: List of edges in the graph.\n",
    "    - n: Number of random targets to generate (default is 5).\n",
    "\n",
    "    Returns:\n",
    "    - List: Generated random targets.\n",
    "    \"\"\"\n",
    "    V, E = V.copy(), E.copy()\n",
    "    T = []\n",
    "    # We want to ensure that the beginning of the\n",
    "    # sequence of points generated randomly stays\n",
    "    # the same\n",
    "    mindist = 300\n",
    "    while len(T) < n:\n",
    "        s = random.choice(E)\n",
    "        A, B = s\n",
    "        if dist(A, B) > mindist:  # Avoid targets placed narrowly\n",
    "            (_, _), t = splitEdgeRandomly(V, E, s)\n",
    "            T.append(t)\n",
    "    return sorted(T)"
   ]
  },
  {
   "cell_type": "markdown",
   "id": "2946d495",
   "metadata": {},
   "source": [
    "### 1.5 Plot Map with Delivery Route"
   ]
  },
  {
   "cell_type": "code",
   "execution_count": 17,
   "id": "a3aea529",
   "metadata": {},
   "outputs": [],
   "source": [
    "def plotMap(G, T=[], P=[], W=None,\n",
    "            style='r-o', lw=1, ms=3, \n",
    "            styleT='go', msT=5,\n",
    "            styleP='b-o', lwP=3, msP=1,\n",
    "            stylePT='go', msPT=7,\n",
    "            styleW='bo', msW=7,\n",
    "            text=None, grid=False):\n",
    "    \"\"\"\n",
    "    Function to plot the map with delivery route.\n",
    "\n",
    "    Parameters:\n",
    "    - G: Graph composed of vertices and edges.\n",
    "    - T: List of delivery targets.\n",
    "    - P: List of points representing the delivery route.\n",
    "    - W: Warehouse location.\n",
    "    - style: Style of the graph edges (default is 'r-o').\n",
    "    - lw: Line width of the graph edges (default is 1).\n",
    "    - ms: Marker size of the graph vertices (default is 3).\n",
    "    - styleT: Style of the delivery targets markers (default is 'go').\n",
    "    - msT: Marker size of the delivery targets (default is 5).\n",
    "    - styleP: Style of the delivery route (default is 'b-o').\n",
    "    - lwP: Line width of the delivery route (default is 3).\n",
    "    - msP: Marker size of the delivery route vertices (default is 1).\n",
    "    - stylePT: Style of the delivery targets on the route (default is 'go').\n",
    "    - msPT: Marker size of the delivery targets on the route (default is 7).\n",
    "    - styleW: Style of the warehouse marker (default is 'bo').\n",
    "    - msW: Marker size of the warehouse (default is 7).\n",
    "    - text: Text annotation for the plot (default is None).\n",
    "    - grid: Boolean flag to display grid (default is False).\n",
    "    \"\"\"\n",
    "    fig = plt.gcf()\n",
    "    fig.set_size_inches(6, 6)\n",
    "    V, E = G\n",
    "\n",
    "    if not grid:\n",
    "        plt.axis('off')\n",
    "    plt.plot([p[0] for p in V], [p[1] for p in V], 'ro', lw=lw, ms=ms)\n",
    "    for (p, q) in E:\n",
    "        plt.plot([p[0], q[0]], [p[1], q[1]], 'r-o', lw=lw, ms=ms)\n",
    "    for t in T:\n",
    "        plt.plot([t[0]], [t[1]], styleT, ms=msT)\n",
    "    plt.plot([p[0] for p in P], [p[1] for p in P], styleP, lw=lwP, ms=msP)\n",
    "    for p in P:\n",
    "        if p in T:\n",
    "            plt.plot([p[0]], [p[1]], stylePT, ms=msPT)\n",
    "    if W is not None:\n",
    "        plt.plot([W[0]], [W[1]], styleW, ms=msW)\n",
    "    if text is not None:\n",
    "        maxX = max([p[0] for p in V])\n",
    "        plt.text(0.8 * maxX, 0, text)\n",
    "    if grid:\n",
    "        plt.grid()\n",
    "    plt.show()"
   ]
  },
  {
   "cell_type": "markdown",
   "id": "05f70ec9",
   "metadata": {},
   "source": [
    "### 1.6 Generate Data"
   ]
  },
  {
   "cell_type": "code",
   "execution_count": 18,
   "id": "3e18d2e5",
   "metadata": {},
   "outputs": [],
   "source": [
    "def generateData(seed=None, nodes=100, customers=150, \n",
    "                 plot=False, log=False):\n",
    "    \"\"\"\n",
    "    Generates data for simulation of delivery routes.\n",
    "\n",
    "    Args:\n",
    "    - seed (int): The seed value for data generation. If None, prints usage instructions.\n",
    "    - nodes (int): The number of intersections (vertices) in the generated map.\n",
    "    - customers (int): The number of customers generated on the map.\n",
    "    - plot (bool): Controls graphical output during data generation.\n",
    "    - log (bool): Controls print output during data generation.\n",
    "\n",
    "    Returns:\n",
    "    - M ((list, list)): The generated map as a graph, consisting of vertices and edges.\n",
    "    - C ((list, list)): A list of customer locations.\n",
    "    - W ((int, int)): The location of the distribution warehouse.\n",
    "    \"\"\"\n",
    "\n",
    "    if seed is None:\n",
    "        # Print usage instructions\n",
    "        print(\"Usage:  M, C = generateData(seed=None, \")\n",
    "        print(\"                            nodes=100, customers=50, \")\n",
    "        print(\"                            plot=False, log=False)\")\n",
    "        print(\"\")\n",
    "        print(\"  seed  the seed value to be used for data generation. \")\n",
    "        print(\"        To test the application use seed=0, it will create\")\n",
    "        print(\"        a small map, with a very few customer locations and\")\n",
    "        print(\"        a small set of delivery data.\")\n",
    "        print(\"\")\n",
    "        print(\"  nodes the number of intersections (vertices) in the generated map\")\n",
    "        print(\"\")\n",
    "        print(\"  customers  the number of customers generated on the map\")\n",
    "        print(\"\")\n",
    "        print(\"  log   Controls print output during data generation.\")\n",
    "        print(\"\")\n",
    "        print(\"  plot  Controls graphical output during data generation.\")\n",
    "        print(\"\")\n",
    "        print(\"Returns:\")\n",
    "        print(\"\")\n",
    "        print(\"  M = (V, E) is the generated map given as a graph\")\n",
    "        print(\"    where V is a list of vertices, with each vertice \")\n",
    "        print(\"    given as a pair (x, y) of integer coordinates, \")\n",
    "        print(\"    and E is a list of edges, with each edge given\")\n",
    "        print(\"    as a pair (A, B) of vertices, with each vertex again\")\n",
    "        print(\"    given as a pair (x, y) of integer coordinates\")\n",
    "        print(\"\")\n",
    "        print(\"  W ∈ V  is the location of the distribution warehouse\")\n",
    "        print(\"    given as a pair (x, y) of integer coordinates\")\n",
    "        print(\"\")\n",
    "        print(\"  C is a list of customer locations\")\n",
    "        print(\"    given as pairs (x, y) of integer coordinates on or near\")\n",
    "        print(\"    existing edges E. To integrate a set of customer locations\")\n",
    "        print(\"    into a given map M = (V, E), use addTarget(M, C)\")\n",
    "        print(\"\")\n",
    "        \n",
    "        seed = 0\n",
    "    \n",
    "    if seed==0:          # generate very simple test data \n",
    "        nodes = 20       # number of points in map\n",
    "        customers = 5    # number of  customers\n",
    "        grid = True\n",
    "            \n",
    "    else:\n",
    "        grid = False\n",
    "        \n",
    "    random.seed(seed)\n",
    "    \n",
    "    V, E = generateGraph(nodes, 4000, 4000, 4000)\n",
    "    \n",
    "    W = random.sample(V, k=1)[0]\n",
    "    \n",
    "    VV, EE, C = addRandomTargets(V, E, customers)\n",
    "\n",
    "    if log:\n",
    "        print(f\"Generated map with {nodes:d} nodes and \" \n",
    "              f\"{customers:d} customer locations\")\n",
    "    if plot:\n",
    "        label=\"\" if seed==0 else f\"seed={seed:4d}\"\n",
    "        plotMap((V, E), T=C, W=W, text=label, grid=grid)\n",
    "    \n",
    "    return (VV, EE), (V, E), W, C"
   ]
  },
  {
   "cell_type": "markdown",
   "id": "462e6247",
   "metadata": {},
   "source": [
    "#### Data Generation is reproducible."
   ]
  },
  {
   "cell_type": "code",
   "execution_count": 19,
   "id": "b27178a6",
   "metadata": {},
   "outputs": [
    {
     "data": {
      "text/plain": [
       "True"
      ]
     },
     "execution_count": 19,
     "metadata": {},
     "output_type": "execute_result"
    }
   ],
   "source": [
    "# Data Generation is reproducible\n",
    "\n",
    "# Generate two sets of data using the same seed\n",
    "D1 = generateData(8268)\n",
    "D2 = generateData(8268)\n",
    "\n",
    "# Check if the generated data sets are identical\n",
    "D1 == D2"
   ]
  },
  {
   "cell_type": "markdown",
   "id": "156c6794",
   "metadata": {},
   "source": [
    "## 2 Generate Data"
   ]
  },
  {
   "cell_type": "markdown",
   "id": "bd1eeabb",
   "metadata": {},
   "source": [
    "#### 2.1 Generating test data using seed 8268."
   ]
  },
  {
   "cell_type": "code",
   "execution_count": 20,
   "id": "bc85a606",
   "metadata": {
    "scrolled": false
   },
   "outputs": [
    {
     "name": "stdout",
     "output_type": "stream",
     "text": [
      "Usage:  M, C = generateData(seed=None, \n",
      "                            nodes=100, customers=50, \n",
      "                            plot=False, log=False)\n",
      "\n",
      "  seed  the seed value to be used for data generation. \n",
      "        To test the application use seed=0, it will create\n",
      "        a small map, with a very few customer locations and\n",
      "        a small set of delivery data.\n",
      "\n",
      "  nodes the number of intersections (vertices) in the generated map\n",
      "\n",
      "  customers  the number of customers generated on the map\n",
      "\n",
      "  log   Controls print output during data generation.\n",
      "\n",
      "  plot  Controls graphical output during data generation.\n",
      "\n",
      "Returns:\n",
      "\n",
      "  M = (V, E) is the generated map given as a graph\n",
      "    where V is a list of vertices, with each vertice \n",
      "    given as a pair (x, y) of integer coordinates, \n",
      "    and E is a list of edges, with each edge given\n",
      "    as a pair (A, B) of vertices, with each vertex again\n",
      "    given as a pair (x, y) of integer coordinates\n",
      "\n",
      "  W ∈ V  is the location of the distribution warehouse\n",
      "    given as a pair (x, y) of integer coordinates\n",
      "\n",
      "  C is a list of customer locations\n",
      "    given as pairs (x, y) of integer coordinates on or near\n",
      "    existing edges E. To integrate a set of customer locations\n",
      "    into a given map M = (V, E), use addTarget(M, C)\n",
      "\n"
     ]
    }
   ],
   "source": [
    "# Generate Data\n",
    "# Generating test data using seed 8268\n",
    "\n",
    "# Input:\n",
    "# No arguments provided, defaults will be used\n",
    "\n",
    "# Output:\n",
    "# Usage message explaining the arguments and return values of the generateData function\n",
    "# The function is intended to generate a map (M) with vertices (V) and edges (E),\n",
    "# a distribution warehouse location (W), and a list of customer locations (C).\n",
    "# The seed parameter controls the reproducibility of the generated data.\n",
    "# Other parameters such as the number of nodes and customers can be adjusted.\n",
    "# The function also provides options to log print output and plot the generated data.\n",
    "# To generate a simple test dataset, use seed=0.\n",
    "# Example usage: M, C = generateData(seed=0, nodes=100, customers=50, plot=True, log=True)\n",
    "\n",
    "M, _, W, C = generateData()"
   ]
  },
  {
   "cell_type": "markdown",
   "id": "b9e55f94",
   "metadata": {},
   "source": [
    "#### 2.2 Analysing Simple Test Data"
   ]
  },
  {
   "cell_type": "code",
   "execution_count": 21,
   "id": "8c83374f",
   "metadata": {
    "scrolled": false
   },
   "outputs": [
    {
     "name": "stdout",
     "output_type": "stream",
     "text": [
      "Generated map with 20 nodes and 5 customer locations\n"
     ]
    },
    {
     "data": {
      "image/png": "[encoded data removed]",
      "text/plain": [
       "<Figure size 600x600 with 1 Axes>"
      ]
     },
     "metadata": {},
     "output_type": "display_data"
    }
   ],
   "source": [
    "# data structure generation.\n",
    "# Analysing Simple Test Data\n",
    "\n",
    "# Generating test data using seed 0\n",
    "# Log output will be displayed\n",
    "# Plotting the generated data\n",
    "\n",
    "# Input:\n",
    "# Seed value is set to 0 to generate a simple test dataset\n",
    "# Log parameter is set to True to display print output during data generation\n",
    "# Plot parameter is set to True to visualize the generated data\n",
    "\n",
    "# Output:\n",
    "# Usage message explaining the arguments and return values of the generateData function\n",
    "# The function generates a simple test dataset with a small map and a few customer locations\n",
    "# The seed value is used to control the reproducibility of the generated data\n",
    "# Print output displays the generated map with vertices, edges, distribution warehouse location, and customer locations\n",
    "# The plot visualizes the generated map with customer locations\n",
    "\n",
    "sampleData = generateData(seed=0, log=True, plot=True)"
   ]
  },
  {
   "cell_type": "markdown",
   "id": "da02fe97",
   "metadata": {},
   "source": [
    "#### 2.2.1 The Graph"
   ]
  },
  {
   "cell_type": "markdown",
   "id": "3dccf9b1",
   "metadata": {},
   "source": [
    "#### The following are the vertices of the graph."
   ]
  },
  {
   "cell_type": "code",
   "execution_count": 22,
   "id": "45ca4f08",
   "metadata": {},
   "outputs": [
    {
     "data": {
      "text/plain": [
       "[(1500, 2750),\n",
       " (1500, 4000),\n",
       " (1500, 5250),\n",
       " (1500, 5780),\n",
       " (1500, 6500),\n",
       " (2750, 1500),\n",
       " (2750, 4000),\n",
       " (2750, 5250),\n",
       " (2750, 6500),\n",
       " (4000, 1500),\n",
       " (4000, 2750),\n",
       " (4000, 3407),\n",
       " (4000, 4000),\n",
       " (4000, 5250),\n",
       " (4654, 5904),\n",
       " (5250, 1500),\n",
       " (5250, 2750),\n",
       " (5250, 4000),\n",
       " (5250, 6500),\n",
       " (6500, 1500),\n",
       " (6500, 2338),\n",
       " (6500, 2513),\n",
       " (6500, 2750),\n",
       " (6500, 4000),\n",
       " (6500, 6500)]"
      ]
     },
     "execution_count": 22,
     "metadata": {},
     "output_type": "execute_result"
    }
   ],
   "source": [
    "V, E = M\n",
    "V"
   ]
  },
  {
   "cell_type": "markdown",
   "id": "7889a7bd",
   "metadata": {},
   "source": [
    "Interpretation:\n",
    "The vertices represent intersection points or nodes in the graph.\n",
    "Each vertex is represented by a pair of integer coordinates (x, y), indicating its position on a 2D plane.\n",
    "The graph appears to be a grid-like structure with intersections located at regular intervals along the x and y axes.\n",
    "The vertices are distributed in a grid pattern, forming a network of interconnected points that represent possible delivery locations.\n",
    "These vertices will be used to construct the edges of the graph, defining the routes between delivery points."
   ]
  },
  {
   "cell_type": "code",
   "execution_count": 23,
   "id": "476ba517",
   "metadata": {
    "scrolled": true
   },
   "outputs": [
    {
     "data": {
      "text/plain": [
       "[((1500, 2750), (1500, 4000)),\n",
       " ((1500, 2750), (2750, 1500)),\n",
       " ((1500, 4000), (2750, 4000)),\n",
       " ((1500, 5250), (1500, 4000)),\n",
       " ((1500, 5250), (1500, 5780)),\n",
       " ((1500, 5780), (1500, 6500)),\n",
       " ((2750, 5250), (1500, 5250)),\n",
       " ((2750, 5250), (2750, 4000)),\n",
       " ((2750, 5250), (2750, 6500)),\n",
       " ((2750, 6500), (1500, 6500)),\n",
       " ((4000, 1500), (2750, 1500)),\n",
       " ((4000, 2750), (4000, 1500)),\n",
       " ((4000, 3407), (4000, 2750)),\n",
       " ((4000, 4000), (2750, 4000)),\n",
       " ((4000, 4000), (4000, 3407)),\n",
       " ((4000, 4000), (4000, 5250)),\n",
       " ((4000, 4000), (5250, 4000)),\n",
       " ((4000, 5250), (2750, 5250)),\n",
       " ((4000, 5250), (4654, 5904)),\n",
       " ((4654, 5904), (5250, 6500)),\n",
       " ((5250, 1500), (4000, 1500)),\n",
       " ((5250, 1500), (6500, 1500)),\n",
       " ((5250, 2750), (4000, 2750)),\n",
       " ((5250, 2750), (5250, 1500)),\n",
       " ((5250, 2750), (5250, 4000)),\n",
       " ((5250, 2750), (6500, 2750)),\n",
       " ((5250, 4000), (6500, 4000)),\n",
       " ((6500, 2338), (6500, 1500)),\n",
       " ((6500, 2513), (6500, 2338)),\n",
       " ((6500, 2750), (6500, 2513)),\n",
       " ((6500, 2750), (6500, 4000)),\n",
       " ((6500, 6500), (5250, 6500))]"
      ]
     },
     "execution_count": 23,
     "metadata": {},
     "output_type": "execute_result"
    }
   ],
   "source": [
    "E"
   ]
  },
  {
   "cell_type": "code",
   "execution_count": 24,
   "id": "9cf31038",
   "metadata": {},
   "outputs": [],
   "source": [
    "# Interpretation:\n",
    "# The edges represent connections or paths between vertices in the graph.\n",
    "# Each edge is represented as a pair of vertices (A, B), where A and B are tuples of integer coordinates (x, y).\n",
    "# The edges define the routes or paths that can be taken from one vertex to another.\n",
    "# The graph is represented as a list of edges, where each edge is a tuple containing the coordinates of its endpoints.\n",
    "# These edges form the network of connections between the intersections or delivery points in the graph."
   ]
  },
  {
   "cell_type": "markdown",
   "id": "a1fdcb9f",
   "metadata": {},
   "source": [
    "#### 2.2.2 Customer Addresses"
   ]
  },
  {
   "cell_type": "markdown",
   "id": "ffa8f7c5",
   "metadata": {},
   "source": [
    "#### the following are the customer addresses (green dots in the map) are:"
   ]
  },
  {
   "cell_type": "code",
   "execution_count": 25,
   "id": "20696a72",
   "metadata": {},
   "outputs": [
    {
     "data": {
      "text/plain": [
       "[(1500, 5780), (4000, 3407), (4654, 5904), (6500, 2338), (6500, 2513)]"
      ]
     },
     "execution_count": 25,
     "metadata": {},
     "output_type": "execute_result"
    }
   ],
   "source": [
    "# The following are the customer addresses (green dots in the map):\n",
    "\n",
    "C\n",
    "\n",
    "# Interpretation:\n",
    "# Each customer address is represented as a tuple of integer coordinates (x, y).\n",
    "# The green dots on the map represent the locations of the customers.\n",
    "# These addresses indicate where deliveries need to be made or where services need to be provided.\n",
    "# The customer addresses are distributed across different points in the graph, indicating the locations where customers are situated."
   ]
  },
  {
   "cell_type": "code",
   "execution_count": 26,
   "id": "f7c748ae",
   "metadata": {},
   "outputs": [
    {
     "data": {
      "text/plain": [
       "5"
      ]
     },
     "execution_count": 26,
     "metadata": {},
     "output_type": "execute_result"
    }
   ],
   "source": [
    "#total customers\n",
    "num_customers = len(C) # C contains customer's coordinates\n",
    "num_customers"
   ]
  },
  {
   "cell_type": "markdown",
   "id": "4dc5b585",
   "metadata": {},
   "source": [
    "#### 2.2.3 The Warehouse Address"
   ]
  },
  {
   "cell_type": "code",
   "execution_count": 27,
   "id": "a75b7804",
   "metadata": {},
   "outputs": [
    {
     "data": {
      "text/plain": [
       "(6500, 6500)"
      ]
     },
     "execution_count": 27,
     "metadata": {},
     "output_type": "execute_result"
    }
   ],
   "source": [
    "# The warehouse address is:\n",
    "\n",
    "W \n",
    "\n",
    "# Interpretation:\n",
    "# The warehouse address is represented as a tuple of integer coordinates (x, y).\n",
    "# This address indicates the location of the distribution warehouse, which serves as the central point for managing deliveries.\n",
    "# The warehouse is situated at coordinates (6500, 6500) on the map.\n",
    "# This location is typically chosen strategically to optimize the distribution process, considering factors such as accessibility and proximity to the customer base."
   ]
  },
  {
   "cell_type": "markdown",
   "id": "97e89a7b",
   "metadata": {},
   "source": [
    "### 2.3 Real Sample Data"
   ]
  },
  {
   "cell_type": "markdown",
   "id": "682df76e",
   "metadata": {},
   "source": [
    "#### Displaying sample data from simulation"
   ]
  },
  {
   "cell_type": "code",
   "execution_count": 28,
   "id": "a04c1842",
   "metadata": {},
   "outputs": [
    {
     "name": "stdout",
     "output_type": "stream",
     "text": [
      "Generated map with 100 nodes and 150 customer locations\n"
     ]
    },
    {
     "data": {
      "image/png": "[encoded data removed]",
      "text/plain": [
       "<Figure size 600x600 with 1 Axes>"
      ]
     },
     "metadata": {},
     "output_type": "display_data"
    }
   ],
   "source": [
    "# Real Sample Data\n",
    "# Displaying sample data from simulation\n",
    "\n",
    "# Input:\n",
    "data = generateData(8268, plot=True, log=True)\n",
    "\n",
    "# Output:\n",
    "# Generated map with 100 nodes and 150 customer locations\n",
    "\n",
    "# Interpretation:\n",
    "# The sample data represents a simulated map with 100 nodes, which are intersections or vertices, and 150 customer locations.\n",
    "# This data is generated using a specific seed value (8268) for reproducibility.\n",
    "# The plot visualization displays the generated map with vertices represented as red circles and edges connecting them.\n",
    "# Additionally, customer locations are indicated by green dots on or near existing edges of the map.\n",
    "# The log output confirms the successful generation of the map with the specified number of nodes and customer locations.\n",
    "# This sample data can be further used for simulation and analysis in the context of delivery route optimization or similar applications."
   ]
  },
  {
   "cell_type": "code",
   "execution_count": 29,
   "id": "52f6f872",
   "metadata": {},
   "outputs": [],
   "source": [
    "# Save test data for customer locations\n",
    "import pickle\n",
    "\n",
    "# Input:\n",
    "with open('customer_data.pickled', 'wb') as f:\n",
    "    pickle.dump(data, f)\n",
    "\n",
    "# Interpretation:\n",
    "# This code snippet saves the generated sample data, including the map with vertices and customer locations, into a file named 'customer_data.pickled'.\n",
    "# The data is serialized using the pickle module, allowing it to be stored in binary format for later retrieval and use in simulations or analysis.\n",
    "# Saving the data enables easy access and reuse without the need to regenerate it each time, facilitating further experimentation and testing."
   ]
  },
  {
   "cell_type": "code",
   "execution_count": 30,
   "id": "680ff502",
   "metadata": {},
   "outputs": [
    {
     "name": "stdout",
     "output_type": "stream",
     "text": [
      "Generated map with 40 nodes and 20 customer locations\n"
     ]
    },
    {
     "data": {
      "image/png": "[encoded data removed]",
      "text/plain": [
       "<Figure size 600x600 with 1 Axes>"
      ]
     },
     "metadata": {},
     "output_type": "display_data"
    }
   ],
   "source": [
    "# Generate sample data with specific parameters\n",
    "myData = generateData(8268, nodes=40, customers=20, plot=True, log=True)\n",
    "\n",
    "# Interpretation:\n",
    "# This code snippet generates sample data with 40 nodes and 20 customer locations using a specific seed value (8268).\n",
    "# The parameters 'nodes' and 'customers' control the number of vertices in the map and the number of customer locations, respectively.\n",
    "# By setting 'plot' to True, the code visualizes the generated map with customer locations.\n",
    "# The log parameter is set to True, providing information about the generated map, including the number of nodes and customer locations."
   ]
  },
  {
   "cell_type": "markdown",
   "id": "ea2930e5",
   "metadata": {},
   "source": [
    "#### Loading the sample data."
   ]
  },
  {
   "cell_type": "code",
   "execution_count": 31,
   "id": "f547ec2b",
   "metadata": {},
   "outputs": [],
   "source": [
    "# Save generated data to a pickled file\n",
    "with open('data1.pickled', 'wb') as f:\n",
    "    pickle.dump(data, f)\n",
    "    \n",
    "# Interpretation:\n",
    "# This code snippet saves the generated data (including the map, customer locations, and warehouse address) into a pickled file named 'customer_data.pickled'.\n",
    "# The 'wb' mode is used for writing binary data to the file.\n",
    "# The 'pickle.dump()' function is then called to serialize the data and store it in the file."
   ]
  },
  {
   "cell_type": "markdown",
   "id": "e142466e",
   "metadata": {},
   "source": [
    "### 2.4 Generating Delivery Data"
   ]
  },
  {
   "cell_type": "code",
   "execution_count": 32,
   "id": "a59418f0",
   "metadata": {},
   "outputs": [],
   "source": [
    "def generateDeliveryData(p, C, days, seed=0):\n",
    "    \"\"\"\n",
    "    Generate delivery data according to the specified parameters.\n",
    "\n",
    "    Parameters:\n",
    "        p (float): Average number of parcels per day per customer.\n",
    "        C (list): List of customer addresses.\n",
    "        days (int): Number of days for which data are to be generated.\n",
    "        seed (int): Seed value for random number generation. Default is 0.\n",
    "\n",
    "    Returns:\n",
    "        list: List of delivery schedules for each day.\n",
    "    \"\"\"\n",
    "    np.random.seed(seed)\n",
    "    # Generate the number of parcels for each day using Poisson distribution\n",
    "    R = np.random.poisson(lam=len(C) * p, size=days)\n",
    "    # Generate delivery schedules for each day\n",
    "    D = [sorted(list(np.random.choice(range(len(C)), size=i))) for i in R]\n",
    "    return D"
   ]
  },
  {
   "cell_type": "markdown",
   "id": "e458c2e4",
   "metadata": {},
   "source": [
    "#### Example"
   ]
  },
  {
   "cell_type": "code",
   "execution_count": 33,
   "id": "89b1cdfd",
   "metadata": {},
   "outputs": [
    {
     "data": {
      "text/plain": [
       "[[0, 1], [1], [4], [0, 3], [0, 3]]"
      ]
     },
     "execution_count": 33,
     "metadata": {},
     "output_type": "execute_result"
    }
   ],
   "source": [
    "D = generateDeliveryData(p=0.2, C=C, days=5)\n",
    "D"
   ]
  },
  {
   "cell_type": "code",
   "execution_count": 34,
   "id": "58ddf283",
   "metadata": {},
   "outputs": [
    {
     "data": {
      "text/plain": [
       "8"
      ]
     },
     "execution_count": 34,
     "metadata": {},
     "output_type": "execute_result"
    }
   ],
   "source": [
    "sum([len(i) for i in D])"
   ]
  },
  {
   "cell_type": "markdown",
   "id": "39922845",
   "metadata": {},
   "source": [
    "Over 5 days, a total of 8 parcels are to be delivered:\n",
    "• On the first day deliver one parcel each to customers 0 and customer 1.\n",
    "• On the second day deliver one parcel to customer 1.\n",
    "• On the third day deliver one parcel to customer 4.\n",
    "• On the fourth day deliver one parcel each to customers 0 and customer 3.\n",
    "• And on the fith day deliver one parcel each to customers 0 and customer 3."
   ]
  },
  {
   "cell_type": "markdown",
   "id": "b31bb683",
   "metadata": {},
   "source": [
    "#### Delivery over one month for Sample Map"
   ]
  },
  {
   "cell_type": "code",
   "execution_count": 35,
   "id": "0da3e53b",
   "metadata": {
    "scrolled": true
   },
   "outputs": [
    {
     "data": {
      "text/plain": [
       "[[0, 1], [1], [4], [0, 3], [0, 3]]"
      ]
     },
     "execution_count": 35,
     "metadata": {},
     "output_type": "execute_result"
    }
   ],
   "source": [
    "# Example usage of generateDeliveryData function\n",
    "D = generateDeliveryData(p=0.2, C=C, days=5)\n",
    "D"
   ]
  },
  {
   "cell_type": "markdown",
   "id": "b6ee7521",
   "metadata": {},
   "source": [
    "This example demonstrates how to use the generateDeliveryData function.\n",
    "It generates delivery data for 5 days (days=5) with an average of 0.2 parcels per day per customer (p=0.2) for the given list of customer addresses C.\n",
    "The output D shows the delivery schedules for each day. For example, on the first day, parcels are to be delivered to customers with indices 0 and 1. Similarly, on the second day, only customer 1 receives a parcel, and so on."
   ]
  },
  {
   "cell_type": "code",
   "execution_count": 36,
   "id": "c8127fb2",
   "metadata": {},
   "outputs": [
    {
     "data": {
      "text/plain": [
       "8"
      ]
     },
     "execution_count": 36,
     "metadata": {},
     "output_type": "execute_result"
    }
   ],
   "source": [
    "sum([len(i) for i in D])"
   ]
  },
  {
   "cell_type": "markdown",
   "id": "b15453c0",
   "metadata": {},
   "source": [
    "The total number of parcels scheduled for delivery over the 5 days is 32. This sum is obtained by adding the number of parcels scheduled for delivery on each day in the list D."
   ]
  },
  {
   "cell_type": "code",
   "execution_count": 37,
   "id": "f0ebb443",
   "metadata": {},
   "outputs": [],
   "source": [
    "# The delivery data has been generated for 10 days with an average of 0.15 parcels per day per customer.\n",
    "D = generateDeliveryData(p=0.15,C=C,days=10)"
   ]
  },
  {
   "cell_type": "code",
   "execution_count": 38,
   "id": "9de35afc",
   "metadata": {},
   "outputs": [
    {
     "data": {
      "text/plain": [
       "10"
      ]
     },
     "execution_count": 38,
     "metadata": {},
     "output_type": "execute_result"
    }
   ],
   "source": [
    "# generating delivery data for a total of ten days.\n",
    "len(D)"
   ]
  },
  {
   "cell_type": "code",
   "execution_count": 39,
   "id": "c2c4a2e9",
   "metadata": {},
   "outputs": [
    {
     "data": {
      "text/plain": [
       "[3]"
      ]
     },
     "execution_count": 39,
     "metadata": {},
     "output_type": "execute_result"
    }
   ],
   "source": [
    "# On the first day three parcels have to be delivered.\n",
    "D[0]"
   ]
  },
  {
   "cell_type": "code",
   "execution_count": 40,
   "id": "28a53019",
   "metadata": {},
   "outputs": [
    {
     "data": {
      "text/plain": [
       "12"
      ]
     },
     "execution_count": 40,
     "metadata": {},
     "output_type": "execute_result"
    }
   ],
   "source": [
    "# A total of twelve parcels are to be delivered over ten days.\n",
    "sum([len(i) for i in D])"
   ]
  },
  {
   "cell_type": "markdown",
   "id": "0fe0df90",
   "metadata": {},
   "source": [
    "## 3 Finding the shortest path"
   ]
  },
  {
   "cell_type": "markdown",
   "id": "03ecdada",
   "metadata": {},
   "source": [
    "#### 3.1 Generate Warehouse Location"
   ]
  },
  {
   "cell_type": "code",
   "execution_count": 41,
   "id": "e0353f99",
   "metadata": {},
   "outputs": [],
   "source": [
    "import random\n",
    "\n",
    "def generateWarehouseLocation(M):\n",
    "    \"\"\"\n",
    "    Generate a single random warehouse location from the given map.\n",
    "\n",
    "    Args:\n",
    "    - M (tuple): A tuple containing the graph representation of the map.\n",
    "                 It consists of vertices and edges, where vertices are\n",
    "                 represented as a list of tuples and edges are represented\n",
    "                 as a list of pairs of vertices.\n",
    "\n",
    "    Returns:\n",
    "    - W (tuple): A tuple representing the warehouse location, consisting\n",
    "                 of x and y coordinates.\n",
    "\n",
    "    \"\"\"\n",
    "    V, _ = M\n",
    "    W = random.sample(V, k=1)[0]  # Sample a single vertex randomly\n",
    "    return W"
   ]
  },
  {
   "cell_type": "code",
   "execution_count": 42,
   "id": "932fd092",
   "metadata": {},
   "outputs": [],
   "source": [
    "#data is already loaded so reload not need\n",
    "# Set the random seed for reproducibility\n",
    "random.seed(8268)\n",
    "\n",
    "# Generate a single random warehouse location from the given map\n",
    "W = generateWarehouseLocation(M)"
   ]
  },
  {
   "cell_type": "code",
   "execution_count": 43,
   "id": "71e1acb2",
   "metadata": {},
   "outputs": [
    {
     "data": {
      "image/png": "[encoded data removed]",
      "text/plain": [
       "<Figure size 600x600 with 1 Axes>"
      ]
     },
     "metadata": {},
     "output_type": "display_data"
    }
   ],
   "source": [
    "# Plotting the map with the customer locations and warehouse location.\n",
    "plotMap(M, T=C, P=[], W=W, text=\"seed=8268\")"
   ]
  },
  {
   "cell_type": "markdown",
   "id": "afe929ca",
   "metadata": {},
   "source": [
    "#### 3.2 𝐴∗ algorithm for finding the shortest path."
   ]
  },
  {
   "cell_type": "code",
   "execution_count": 44,
   "id": "140b2d82",
   "metadata": {},
   "outputs": [],
   "source": [
    "def pathLength(P):\n",
    "    \"\"\"\n",
    "    Calculate the length of a path defined by a list of points. \n",
    "    It recursively calculates the distance between consecutive points in the path and sums them up to find the total length of the path.\n",
    "    The base case is when the path has only one point or no points, returning 0 in these cases.\n",
    "    \n",
    "    Args:\n",
    "    - P (list): A list of points defining the path.\n",
    "\n",
    "    Returns:\n",
    "    - int: The length of the path.\n",
    "    \"\"\"\n",
    "    return 0 if len(P) <= 1 else \\\n",
    "            dist(P[0], P[1]) + pathLength(P[1:])"
   ]
  },
  {
   "cell_type": "code",
   "execution_count": 45,
   "id": "ee929bd1",
   "metadata": {},
   "outputs": [],
   "source": [
    "def shortestPath(M, A, B):\n",
    "    \"\"\"\n",
    "    Find the shortest path between two vertices in a graph using the A* algorithm.\n",
    "\n",
    "    Args:\n",
    "    - M (tuple): A tuple (V, E) representing the graph, where V is a list of vertices\n",
    "                 and E is a list of edges represented as pairs of vertices.\n",
    "    - A: Starting vertex of the path.\n",
    "    - B: Ending vertex of the path.\n",
    "\n",
    "    Returns:\n",
    "    - list or None: A list representing the shortest path between A and B, or None if no path exists.\n",
    "    \"\"\"\n",
    "    def h(p):\n",
    "        \"\"\"\n",
    "        Heuristic function for estimating the remaining distance from a point to the goal.\n",
    "\n",
    "        Args:\n",
    "        - p (list): A list representing a path.\n",
    "\n",
    "        Returns:\n",
    "        - int: Heuristic value estimating the remaining distance to the goal.\n",
    "        \"\"\"\n",
    "        return pathLength(p) + dist(p[-1], B)\n",
    "\n",
    "    def insert(C, p):\n",
    "        \"\"\"\n",
    "        Insert a path into the list of candidates C sorted by the heuristic value.\n",
    "\n",
    "        Args:\n",
    "        - C (list): List of candidate paths.\n",
    "        - p (list): Path to be inserted.\n",
    "\n",
    "        Returns:\n",
    "        - list: Updated list of candidates with the new path inserted.\n",
    "        \"\"\"\n",
    "        hp = h(p)\n",
    "        c = (p, hp)\n",
    "        for i in range(len(C)):\n",
    "            if C[i][1] > hp:\n",
    "                return C[:i] + [c] + C[i:]\n",
    "        return C + [c]\n",
    "\n",
    "    V, E = M\n",
    "    assert (A in V and B in V)\n",
    "    C = insert([], [A])\n",
    "\n",
    "    while len(C) > 0:\n",
    "        path, _ = C[0]\n",
    "        C = C[1:]\n",
    "        if path[-1] == B:\n",
    "            return path\n",
    "        else:\n",
    "            for (x, y) in E:\n",
    "                if path[-1] == x and y not in path:\n",
    "                    C = insert(C, path + [y])\n",
    "                elif path[-1] == y and x not in path:\n",
    "                    C = insert(C, path + [x])\n",
    "    return None"
   ]
  },
  {
   "cell_type": "markdown",
   "id": "70dfcddb",
   "metadata": {},
   "source": [
    "This function implements the A* algorithm to find the shortest path between two vertices in a graph.\n",
    "It uses a heuristic function h to estimate the remaining distance from a point to the goal.\n",
    "The insert function is used to insert a path into the list of candidates C sorted by the heuristic value.\n",
    "The algorithm iteratively explores the paths with the lowest heuristic value until the goal vertex is reached or no more paths are available.\n",
    "If a path between A and B exists, it returns the shortest path as a list of vertices. Otherwise, it returns None."
   ]
  },
  {
   "cell_type": "markdown",
   "id": "15c546d7",
   "metadata": {},
   "source": [
    "#### 3.3 Testing"
   ]
  },
  {
   "cell_type": "code",
   "execution_count": 46,
   "id": "007b6f6a",
   "metadata": {},
   "outputs": [
    {
     "name": "stdout",
     "output_type": "stream",
     "text": [
      "Shortest path from (1500, 5780) to (6500, 2513) : [(1500, 5780), (1500, 5250), (2750, 5250), (4000, 5250), (4000, 4000), (5250, 4000), (5250, 2750), (6500, 2750), (6500, 2513)]\n"
     ]
    }
   ],
   "source": [
    "# The shortest path from the first customer address to the last customer address\n",
    "A = C[0]  # First customer address\n",
    "B = C[-1]  # Last customer address\n",
    "\n",
    "# Find the shortest path from A to B\n",
    "shortest_path = shortestPath(M, A, B)\n",
    "\n",
    "# Print the shortest path if it exists\n",
    "if shortest_path:\n",
    "    print(\"Shortest path from\", A, \"to\", B, \":\", shortest_path)\n",
    "else:\n",
    "    print(\"No path exists between\", A, \"and\", B)"
   ]
  },
  {
   "cell_type": "code",
   "execution_count": 47,
   "id": "ed1372ea",
   "metadata": {},
   "outputs": [],
   "source": [
    "# Adding targets A and B to the map M\n",
    "MAB = addTargets(M, [A, B])"
   ]
  },
  {
   "cell_type": "code",
   "execution_count": 48,
   "id": "a28bb32a",
   "metadata": {},
   "outputs": [
    {
     "data": {
      "image/png": "[encoded data removed]",
      "text/plain": [
       "<Figure size 600x600 with 1 Axes>"
      ]
     },
     "metadata": {},
     "output_type": "display_data"
    }
   ],
   "source": [
    "# Plotting the map MAB with targets A and B\n",
    "plotMap(MAB, T=[A, B])"
   ]
  },
  {
   "cell_type": "code",
   "execution_count": 49,
   "id": "aeb837f0",
   "metadata": {},
   "outputs": [
    {
     "data": {
      "text/plain": [
       "[(1500, 5780),\n",
       " (1500, 5250),\n",
       " (2750, 5250),\n",
       " (4000, 5250),\n",
       " (4000, 4000),\n",
       " (5250, 4000),\n",
       " (5250, 2750),\n",
       " (6500, 2750),\n",
       " (6500, 2513)]"
      ]
     },
     "execution_count": 49,
     "metadata": {},
     "output_type": "execute_result"
    }
   ],
   "source": [
    "# Calculating the shortest path from point A to point B on the map MAB.\n",
    "P = shortestPath(MAB, A, B)\n",
    "P"
   ]
  },
  {
   "cell_type": "code",
   "execution_count": 50,
   "id": "b19046c5",
   "metadata": {},
   "outputs": [
    {
     "data": {
      "text/plain": [
       "8267"
      ]
     },
     "execution_count": 50,
     "metadata": {},
     "output_type": "execute_result"
    }
   ],
   "source": [
    "# Calculating the total length of the path.\n",
    "pathLength(P)"
   ]
  },
  {
   "cell_type": "code",
   "execution_count": 51,
   "id": "5f734371",
   "metadata": {
    "scrolled": true
   },
   "outputs": [
    {
     "data": {
      "image/png": "[encoded data removed]",
      "text/plain": [
       "<Figure size 600x600 with 1 Axes>"
      ]
     },
     "metadata": {},
     "output_type": "display_data"
    }
   ],
   "source": [
    "# Plotting the map.\n",
    "plotMap(MAB, T=[A, B], P=P)"
   ]
  },
  {
   "cell_type": "markdown",
   "id": "e4666768",
   "metadata": {},
   "source": [
    "This call will generate a plot of the map with the following features:\n",
    "- Red dots representing the vertices of the graph (intersections).\n",
    "- Red lines representing the edges between vertices.\n",
    "- Green dots representing the customer locations (points A and B).\n",
    "- A blue line representing the shortest path from the warehouse (point A) to the destination (point B)."
   ]
  },
  {
   "cell_type": "code",
   "execution_count": 52,
   "id": "e9c78312",
   "metadata": {
    "scrolled": true
   },
   "outputs": [
    {
     "data": {
      "image/png": "[encoded data removed]",
      "text/plain": [
       "<Figure size 600x600 with 1 Axes>"
      ]
     },
     "metadata": {},
     "output_type": "display_data"
    },
    {
     "data": {
      "image/png": "[encoded data removed]",
      "text/plain": [
       "<Figure size 600x600 with 1 Axes>"
      ]
     },
     "metadata": {},
     "output_type": "display_data"
    },
    {
     "data": {
      "image/png": "[encoded data removed]",
      "text/plain": [
       "<Figure size 600x600 with 1 Axes>"
      ]
     },
     "metadata": {},
     "output_type": "display_data"
    },
    {
     "data": {
      "image/png": "[encoded data removed]",
      "text/plain": [
       "<Figure size 600x600 with 1 Axes>"
      ]
     },
     "metadata": {},
     "output_type": "display_data"
    },
    {
     "data": {
      "image/png": "[encoded data removed]",
      "text/plain": [
       "<Figure size 600x600 with 1 Axes>"
      ]
     },
     "metadata": {},
     "output_type": "display_data"
    }
   ],
   "source": [
    "# Set the random seed for reproducibility.\n",
    "random.seed(8268)  \n",
    "# Unpack vertices and edges from the map data.\n",
    "V, E = M  \n",
    "for i in range(5):  # Loop to generate and plot paths for 5 random pairs of vertices.\n",
    "    [A, B] = random.sample(V, k=2)  # Select two random vertices as the start (A) and end (B) points.\n",
    "    MAB = addTargets(M, [A, B])  # Add targets (warehouse and customer locations) to the map.\n",
    "    P = shortestPath(MAB, A, B)  # Find the shortest path from A to B on the modified map.\n",
    "    plotMap(MAB, T=[A, B], P=P)  # Plot the map with targets (A and B), and the shortest path (P)."
   ]
  },
  {
   "cell_type": "markdown",
   "id": "0f0e97d7",
   "metadata": {},
   "source": [
    "This code randomly selects pairs of vertices from the map, adds targets (warehouse and customer locations) to the map, finds the shortest path between the selected vertices considering the added targets, and then plots the map with the targets and the shortest path for visualization. This process is repeated five times to visualize different scenarios."
   ]
  },
  {
   "cell_type": "markdown",
   "id": "dda74115",
   "metadata": {},
   "source": [
    "## 4 Finding the shortest delivery route"
   ]
  },
  {
   "cell_type": "markdown",
   "id": "b673cd69",
   "metadata": {},
   "source": [
    "#### 4.1 The Algorithm"
   ]
  },
  {
   "cell_type": "code",
   "execution_count": 53,
   "id": "166ab79d",
   "metadata": {},
   "outputs": [],
   "source": [
    "def createTables(M, T):\n",
    "    # Function to reverse a path\n",
    "    def reverse(P):\n",
    "        return [P[-i] for i in range(1, len(P) + 1)]\n",
    "\n",
    "    # Function to find the index of an element in a list\n",
    "    def index(x, L):\n",
    "        for i in range(len(L)):\n",
    "            if x == L[i]:\n",
    "                return i\n",
    "        return None\n",
    "\n",
    "    n = len(T)  # Number of targets\n",
    "    d = [[math.inf for t in T] for t in T]  # Initialize distance matrix with infinity\n",
    "    p = [[None for t in T] for t in T]  # Initialize path matrix with None\n",
    "    for i in range(n):\n",
    "        d[i][i] = 0  # Diagonal elements set to 0\n",
    "        p[i][i] = [T[i]]  # Diagonal elements are the target themselves\n",
    "    # Calculate distances and paths between targets\n",
    "    for i in range(n):\n",
    "        for j in range(n):\n",
    "            if p[i][j] is None:  # If no path is calculated yet\n",
    "                s = shortestPath(M, T[i], T[j])  # Find the shortest path between targets\n",
    "                d[i][j] = d[j][i] = pathLength(s)  # Update distance matrix\n",
    "                p[i][j] = s  # Update path matrix\n",
    "                p[j][i] = reverse(s)  # Reverse the path for the opposite direction\n",
    "                # Update intermediate paths and distances\n",
    "                for m in range(len(s) - 1):\n",
    "                    smi = index(s[m], T)  # Index of the m-th element of the path\n",
    "                    if smi is None:\n",
    "                        continue\n",
    "                    for l in range(m + 1, len(s)):\n",
    "                        sli = index(s[l], T)  # Index of the l-th element of the path\n",
    "                        if sli is None:\n",
    "                            continue\n",
    "                        sub = s[m:l + 1]  # Sub-path from m to l\n",
    "                        if p[smi][sli] is None:  # If no path is calculated yet\n",
    "                            p[smi][sli] = sub  # Update sub-path\n",
    "                            p[sli][smi] = reverse(sub)  # Update reversed sub-path\n",
    "                            d[smi][sli] = d[sli][smi] = pathLength(sub)  # Update sub-path length\n",
    "    return d, p  # Return distance and path matrices\n",
    "# This function creates tables containing distances and paths between all pairs of targets in the given map"
   ]
  },
  {
   "cell_type": "code",
   "execution_count": 54,
   "id": "eca289de",
   "metadata": {},
   "outputs": [],
   "source": [
    "def roundtrips(x, n):\n",
    "    # Function to check if an element is in a list\n",
    "    def isElem(x, l):\n",
    "        for i in range(len(l)):\n",
    "            if l[i] == x:\n",
    "                return True\n",
    "        return False\n",
    "\n",
    "    # Function to find the starting point of trips\n",
    "    def startpoint(trips):\n",
    "        for i in range(n):\n",
    "            for t in trips:\n",
    "                if isElem(i, t):\n",
    "                    break\n",
    "            else:\n",
    "                return i\n",
    "\n",
    "    # Function to calculate the total length of trips\n",
    "    def totalLength(trips):\n",
    "        s = 0\n",
    "        for i in range(0, len(trips)):\n",
    "            s += len(trips[i]) - 1\n",
    "        return s\n",
    "\n",
    "    trips = []\n",
    "    # While total length of trips is less than n\n",
    "    while totalLength(trips) < n:\n",
    "        start = startpoint(trips)  # Get starting point of new trip\n",
    "        trip = [start]\n",
    "        i = start\n",
    "        # Build the trip\n",
    "        while len(trip) < n - totalLength(trips):\n",
    "            for j in range(0, n):\n",
    "                if pulp.value(x[i][j]) == 1:\n",
    "                    trip.append(j)\n",
    "                    i = j\n",
    "                    break\n",
    "            # Check if returning to the starting point\n",
    "            if pulp.value(x[trip[-1]][start]) == 1:\n",
    "                trip.append(start)\n",
    "                break\n",
    "        trips.append(trip)\n",
    "    # Sort trips by length in descending order\n",
    "    return sorted(trips, key=lambda t: len(t), reverse=True)\n",
    "\n",
    "\n",
    "def createLoop(M, T):\n",
    "    # Generate distance and path tables\n",
    "    D, P = createTables(M, T)\n",
    "    n = len(T)  # Number of targets\n",
    "    # Create decision variables\n",
    "    x = pulp.LpVariable.dicts(\"x\", (range(n), range(n)), lowBound=0, upBound=1, cat=pulp.LpInteger)\n",
    "    # Create optimization problem\n",
    "    prob = pulp.LpProblem(\"Loop\", pulp.LpMinimize)\n",
    "    # Add objective function\n",
    "    prob += pulp.lpSum([D[i][j] * x[i][j] for i in range(n) for j in range(n)])\n",
    "    # Add constraints\n",
    "    for j in range(n):\n",
    "        prob += pulp.lpSum([x[i][j] for i in range(n) if i != j]) == 1\n",
    "    for i in range(n):\n",
    "        prob += pulp.lpSum([x[i][j] for j in range(n) if i != j]) == 1\n",
    "    for i in range(n):\n",
    "        for j in range(n):\n",
    "            if i != j:\n",
    "                prob += x[i][j] + x[j][i] <= 1\n",
    "    # Initialize solver\n",
    "    solvers = pulp.listSolvers(onlyAvailable=True)\n",
    "    solver = pulp.getSolver(solvers[0], msg=0)\n",
    "    # Solve the problem\n",
    "    prob.solve(solver)\n",
    "    # Get round trips\n",
    "    trips = roundtrips(x, n)\n",
    "    # Loop until only one trip remains\n",
    "    while len(trips) > 1:\n",
    "        # Add constraints to ensure round trips\n",
    "        for t in trips:\n",
    "            prob += pulp.lpSum([x[t[i]][t[i + 1]] + x[t[i + 1]][t[i]] for i in range(0, len(t) - 1)]) <= len(t) - 2\n",
    "        # Solve the problem again\n",
    "        prob.solve(solver)\n",
    "        # Get round trips\n",
    "        trips = roundtrips(x, n)\n",
    "    # Get the final trip\n",
    "    trip = trips[0]\n",
    "    loop = []\n",
    "    # Construct the loop from the path\n",
    "    for k in range(len(trip) - 1):\n",
    "        sub = P[trip[k]][trip[k + 1]]\n",
    "        loop += sub if len(loop) == 0 else sub[1:]\n",
    "    return loop\n",
    "\n",
    "# This function aims to create a loop that passes through all targets exactly once.\n",
    "# It first creates decision variables, adds an objective function and constraints to the optimization problem, and then solves it to find the optimal loop.\n",
    "# The function iterates until only one trip remains, adding constraints to ensure the loop is round-trip.\n",
    "# Finally, it constructs the loop from the path obtained."
   ]
  },
  {
   "cell_type": "markdown",
   "id": "1c388f18",
   "metadata": {},
   "source": [
    "#### 4.2 Testing"
   ]
  },
  {
   "cell_type": "code",
   "execution_count": 55,
   "id": "0c97a971",
   "metadata": {},
   "outputs": [
    {
     "data": {
      "image/png": "[encoded data removed]",
      "text/plain": [
       "<Figure size 600x600 with 1 Axes>"
      ]
     },
     "metadata": {},
     "output_type": "display_data"
    }
   ],
   "source": [
    "# Applying the previously generated warehouse location.\n",
    "plotMap(M, T=C, P=[], W=W, text=\"seed=8268\")"
   ]
  },
  {
   "cell_type": "markdown",
   "id": "d4278299",
   "metadata": {},
   "source": [
    "#### 4.2.1 Delivery to 75 Customers"
   ]
  },
  {
   "cell_type": "code",
   "execution_count": 56,
   "id": "107af716",
   "metadata": {},
   "outputs": [],
   "source": [
    "random.seed(8268)\n",
    "#randomly sampling 75 customer locations from C for testing\n",
    "T = random.sample(C, k=len(C)//2) #150 customers total"
   ]
  },
  {
   "cell_type": "code",
   "execution_count": 57,
   "id": "9c42e51d",
   "metadata": {},
   "outputs": [],
   "source": [
    "# Adding randomly selected customer locations (T) to the original map (M)\n",
    "MC = addTargets(M, T)"
   ]
  },
  {
   "cell_type": "code",
   "execution_count": 58,
   "id": "fab19fbf",
   "metadata": {},
   "outputs": [
    {
     "data": {
      "text/plain": [
       "0.04300069808959961"
      ]
     },
     "execution_count": 58,
     "metadata": {},
     "output_type": "execute_result"
    }
   ],
   "source": [
    "# Measuring the time taken to generate the roundtrip\n",
    "start_time = time.time()  # Record the start time\n",
    "P = createLoop(MC, [W]+T)  # Generate the roundtrip\n",
    "end_time = time.time()    # Record the end time\n",
    "\n",
    "# Calculate the elapsed time\n",
    "elapsed_time = end_time - start_time\n",
    "elapsed_time  # Output the elapsed time"
   ]
  },
  {
   "cell_type": "code",
   "execution_count": 59,
   "id": "22750101",
   "metadata": {
    "scrolled": true
   },
   "outputs": [
    {
     "data": {
      "text/plain": [
       "(5250, 2750)"
      ]
     },
     "execution_count": 59,
     "metadata": {},
     "output_type": "execute_result"
    }
   ],
   "source": [
    "# The Warehouse location.\n",
    "W"
   ]
  },
  {
   "cell_type": "code",
   "execution_count": 60,
   "id": "39a2c9ea",
   "metadata": {},
   "outputs": [
    {
     "data": {
      "text/plain": [
       "[(5250, 2750),\n",
       " (6500, 2750),\n",
       " (6500, 2513),\n",
       " (6500, 2750),\n",
       " (6500, 4000),\n",
       " (5250, 4000),\n",
       " (4000, 4000),\n",
       " (4000, 5250),\n",
       " (4654, 5904),\n",
       " (4000, 5250),\n",
       " (4000, 4000),\n",
       " (5250, 4000),\n",
       " (5250, 2750)]"
      ]
     },
     "execution_count": 60,
     "metadata": {},
     "output_type": "execute_result"
    }
   ],
   "source": [
    "# This output represents the shortest loop that starts and ends at the warehouse (4000, 7024) while visiting all the selected customer locations.\n",
    "# The loop consists of a sequence of coordinate points that represent the path taken by the delivery route.\n",
    "# Each coordinate pair represents a location visited in the loop.\n",
    "P"
   ]
  },
  {
   "cell_type": "code",
   "execution_count": 61,
   "id": "a5f43193",
   "metadata": {},
   "outputs": [
    {
     "data": {
      "image/png": "[encoded data removed]",
      "text/plain": [
       "<Figure size 600x600 with 1 Axes>"
      ]
     },
     "metadata": {},
     "output_type": "display_data"
    }
   ],
   "source": [
    "plotMap(MC, T=T, W=W, P=P, text=f\"Path Length={pathLength(P):3,d}m\")"
   ]
  },
  {
   "cell_type": "markdown",
   "id": "d99fea2d",
   "metadata": {},
   "source": [
    "#### 4.2.2 Delivery to all Customers"
   ]
  },
  {
   "cell_type": "code",
   "execution_count": 62,
   "id": "a8fa40c6",
   "metadata": {},
   "outputs": [],
   "source": [
    "# Set the list of customers (delivery points) to be equal to all customers in the dataset\n",
    "T = C"
   ]
  },
  {
   "cell_type": "code",
   "execution_count": 63,
   "id": "6f3760b1",
   "metadata": {},
   "outputs": [],
   "source": [
    "# Add delivery targets for all customers to the map\n",
    "MC = addTargets(M, T)"
   ]
  },
  {
   "cell_type": "code",
   "execution_count": 64,
   "id": "43b9f87e",
   "metadata": {},
   "outputs": [],
   "source": [
    "# Create a loop that visits the warehouse and all customer locations\n",
    "P = createLoop(MC, [W] + T)"
   ]
  },
  {
   "cell_type": "code",
   "execution_count": 65,
   "id": "7c1e6984",
   "metadata": {},
   "outputs": [
    {
     "data": {
      "image/png": "[encoded data removed]",
      "text/plain": [
       "<Figure size 600x600 with 1 Axes>"
      ]
     },
     "metadata": {},
     "output_type": "display_data"
    }
   ],
   "source": [
    "# Plot the map showing the warehouse, customer locations, and the delivery path\n",
    "plotMap(MC, T=T, W=W, P=P, text=f\"Path Length={pathLength(P):3,d}m\")"
   ]
  },
  {
   "cell_type": "markdown",
   "id": "d64922fd",
   "metadata": {},
   "source": [
    "#### 4.2.3 Running the Algorithm on Real Data"
   ]
  },
  {
   "cell_type": "code",
   "execution_count": 66,
   "id": "89375824",
   "metadata": {},
   "outputs": [],
   "source": [
    "## main code for running simulation\n",
    "with open('customer_data.pickled', 'rb') as f:\n",
    "    M, _, W, C= pickle.load(f)"
   ]
  },
  {
   "cell_type": "code",
   "execution_count": 67,
   "id": "0e37401d",
   "metadata": {},
   "outputs": [],
   "source": [
    "# Set the random seed for reproducibility and generate a warehouse location\n",
    "random.seed(8268)\n",
    "W = generateWarehouseLocation(M)"
   ]
  },
  {
   "cell_type": "code",
   "execution_count": 68,
   "id": "9700a733",
   "metadata": {},
   "outputs": [
    {
     "data": {
      "text/plain": [
       "150"
      ]
     },
     "execution_count": 68,
     "metadata": {},
     "output_type": "execute_result"
    }
   ],
   "source": [
    "# There are 150 customers in the dataset.\n",
    "len(C)"
   ]
  },
  {
   "cell_type": "code",
   "execution_count": 69,
   "id": "d945260e",
   "metadata": {},
   "outputs": [],
   "source": [
    "# Randomly selecting 1/5th of the customers for delivery.\n",
    "random.seed(0)\n",
    "T = random.sample(C, k=len(C)//5)"
   ]
  },
  {
   "cell_type": "code",
   "execution_count": 70,
   "id": "3e1b56e3",
   "metadata": {},
   "outputs": [],
   "source": [
    "# Adding delivery targets for the selected customers.\n",
    "MT = addTargets(M, T)"
   ]
  },
  {
   "cell_type": "code",
   "execution_count": 71,
   "id": "a398d538",
   "metadata": {},
   "outputs": [
    {
     "data": {
      "image/png": "[encoded data removed]",
      "text/plain": [
       "<Figure size 600x600 with 1 Axes>"
      ]
     },
     "metadata": {},
     "output_type": "display_data"
    }
   ],
   "source": [
    "# Plotting the map with the warehouse, selected customer targets, and no path.\n",
    "plotMap(MT, T=T, W=W, P=[], text=f\"seed=8268\")"
   ]
  },
  {
   "cell_type": "code",
   "execution_count": 72,
   "id": "2190b3c4",
   "metadata": {
    "scrolled": true
   },
   "outputs": [],
   "source": [
    "# Creating a loop path using the A* algorithm for the warehouse and selected customer targets.\n",
    "PT = createLoop(MT, [W]+T)"
   ]
  },
  {
   "cell_type": "code",
   "execution_count": 73,
   "id": "71eeda24",
   "metadata": {},
   "outputs": [
    {
     "data": {
      "image/png": "[encoded data removed]",
      "text/plain": [
       "<Figure size 600x600 with 1 Axes>"
      ]
     },
     "metadata": {},
     "output_type": "display_data"
    }
   ],
   "source": [
    "# Plotting the map with the warehouse, selected customer targets, and the generated loop path.\n",
    "plotMap(MT, T=T, W=W, P=PT, text=f\"seed=8268 Path Length={pathLength(PT):3,d}m\")"
   ]
  },
  {
   "cell_type": "code",
   "execution_count": 74,
   "id": "7840bd87",
   "metadata": {},
   "outputs": [],
   "source": [
    "# Setting the seed for reproducibility and generating a warehouse location.\n",
    "random.seed(12)\n",
    "W2 = generateWarehouseLocation(M)"
   ]
  },
  {
   "cell_type": "code",
   "execution_count": 75,
   "id": "4c323490",
   "metadata": {
    "scrolled": false
   },
   "outputs": [
    {
     "data": {
      "image/png": "[encoded data removed]",
      "text/plain": [
       "<Figure size 600x600 with 1 Axes>"
      ]
     },
     "metadata": {},
     "output_type": "display_data"
    }
   ],
   "source": [
    "# Plotting the map with the new warehouse location.\n",
    "plotMap(MT, T=T, W=W2, P=[], text=f\"seed=12\")"
   ]
  },
  {
   "cell_type": "code",
   "execution_count": 76,
   "id": "d0c9cf51",
   "metadata": {},
   "outputs": [],
   "source": [
    "# Creating the delivery route using the new warehouse location.\n",
    "P2 = createLoop(MT, [W2]+T)"
   ]
  },
  {
   "cell_type": "code",
   "execution_count": 77,
   "id": "dcb05577",
   "metadata": {},
   "outputs": [
    {
     "data": {
      "image/png": "[encoded data removed]",
      "text/plain": [
       "<Figure size 600x600 with 1 Axes>"
      ]
     },
     "metadata": {},
     "output_type": "display_data"
    }
   ],
   "source": [
    "# Plotting the map with the delivery route using the new warehouse location.\n",
    "plotMap(MT, T=T, W=W2, P=P2, text=f\"seed=12 Path Length={pathLength(P2):3,d}m\")"
   ]
  },
  {
   "cell_type": "markdown",
   "id": "d481871a",
   "metadata": {},
   "source": [
    "#### 4.3 Monte-Carlo Optimisation"
   ]
  },
  {
   "cell_type": "markdown",
   "id": "90de1184",
   "metadata": {},
   "source": [
    "This is an optimisation for the case of a fixed given number of customers to be served in one loop."
   ]
  },
  {
   "cell_type": "code",
   "execution_count": 78,
   "id": "efbc18fe",
   "metadata": {},
   "outputs": [],
   "source": [
    "def monte_carlo(M, T, k=math.inf, timing=False, plot=False):\n",
    "    \"\"\"\n",
    "    Perform Monte Carlo optimization for the given map and target points.\n",
    "\n",
    "    Parameters:\n",
    "        M (tuple): The map tuple containing vertices and edges.\n",
    "        T (list): The list of target points (customers).\n",
    "        k (int, optional): The maximum number of sampled warehouse locations. Defaults to math.inf.\n",
    "        timing (bool, optional): Whether to print timing information. Defaults to False.\n",
    "        plot (bool, optional): Whether to plot the result. Defaults to False.\n",
    "\n",
    "    Returns:\n",
    "        tuple: The coordinates of the optimized warehouse location.\n",
    "    \"\"\"\n",
    "    if timing:\n",
    "        start_time = time.time()\n",
    "    V, _ = M\n",
    "    W = sorted(random.sample(V, k=min(len(V), k)))\n",
    "    MT = addTargets(M, T)\n",
    "    minL, minP, minW = math.inf, None, None\n",
    "    for w in W:\n",
    "        if minP is not None and w in minP:\n",
    "            # any point on the current shortest loop will generate the same loop\n",
    "            continue\n",
    "        P = createLoop(MT, [w]+T)\n",
    "        L = pathLength(P)\n",
    "        if L<minL:\n",
    "            minL, minP, minW = L, P, w\n",
    "            print(f\"path length: {L:6,d}m\")\n",
    "        if timing:\n",
    "            print(f\"     iteration:  {time.time()-start_time:6.2f}s\")\n",
    "    if plot:\n",
    "        plotMap(MT, T=T, W=minW, P=minP, text=f\"seed=8288 Path Length={minL:8.1f}m\")\n",
    "    return minW"
   ]
  },
  {
   "cell_type": "code",
   "execution_count": 79,
   "id": "7362cc50",
   "metadata": {},
   "outputs": [
    {
     "name": "stdout",
     "output_type": "stream",
     "text": [
      "pathlength: 38,004m\n",
      "     iteration:   14.48s\n",
      "     iteration:   26.70s\n",
      "     iteration:   38.64s\n",
      "     iteration:   55.29s\n",
      "     iteration:   67.34s\n",
      "pathlength: 37,930m\n",
      "     iteration:   76.45s\n",
      "     iteration:   85.60s\n",
      "pathlength: 36,810m\n",
      "     iteration:  119.02s\n",
      "     iteration:  129.58s\n",
      "     iteration:  137.75s\n",
      "pathlength: 36,350m\n",
      "     iteration:  156.07s\n",
      "     iteration:  176.92s\n",
      "     iteration:  189.15s\n",
      "     iteration:  200.10s\n",
      "     iteration:  217.49s\n",
      "     iteration:  228.88s\n",
      "     iteration:  240.95s\n",
      "     iteration:  253.30s\n",
      "     iteration:  265.88s\n",
      "pathlength: 35,960m\n",
      "     iteration:  281.79s\n",
      "pathlength: 35,676m\n",
      "     iteration:  305.27s\n",
      "pathlength: 35,546m\n",
      "     iteration:  320.18s\n",
      "pathlength: 35,230m\n",
      "     iteration:  335.25s\n",
      "     iteration:  351.53s\n",
      "     iteration:  385.32s\n",
      "     iteration:  396.85s\n",
      "     iteration:  408.16s\n",
      "     iteration:  418.89s\n",
      "     iteration:  436.85s\n",
      "     iteration:  458.51s\n",
      "     iteration:  473.51s\n",
      "     iteration:  494.95s\n",
      "     iteration:  516.26s\n",
      "     iteration:  533.09s\n",
      "     iteration:  556.02s\n",
      "     iteration:  577.94s\n",
      "     iteration:  588.19s\n",
      "     iteration:  609.65s\n",
      "     iteration:  623.92s\n",
      "     iteration:  654.00s\n",
      "     iteration:  661.96s\n",
      "     iteration:  672.75s\n",
      "     iteration:  690.43s\n",
      "     iteration:  709.27s\n",
      "     iteration:  744.23s\n",
      "     iteration:  762.65s\n",
      "     iteration:  786.89s\n",
      "     iteration:  804.33s\n",
      "     iteration:  819.55s\n",
      "     iteration:  858.06s\n",
      "     iteration:  872.71s\n",
      "     iteration:  904.31s\n",
      "     iteration:  926.32s\n",
      "     iteration:  951.08s\n",
      "     iteration:  1016.09s\n",
      "     iteration:  1031.59s\n",
      "     iteration:  1061.62s\n",
      "     iteration:  1104.85s\n",
      "     iteration:  1122.23s\n",
      "     iteration:  1133.46s\n",
      "     iteration:  1152.15s\n",
      "     iteration:  11253.39s\n",
      "     iteration:  11306.24s\n",
      "     iteration:  11355.75s\n",
      "     iteration:  11374.64s\n",
      "     iteration:  11391.87s\n",
      "     iteration:  11417.38s\n",
      "     iteration:  11436.48s\n",
      "     iteration:  11450.27s\n",
      "     iteration:  11468.71s\n",
      "     iteration:  11480.60s\n",
      "     iteration:  11491.27s\n",
      "     iteration:  11503.33s\n",
      "     iteration:  11517.71s\n",
      "     iteration:  11531.75s\n",
      "     iteration:  11549.58s\n",
      "     iteration:  11567.31s\n",
      "     iteration:  11580.67s\n",
      "     iteration:  11588.61s\n",
      "     iteration:  11604.56s\n",
      "     iteration:  11619.99s\n",
      "     iteration:  11630.12s\n",
      "     iteration:  11637.84s\n",
      "     iteration:  11647.15s\n",
      "     iteration:  11657.82s\n",
      "     iteration:  11668.72s\n",
      "     iteration:  11684.20s\n",
      "     iteration:  11696.10s\n",
      "     iteration:  11706.63s\n",
      "     iteration:  11726.22s\n",
      "     iteration:  11747.97s\n",
      "     iteration:  11759.61s\n",
      "     iteration:  11774.28s\n",
      "     iteration:  11793.64s\n",
      "     iteration:  11810.29s\n",
      "     iteration:  11821.15s\n",
      "     iteration:  11834.48s\n",
      "     iteration:  11845.68s\n",
      "     iteration:  11862.32s\n",
      "     iteration:  11874.15s\n",
      "     iteration:  11944.82s\n",
      "     iteration:  12019.79s\n",
      "     iteration:  12090.93s\n",
      "     iteration:  12108.48s\n",
      "     iteration:  12118.50s\n",
      "     iteration:  12127.96s\n",
      "     iteration:  12139.02s\n",
      "     iteration:  12155.08s\n",
      "     iteration:  12169.58s\n",
      "     iteration:  12204.40s\n",
      "     iteration:  12238.34s\n",
      "     iteration:  12277.25s\n",
      "     iteration:  12323.93s\n",
      "     iteration:  12350.06s\n",
      "     iteration:  12360.60s\n",
      "     iteration:  12369.67s\n",
      "     iteration:  12400.37s\n",
      "     iteration:  12429.54s\n",
      "     iteration:  12455.04s\n",
      "     iteration:  12487.10s\n",
      "     iteration:  12516.88s\n",
      "     iteration:  12552.87s\n",
      "     iteration:  12591.20s\n",
      "     iteration:  12622.01s\n",
      "     iteration:  12664.81s\n",
      "     iteration:  12689.81s\n"
     ]
    },
    {
     "data": {
      "image/png": "[encoded data removed]",
      "text/plain": [
       "<Figure size 600x600 with 1 Axes>"
      ]
     },
     "metadata": {},
     "output_type": "display_data"
    },
    {
     "data": {
      "text/plain": [
       "(1760, 1200)"
      ]
     },
     "execution_count": 79,
     "metadata": {},
     "output_type": "execute_result"
    }
   ],
   "source": [
    "random.seed(8268)\n",
    "monte_carlo(M, T, timing=True, plot=True)"
   ]
  },
  {
   "cell_type": "markdown",
   "id": "bc07facc",
   "metadata": {},
   "source": [
    "## 5 Time Handling"
   ]
  },
  {
   "cell_type": "markdown",
   "id": "d5a414df",
   "metadata": {},
   "source": [
    "**Convention:** In this project we measure time in seconds. The simulation will start at 0:00. Time related methods will be added as they are needed."
   ]
  },
  {
   "cell_type": "markdown",
   "id": "5c2a7655",
   "metadata": {},
   "source": [
    "`timestamp(t)` generates a timestamp string in the form `[dd] hh:mm:ss.d`"
   ]
  },
  {
   "cell_type": "code",
   "execution_count": 98,
   "id": "dc64abea",
   "metadata": {},
   "outputs": [],
   "source": [
    "def timestamp(t):\n",
    "    # Calculate the number of days from the input time t\n",
    "    day = int(t) // (24 * 3600)\n",
    "    \n",
    "    # Subtract the number of seconds equivalent to the calculated number of days from the input time t\n",
    "    t = t - day * 24 * 3600\n",
    "    \n",
    "    # Calculate the number of hours from the remaining time t\n",
    "    hour = int(t) // 3600\n",
    "    \n",
    "    # Subtract the number of seconds equivalent to the calculated number of hours from the remaining time t\n",
    "    t = t - hour * 3600\n",
    "    \n",
    "    # Calculate the number of minutes from the remaining time t\n",
    "    mins = int(t) // 60\n",
    "    \n",
    "    # Subtract the number of seconds equivalent to the calculated number of minutes from the remaining time t\n",
    "    t = t - mins * 60\n",
    "    \n",
    "    # Calculate the number of seconds from the remaining time t\n",
    "    secs = int(t)\n",
    "    \n",
    "    # Calculate tenths of a second by rounding the remaining fractional part of the input time t\n",
    "    t = int(round((t - secs) * 10))\n",
    "    \n",
    "    # Return the formatted timestamp string\n",
    "    return f\"[{day:2d}] {hour:02d}:{mins:02d}:{secs:02d}.{t:1d}\"\n",
    "\n",
    "# This function essentially converts the input time 't' in seconds into a human-readable timestamp string."
   ]
  },
  {
   "cell_type": "code",
   "execution_count": 81,
   "id": "3cef6679",
   "metadata": {},
   "outputs": [
    {
     "data": {
      "text/plain": [
       "'[ 3] 17:10:15.1'"
      ]
     },
     "execution_count": 81,
     "metadata": {},
     "output_type": "execute_result"
    }
   ],
   "source": [
    "timestamp(24*3600*3+17*3600+615.1)"
   ]
  },
  {
   "cell_type": "markdown",
   "id": "5e1a4beb",
   "metadata": {},
   "source": [
    "The formatted timestamp is '[ 3] 17:10:15.1', indicating that it's the 3rd day, 17th hour, 10th minute, 15 seconds, and 1 tenth of a second."
   ]
  },
  {
   "cell_type": "code",
   "execution_count": 100,
   "id": "e3c905fb",
   "metadata": {},
   "outputs": [],
   "source": [
    "def nextHour(env, hour):\n",
    "    \"\"\"\n",
    "    Calculates the time until the next specified hour in the simulation environment.\n",
    "\n",
    "    Args:\n",
    "        env (simpy.Environment): Simpy environment object representing the simulation environment.\n",
    "        hour (int): The target hour for which the function calculates the time until.\n",
    "\n",
    "    Returns:\n",
    "        float: The time (in seconds) until the next specified hour.\n",
    "    \"\"\"\n",
    "    # Calculate the beginning of the current day\n",
    "    beginningOfDay = int(env.now // (24 * 3600)) * 24 * 3600\n",
    "    # Calculate the time of the day\n",
    "    timeOfDay = env.now - beginningOfDay\n",
    "    # Check if the specified hour is ahead of the current time of the day\n",
    "    if hour * 3600 > timeOfDay:\n",
    "        # Return the time remaining until the specified hour\n",
    "        return hour * 3600 - timeOfDay\n",
    "    else:\n",
    "        # Return the time remaining until the specified hour of the next day\n",
    "        return hour * 3600 + 24 * 3600 - timeOfDay"
   ]
  },
  {
   "cell_type": "code",
   "execution_count": 101,
   "id": "fc676cd4",
   "metadata": {},
   "outputs": [],
   "source": [
    "def day(now):\n",
    "    \"\"\"\n",
    "    Calculates the current day in the simulation environment based on the provided time.\n",
    "\n",
    "    Args:\n",
    "        now (float): The current time in seconds.\n",
    "\n",
    "    Returns:\n",
    "        int: The current day in the simulation.\n",
    "    \"\"\"\n",
    "    # Calculate the current day based on the provided time\n",
    "    return int(now // (24 * 3600))"
   ]
  },
  {
   "cell_type": "markdown",
   "id": "02809909",
   "metadata": {},
   "source": [
    "## 6 Classes"
   ]
  },
  {
   "cell_type": "markdown",
   "id": "deb51d88",
   "metadata": {},
   "source": [
    "### 6.1 Class Recorder"
   ]
  },
  {
   "cell_type": "markdown",
   "id": "3eb027d1",
   "metadata": {},
   "source": [
    "We will use a class Recorder as a reference point for capturing data during the simulation. There will be only one recorder. It will be created at the beginning of every simulation run. Every entity will carry a reference to the Recorder."
   ]
  },
  {
   "cell_type": "code",
   "execution_count": 103,
   "id": "c528877f",
   "metadata": {},
   "outputs": [],
   "source": [
    "class Recorder:\n",
    "    \"\"\"\n",
    "    Recorder class for capturing data during the simulation.\n",
    "\n",
    "    Attributes:\n",
    "        env (simpy.Environment): The simulation environment.\n",
    "        M (list): List of map geometry.\n",
    "        W (tuple): Warehouse location.\n",
    "        C (list): List of customer locations.\n",
    "        days (int): Number of simulation days.\n",
    "        log (bool): Flag indicating whether to log events.\n",
    "        plot (bool): Flag indicating whether to plot data.\n",
    "        timing (bool): Flag indicating whether to record timing information.\n",
    "        start_time (float): Start time of the simulation.\n",
    "        last_time (float): Last recorded time.\n",
    "        cum_timer (dict): Cumulative timing information.\n",
    "        daily (pandas.DataFrame): DataFrame for daily records.\n",
    "    \"\"\"\n",
    "\n",
    "    def __init__(self, env, M, W, C, days,\n",
    "                 log=False, plot=False, timing=False):\n",
    "        \"\"\"\n",
    "        Initializes the Recorder with simulation parameters and data structures.\n",
    "\n",
    "        Args:\n",
    "            env (simpy.Environment): The simulation environment.\n",
    "            M (list): List of map geometry.\n",
    "            W (tuple): Warehouse location.\n",
    "            C (list): List of customer locations.\n",
    "            days (int): Number of simulation days.\n",
    "            log (bool, optional): Flag indicating whether to log events. Defaults to False.\n",
    "            plot (bool, optional): Flag indicating whether to plot data. Defaults to False.\n",
    "            timing (bool, optional): Flag indicating whether to record timing information. Defaults to False.\n",
    "        \"\"\"\n",
    "        self.env = env\n",
    "        self.M = M\n",
    "        self.W = W\n",
    "        self.C = C\n",
    "        self.days = days\n",
    "        self.log = log\n",
    "        self.plot = plot\n",
    "        self.timing = timing\n",
    "        self.start_time = time.time()\n",
    "        self.last_time = self.start_time\n",
    "        self.cum_timer = {}\n",
    "\n",
    "        Customer.REGISTER = []\n",
    "        Parcel.REGISTER = []\n",
    "\n",
    "        # Create a data frame for records per working day\n",
    "        self.daily = pd.DataFrame()\n",
    "        self.daily['begin work at'] = [None] * days\n",
    "        self.daily['end work at'] = [None] * days\n",
    "        self.daily['dist'] = [None] * days\n",
    "        self.daily['left'] = [None] * days\n",
    "\n",
    "    def timer(self, s):\n",
    "        \"\"\"\n",
    "        Records the timing information for a specific event.\n",
    "\n",
    "        Args:\n",
    "            s (str): Event description.\n",
    "        \"\"\"\n",
    "        t = time.time()\n",
    "        Δt = t - self.last_time\n",
    "        if self.timing:\n",
    "            print(f\"==== t: {t - self.start_time:6.2f}s Δt: {Δt:6.2f}s [{s:s}]\")\n",
    "        if s in self.cum_timer:\n",
    "            self.cum_timer[s] += Δt\n",
    "        else:\n",
    "            self.cum_timer[s] = Δt\n",
    "        self.last_time = t\n",
    "\n",
    "    def reportTimer(self):\n",
    "        \"\"\"Prints the accumulated timing information.\"\"\"\n",
    "        print(f\"==== t: {self.total_time:6.2f}s Total\")\n",
    "        for k in sorted(self.cum_timer, key=lambda x: self.cum_timer[x], reverse=True):\n",
    "            print(f\"==== ΣΔt: {self.cum_timer[k]:6.2f}s \" + k)\n",
    "\n",
    "    def trace(self, event):\n",
    "        \"\"\"\n",
    "        Logs the event if logging is enabled.\n",
    "\n",
    "        Args:\n",
    "            event (str): Event description.\n",
    "        \"\"\"\n",
    "        if self.log:\n",
    "            print(timestamp(self.env.now), event)\n",
    "\n",
    "    def recordDriverBeginsWork(self):\n",
    "        \"\"\"Records the driver's arrival for work.\"\"\"\n",
    "        self.trace(\"Driver arrives for work\")\n",
    "        self.daily.at[day(self.env.now), 'begin work at'] = int(round(self.env.now))\n",
    "\n",
    "    def recordDriverEndsWork(self):\n",
    "        \"\"\"Records the driver's departure from work.\"\"\"\n",
    "        self.trace(\"Driver goes home\")\n",
    "        self.daily.at[day(self.env.now), 'end work at'] = int(round(self.env.now))\n",
    "\n",
    "    def recordTourLength(self, length):\n",
    "        \"\"\"\n",
    "        Records the length of the daily tour.\n",
    "\n",
    "        Args:\n",
    "            length (int): Length of the tour.\n",
    "        \"\"\"\n",
    "        self.daily.at[day(self.env.now), 'dist'] = int(length)\n",
    "\n",
    "    def recordParcelsLeftOver(self, numberOfParcels):\n",
    "        \"\"\"\n",
    "        Records the number of left-over parcels for the next day.\n",
    "\n",
    "        Args:\n",
    "            numberOfParcels (int): Number of left-over parcels.\n",
    "        \"\"\"\n",
    "        self.trace(f\"{numberOfParcels:d} left over for next day\")\n",
    "        self.daily.at[day(self.env.now), 'left'] = numberOfParcels\n",
    "\n",
    "    def finish(self):\n",
    "        \"\"\"Finishes the simulation and calculates statistics.\"\"\"\n",
    "        self.total_time = time.time() - self.start_time\n",
    "        self.daily['working time'] = (self.daily['end work at'] - self.daily['begin work at']) // 60\n",
    "        # Simulation is finished for good\n",
    "        # By removing the simulation environment we can pickle recorder\n",
    "        self.env = None\n",
    "\n",
    "    def __stats__(self, column):\n",
    "        \"\"\"\n",
    "        Calculates statistics for the specified column in the daily DataFrame.\n",
    "\n",
    "        Args:\n",
    "            column (str): Column name.\n",
    "\n",
    "        Returns:\n",
    "            tuple: Tuple containing mean, median, and standard deviation of the specified column.\n",
    "        \"\"\"\n",
    "        d = self.daily[column].copy()\n",
    "        return d.mean(), d.median(), d.std()\n",
    "\n",
    "    def statsWorkingTime(self):\n",
    "        \"\"\"Calculates statistics for daily working time.\"\"\"\n",
    "        return self.__stats__('working time')\n",
    "\n",
    "    def histWorkingTime(self):\n",
    "        \"\"\"Plots a histogram for daily working time.\"\"\"\n",
    "        histplot(self.daily['working time'],\n",
    "                 xlabel='Working Time [min]',\n",
    "                 title='Daily Working Time')\n",
    "\n",
    "    def plotWorkingTime(self):\n",
    "        \"\"\"Plots the daily working time.\"\"\"\n",
    "        dailyPlot(self.daily['working time'],\n",
    "                  ylabel='Working Time [min]',\n",
    "                  title='Daily Working Time')\n",
    "\n",
    "    def statsTourLength(self):\n",
    "        \"\"\"Calculates statistics for daily tour length.\"\"\"\n",
    "        return self.__stats__('dist')\n",
    "\n",
    "    def histTourLength(self):\n",
    "        \"\"\"Plots a histogram for daily tour length.\"\"\"\n",
    "        histplot(self.daily['dist'],\n",
    "                 xlabel='Tour Length [m]',\n",
    "                 title='Daily Tour Length')\n",
    "\n",
    "    def plotTourLength(self):\n",
    "        \"\"\"Plots the daily tour length.\"\"\"\n",
    "        dailyPlot(self.daily['dist'],\n",
    "                  ylabel='Tour Length [m]',\n",
    "                  title='Daily Tour Length')\n",
    "\n",
    "    def statsLeftOver(self):\n",
    "        \"\"\"Calculates statistics for daily left-over parcels.\"\"\"\n",
    "        return self.__stats__('left')\n",
    "\n",
    "    def histLeftOver(self):\n",
    "        \"\"\"Plots a histogram for daily left-over parcels.\"\"\"\n",
    "        histplot(self.daily['left'],\n",
    "                 xlabel='Left-Over Parcels',\n",
    "                 title='Daily Left-Over Parcels')\n",
    "\n",
    "    def plotLeftOver(self):\n",
    "        \"\"\"Plots the daily left-over parcels.\"\"\"\n",
    "        dailyPlot(self.daily['left'],\n",
    "                  ylabel='Number of Parcels',\n",
    "                  title='Daily Left-Over Parcels')\n",
    "\n",
    "# The 'Recorder' class is used to capture data during the simulation.\n",
    "# It maintains records of various events and statistics for analysis.\n",
    "# Key methods include recording driver activities, tour lengths, and left-over parcels.\n",
    "# It provides functionality to calculate statistics and plot histograms for daily working time, tour length, and left-over parcels.\n",
    "# The class also includes methods for timing and logging events during the simulation."
   ]
  },
  {
   "cell_type": "markdown",
   "id": "0264d933",
   "metadata": {},
   "source": [
    "### 6.2 Class Parcel"
   ]
  },
  {
   "cell_type": "markdown",
   "id": "aecf4018",
   "metadata": {},
   "source": [
    "Parcels follow through a sequence of states:\n",
    "- processing\n",
    "- in transit (from manufacture to distribution centre)\n",
    "- arrived in distribution centre\n",
    "- ready for delivery \n",
    "- out for delivery\n",
    "- customer not present\n",
    "- returned to distribution centre\n",
    "- delivered"
   ]
  },
  {
   "cell_type": "code",
   "execution_count": 104,
   "id": "67754208",
   "metadata": {},
   "outputs": [],
   "source": [
    "class Parcel:\n",
    "    \"\"\"\n",
    "    Class representing parcels in the delivery system.\n",
    "\n",
    "    Attributes:\n",
    "        REGISTER (list): List to keep track of all Parcel instances.\n",
    "        rec (Recorder): Reference to the Recorder object.\n",
    "        i (int): Row index in data frames of input data.\n",
    "        dest (tuple): Destination location.\n",
    "        custIndex (int): Index of the customer associated with the parcel.\n",
    "        status (list): Record of parcel status.\n",
    "        timing (list): Timing information for parcel status changes.\n",
    "    \"\"\"\n",
    "\n",
    "    REGISTER = []\n",
    "\n",
    "    def __init__(self, rec, i, cust, custIndex):\n",
    "        \"\"\"\n",
    "        Initializes a Parcel object.\n",
    "\n",
    "        Args:\n",
    "            rec (Recorder): Reference to the Recorder object.\n",
    "            i (int): Row index in data frames of input data.\n",
    "            cust (Customer): Customer associated with the parcel.\n",
    "            custIndex (int): Index of the customer.\n",
    "        \"\"\"\n",
    "        self.rec = rec\n",
    "        self.i = i  # row index in data frames of input data\n",
    "        self.dest = cust.location\n",
    "        self.custIndex = custIndex\n",
    "        self.status = ['processing']  # status record and\n",
    "        self.timing = [self.rec.env.now]  # timing\n",
    "        assert (len(Parcel.REGISTER) == i)\n",
    "        Parcel.REGISTER += [self]\n",
    "\n",
    "    @staticmethod\n",
    "    def getParcel(rec, i, location, custIndex):\n",
    "        \"\"\"\n",
    "        Factory method to ensure only one Parcel instance per location.\n",
    "\n",
    "        Args:\n",
    "            rec (Recorder): Reference to the Recorder object.\n",
    "            i (int): Row index in data frames of input data.\n",
    "            location (tuple): Parcel destination location.\n",
    "            custIndex (int): Index of the customer.\n",
    "\n",
    "        Returns:\n",
    "            Parcel: Existing or new Parcel object.\n",
    "        \"\"\"\n",
    "        for p in Parcel.REGISTER:\n",
    "            if p.i == i:\n",
    "                return p\n",
    "        return Parcel(rec, i, location, custIndex)\n",
    "\n",
    "    def __str__(self):\n",
    "        \"\"\"\n",
    "        Returns a string representation of the Parcel.\n",
    "\n",
    "        Returns:\n",
    "            str: String representation of the Parcel.\n",
    "        \"\"\"\n",
    "        return f\"Parcel: {self.i:3d} ({self.custIndex:3d})\"\n",
    "\n",
    "    def index(self):\n",
    "        \"\"\"\n",
    "        Returns the row index of the Parcel in the data frames.\n",
    "\n",
    "        Returns:\n",
    "            int: Row index of the Parcel.\n",
    "        \"\"\"\n",
    "        return self.i\n",
    "\n",
    "    def destination(self):\n",
    "        \"\"\"\n",
    "        Returns the destination location of the Parcel.\n",
    "\n",
    "        Returns:\n",
    "            tuple: Destination location of the Parcel.\n",
    "        \"\"\"\n",
    "        return self.dest\n",
    "\n",
    "    def __reg(self, state):\n",
    "        \"\"\"\n",
    "        Records the status change of the Parcel.\n",
    "\n",
    "        Args:\n",
    "            state (str): New status of the Parcel.\n",
    "        \"\"\"\n",
    "        self.status += [state]\n",
    "        self.timing += [self.rec.env.now]\n",
    "        self.rec.trace(str(self) + \" \" + state)\n",
    "\n",
    "    def arrivedAtDeliveryCentre(self):\n",
    "        \"\"\"Records when the Parcel arrives at the delivery centre.\"\"\"\n",
    "        self.__reg('arr at delivery centre')\n",
    "\n",
    "    def outForDelivery(self):\n",
    "        \"\"\"Records when the Parcel is out for delivery.\"\"\"\n",
    "        self.__reg('out for delivery')\n",
    "\n",
    "    def returnFromDelivery(self):\n",
    "        \"\"\"Records when the Parcel is returned from delivery.\"\"\"\n",
    "        self.__reg('return from delivery')\n",
    "\n",
    "# The 'Parcel' class represents parcels in the delivery system.\n",
    "# It maintains records of parcel status changes and timing information.\n",
    "# Parcels go through a sequence of states including processing, in transit, arrived, ready for delivery, out for delivery, customer not present, returned, and delivered.\n",
    "# The 'getParcel' method ensures that there is only one Parcel instance per location.\n",
    "# Methods like 'arrivedAtDeliveryCentre', 'outForDelivery', and 'returnFromDelivery' record specific events in the lifecycle of a parcel."
   ]
  },
  {
   "cell_type": "markdown",
   "id": "60dfb6be",
   "metadata": {},
   "source": [
    "### 6.3 Class Customer"
   ]
  },
  {
   "cell_type": "code",
   "execution_count": 106,
   "id": "03f66c1a",
   "metadata": {},
   "outputs": [],
   "source": [
    "class Customer:\n",
    "    \"\"\"\n",
    "    Class representing customers in the delivery system.\n",
    "\n",
    "    Attributes:\n",
    "        REGISTER (list): List to keep track of all Customer instances.\n",
    "        rec (Recorder): Reference to the Recorder object.\n",
    "        location (tuple): Location of the customer.\n",
    "        i (int): Index of the customer.\n",
    "        atHome (bool): Indicates if the customer is at home.\n",
    "        answersDoor (bool): Indicates if the customer answers the door.\n",
    "        parcelsReceived (list): List of parcels received by the customer.\n",
    "    \"\"\"\n",
    "\n",
    "    REGISTER = []\n",
    "\n",
    "    def __init__(self, rec, location):\n",
    "        \"\"\"\n",
    "        Initializes a Customer object.\n",
    "\n",
    "        Args:\n",
    "            rec (Recorder): Reference to the Recorder object.\n",
    "            location (tuple): Location of the customer.\n",
    "        \"\"\"\n",
    "        self.rec = rec\n",
    "        self.location = location\n",
    "        self.i = len(Customer.REGISTER)\n",
    "        Customer.REGISTER += [self]\n",
    "        self.atHome = True\n",
    "        self.answersDoor = False\n",
    "        self.parcelsReceived = []\n",
    "        rec.env.process(self.process())\n",
    "\n",
    "    def __str__(self):\n",
    "        \"\"\"\n",
    "        Returns a string representation of the Customer.\n",
    "\n",
    "        Returns:\n",
    "            str: String representation of the Customer.\n",
    "        \"\"\"\n",
    "        return f\"Customer: {self.i:2d} {str(self.location):s}\"\n",
    "\n",
    "    @staticmethod\n",
    "    def getCustomer(rec, location):\n",
    "        \"\"\"\n",
    "        Factory method to ensure only one Customer instance per location.\n",
    "\n",
    "        Args:\n",
    "            rec (Recorder): Reference to the Recorder object.\n",
    "            location (tuple): Location of the customer.\n",
    "\n",
    "        Returns:\n",
    "            Customer: Existing or new Customer object.\n",
    "        \"\"\"\n",
    "        for c in Customer.REGISTER:\n",
    "            if c.location == location:\n",
    "                return c\n",
    "        return Customer(rec, location)\n",
    "\n",
    "    def leaveHouse(self):\n",
    "        \"\"\"Updates customer status when leaving the house.\"\"\"\n",
    "        assert (self.atHome and not self.answersDoor)\n",
    "        self.atHome = False\n",
    "\n",
    "    def returnHome(self):\n",
    "        \"\"\"Updates customer status when returning home.\"\"\"\n",
    "        assert (not self.atHome)\n",
    "        self.atHome = True\n",
    "\n",
    "    def answerDoor(self):\n",
    "        \"\"\"\n",
    "        Simulates the customer answering the door.\n",
    "\n",
    "        Yields:\n",
    "            int: Time to wait before the customer answers the door.\n",
    "        \"\"\"\n",
    "        if self.atHome:\n",
    "            yield self.rec.env.timeout(random.expovariate(1 / AVERAGE_TIME_ANSWER_DOOR))\n",
    "            self.rec.trace(str(self) + \" answers door\")\n",
    "            self.answersDoor = True\n",
    "        else:\n",
    "            yield self.rec.env.timeout(WAIT_TIME_IF_CUSTOMER_DOESNT_ANSWER_DOOR)\n",
    "            self.rec(str(self) + \" not at home\")\n",
    "\n",
    "    def acceptParcel(self, parcel):\n",
    "        \"\"\"\n",
    "        Records the acceptance of a parcel by the customer.\n",
    "\n",
    "        Args:\n",
    "            parcel (Parcel): Parcel received by the customer.\n",
    "        \"\"\"\n",
    "        assert (self.answersDoor)\n",
    "        self.parcelsReceived += [parcel]\n",
    "        self.rec.trace(str(self) + \" accepts \" + str(parcel))\n",
    "\n",
    "    def signOff(self):\n",
    "        \"\"\"Records the sign off action by the customer.\"\"\"\n",
    "        assert (self.answersDoor)\n",
    "        self.rec.trace(str(self) + \" signs off\")\n",
    "        self.answersDoor = False\n",
    "\n",
    "    def process(self):\n",
    "        \"\"\"Simulates the customer's daily routine.\"\"\"\n",
    "        yield self.rec.env.timeout(nextHour(self.rec.env, 8))\n",
    "        while day(self.rec.env.now) < self.rec.days:\n",
    "            self.leaveHouse()\n",
    "            yield self.rec.env.timeout(nextHour(self.rec.env, 18))\n",
    "            self.returnHome()\n",
    "            yield self.rec.env.timeout(nextHour(self.rec.env, 8))\n",
    "\n",
    "# The 'Customer' class represents customers in the delivery system.\n",
    "# It maintains records of customer status including whether they are at home and if they answer the door.\n",
    "# Customers go through a daily routine of leaving and returning home, simulating their availability to receive parcels.\n",
    "# Methods like 'answerDoor', 'acceptParcel', and 'signOff' simulate customer actions during parcel delivery.\n",
    "# The 'process' method simulates the daily routine of customers, including leaving and returning home at specific times."
   ]
  },
  {
   "cell_type": "markdown",
   "id": "ffb72015",
   "metadata": {},
   "source": [
    "### 6.4 Class Driver"
   ]
  },
  {
   "cell_type": "code",
   "execution_count": 108,
   "id": "28bf18b6",
   "metadata": {},
   "outputs": [],
   "source": [
    "class Driver:\n",
    "    \"\"\"\n",
    "    Class representing drivers in the delivery system.\n",
    "\n",
    "    Attributes:\n",
    "        rec (Recorder): Reference to the Recorder object.\n",
    "        DC (DeliveryCentre): Reference to the DeliveryCentre object.\n",
    "        location (tuple): Current location of the driver.\n",
    "        parcels (list): List of parcels assigned to the driver.\n",
    "        tour (list): List representing the tour route for delivery.\n",
    "        returns (list): List of parcels returned by customers.\n",
    "    \"\"\"\n",
    "\n",
    "    def __init__(self, rec, DC):\n",
    "        \"\"\"\n",
    "        Initializes a Driver object.\n",
    "\n",
    "        Args:\n",
    "            rec (Recorder): Reference to the Recorder object.\n",
    "            DC (DeliveryCentre): Reference to the DeliveryCentre object.\n",
    "        \"\"\"\n",
    "        self.rec = rec\n",
    "        self.DC = DC\n",
    "        self.location = None\n",
    "        self.parcels = None\n",
    "        self.tour = None\n",
    "        self.rec.env.process(self.process())\n",
    "\n",
    "    def __drive(self, target):\n",
    "        \"\"\"\n",
    "        Simulates the driving activity of the driver.\n",
    "\n",
    "        Args:\n",
    "            target (tuple): Target location to drive to.\n",
    "\n",
    "        Yields:\n",
    "            int: Time to drive to the target location.\n",
    "        \"\"\"\n",
    "        assert (self.tour[0] == self.location)\n",
    "        while self.location != target:\n",
    "            d = dist(self.location, self.tour[1])\n",
    "            yield self.rec.env.timeout(d / AVERAGE_SPEED)\n",
    "            self.location = self.tour[1]\n",
    "            self.tour = self.tour[1:]\n",
    "        assert (self.tour[0] == self.location == target)\n",
    "\n",
    "    def arriveForWork(self):\n",
    "        \"\"\"Prepares the driver for work.\"\"\"\n",
    "        self.location = self.DC.W\n",
    "        self.parcels = []\n",
    "        self.returns = []\n",
    "        self.tour = [self.DC.W]\n",
    "        self.rec.recordDriverBeginsWork()\n",
    "\n",
    "    def leaveForDelivery(self, tour, parcels):\n",
    "        \"\"\"\n",
    "        Sets up the driver for leaving to deliver parcels.\n",
    "\n",
    "        Args:\n",
    "            tour (list): Tour route for delivery.\n",
    "            parcels (list): Parcels to be delivered.\n",
    "        \"\"\"\n",
    "        self.tour, self.parcels = tour, parcels\n",
    "        self.rec.trace(f\"Driver leaves for delivery \" \\\n",
    "                       f\"of {len(parcels):d} parcels\")\n",
    "\n",
    "    def process(self):\n",
    "        \"\"\"Simulates the driver's daily routine.\"\"\"\n",
    "        yield self.rec.env.timeout(nextHour(self.rec.env, 18))\n",
    "        while day(self.rec.env.now) < self.rec.days:\n",
    "            self.arriveForWork()\n",
    "            tour, parcels = self.DC.sendForDelivery()\n",
    "            yield self.rec.env.timeout(PREP_TIME_PER_PARCEL * len(parcels))\n",
    "            self.rec.recordTourLength(pathLength(tour))\n",
    "            self.leaveForDelivery(tour, parcels)\n",
    "            while len(self.parcels) > 0:\n",
    "                custLocation = self.parcels[0].dest\n",
    "                cust = Customer.getCustomer(self.rec, custLocation)\n",
    "                self.rec.trace(\"Driver drives to \" + str(cust))\n",
    "                yield from self.__drive(custLocation)\n",
    "                self.rec.trace(\"Driver arrived at \" + str(cust))\n",
    "                yield from cust.answerDoor()\n",
    "                if cust.answersDoor:\n",
    "                    while len(self.parcels) > 0 and \\\n",
    "                            custLocation == self.parcels[0].dest:\n",
    "                        cust.acceptParcel(self.parcels[0])\n",
    "                        yield self.rec.env.timeout(random.expovariate(1 / 10))\n",
    "                        self.parcels = self.parcels[1:]\n",
    "                    cust.signOff()\n",
    "                    yield self.rec.env.timeout(random.expovariate(1 / 10))\n",
    "                else:\n",
    "                    while len(self.parcels) > 0 and \\\n",
    "                            custLocation == self.parcels[0].dest:\n",
    "                        self.returns += self.parcels[0]\n",
    "                        self.parcels = self.parcels[1:]\n",
    "\n",
    "            self.rec.trace(\"Driver returns to delivery centre\")\n",
    "            yield from self.__drive(self.DC.W)\n",
    "            self.rec.trace(\"Driver arrived at delivery centre\")\n",
    "\n",
    "            for parcel in self.returns:\n",
    "                self.DC.returnFromDelivery(parcel)\n",
    "                yield self.rec.env.timeout(RETURN_TIME_PER_PARCEL)\n",
    "            yield self.rec.env.timeout(600)\n",
    "            self.rec.recordParcelsLeftOver(len(self.DC.parcels) +\n",
    "                                           len(self.DC.leftOver))\n",
    "            self.rec.recordDriverEndsWork()\n",
    "            self.rec.trace(self.DC.inventory())\n",
    "            yield self.rec.env.timeout(nextHour(self.rec.env, 18))\n",
    "\n",
    "# The 'Driver' class represents drivers in the delivery system.\n",
    "# It simulates the driver's daily routine including arriving for work, leaving for delivery, delivering parcels, and returning to the delivery center.\n",
    "# The 'process' method governs the driver's actions during the simulation, coordinating with the DeliveryCentre and Customer objects.\n",
    "# Methods like 'arriveForWork', 'leaveForDelivery', and '__drive' manage the driver's movement and parcel delivery process.\n",
    "# The 'Driver' class plays a crucial role"
   ]
  },
  {
   "cell_type": "markdown",
   "id": "994daa76",
   "metadata": {},
   "source": [
    "### 6.5 Class Delivery Centre"
   ]
  },
  {
   "cell_type": "code",
   "execution_count": 109,
   "id": "b1062d4d",
   "metadata": {},
   "outputs": [],
   "source": [
    "class DeliveryCentre:\n",
    "    \"\"\"\n",
    "    Class representing the delivery center in the system.\n",
    "\n",
    "    Attributes:\n",
    "        rec (Recorder): Reference to the Recorder object.\n",
    "        M (list): List representing the map.\n",
    "        W (tuple): Warehouse location.\n",
    "        limit (int): Limit for the tour length.\n",
    "        leftOver (list): List of parcels left over from previous deliveries.\n",
    "        parcels (list): List of parcels scheduled for delivery.\n",
    "        dest (list): List of unique customer destinations.\n",
    "        tour (list): Planned tour for delivery.\n",
    "    \"\"\"\n",
    "\n",
    "    def __init__(self, rec, M, W):\n",
    "        \"\"\"\n",
    "        Initializes a DeliveryCentre object.\n",
    "\n",
    "        Args:\n",
    "            rec (Recorder): Reference to the Recorder object.\n",
    "            M (list): List representing the map.\n",
    "            W (tuple): Warehouse location.\n",
    "        \"\"\"\n",
    "        self.rec = rec\n",
    "        self.M = M\n",
    "        self.W = W\n",
    "        self.limit = 35000\n",
    "        self.leftOver = []\n",
    "        self.parcels = []\n",
    "        self.dest = []\n",
    "        self.tour = [W]\n",
    "\n",
    "    def __accept(self, parcel):\n",
    "        \"\"\"\n",
    "        Internal method to accept parcels and update the tour.\n",
    "\n",
    "        Args:\n",
    "            parcel (Parcel): Parcel object to be accepted.\n",
    "        \"\"\"\n",
    "        custLoc = parcel.dest\n",
    "        if custLoc not in self.dest:\n",
    "            start_time = time.time()\n",
    "            MT = addTargets(self.M, self.dest + [custLoc])\n",
    "            self.rec.timer(\"addTarget\")\n",
    "            S = createLoop(MT, [self.W] + self.dest + [custLoc])\n",
    "            self.rec.timer(\"createLoop\")\n",
    "            if pathLength(S) < self.limit:\n",
    "                self.parcels.append(parcel)\n",
    "                self.dest += [custLoc]\n",
    "                self.tour = S\n",
    "            else:\n",
    "                self.leftOver.append(parcel)\n",
    "        else:\n",
    "            self.parcels.append(parcel)\n",
    "\n",
    "    def acceptParcel(self, parcel):\n",
    "        \"\"\"\n",
    "        Accepts a parcel and adds it to the delivery center.\n",
    "\n",
    "        Args:\n",
    "            parcel (Parcel): Parcel object to be accepted.\n",
    "        \"\"\"\n",
    "        parcel.arrivedAtDeliveryCentre()\n",
    "        self.__accept(parcel)\n",
    "\n",
    "    def sendForDelivery(self):\n",
    "        \"\"\"\n",
    "        Sends parcels for delivery and updates the tour.\n",
    "\n",
    "        Returns:\n",
    "            list: Tour for delivery.\n",
    "            list: Parcels to be delivered.\n",
    "        \"\"\"\n",
    "        parcels = []\n",
    "        tour = self.tour\n",
    "        addresses = self.dest\n",
    "\n",
    "        for i in range(1, len(tour) - 1):\n",
    "            dest = tour[i]\n",
    "            for p in self.parcels:\n",
    "                if p.dest == dest and p not in parcels:\n",
    "                    parcels.append(p)\n",
    "                    p.outForDelivery()\n",
    "\n",
    "        L = self.leftOver\n",
    "        self.tour = [self.W]\n",
    "        self.parcels = []\n",
    "        self.leftOver = []\n",
    "        self.dest = []\n",
    "        for p in L:\n",
    "            self.__accept(p)\n",
    "\n",
    "        if self.rec.plot:\n",
    "            plotMap(self.rec.M, T=addresses, P=tour, W=tour[0],\n",
    "                    text=f\"Day {day(self.rec.env.now):2d}, {pathLength(tour):,d}m\")\n",
    "\n",
    "        return tour, parcels\n",
    "\n",
    "    def returnFromDelivery(self, parcel):\n",
    "        \"\"\"\n",
    "        Returns a parcel from delivery.\n",
    "\n",
    "        Args:\n",
    "            parcel (Parcel): Parcel object to be returned.\n",
    "        \"\"\"\n",
    "        parcel.returnFromDelivery()\n",
    "        self.__accept(parcel)\n",
    "\n",
    "    def getInventory(self):\n",
    "        \"\"\"\n",
    "        Gets the inventory of parcels at the delivery center.\n",
    "\n",
    "        Returns:\n",
    "            str: Inventory string representation.\n",
    "        \"\"\"\n",
    "        acc = \"\"\n",
    "        for p in self.parcels:\n",
    "            if len(acc) > 0:\n",
    "                acc += \", \"\n",
    "            acc += f\"{p.custIndex:d}\"\n",
    "        acc += \" / \"\n",
    "        for p in self.leftOver:\n",
    "            if len(acc) > 0:\n",
    "                acc += \", \"\n",
    "            acc += f\"{p.custIndex:d}\"\n",
    "        return acc\n",
    "\n",
    "    def inventory(self):\n",
    "        \"\"\"\n",
    "        Provides information about the current inventory at the delivery center.\n",
    "\n",
    "        Returns:\n",
    "            str: Inventory status.\n",
    "        \"\"\"\n",
    "        return f\"Delivery Centre Inventory: \" \\\n",
    "               f\"{len(self.parcels) + len(self.leftOver):d}\""
   ]
  },
  {
   "cell_type": "markdown",
   "id": "634470f0",
   "metadata": {},
   "source": [
    "## 7 Simulation"
   ]
  },
  {
   "cell_type": "markdown",
   "id": "670d4495",
   "metadata": {},
   "source": [
    "### 7.1 Parameters from Specification"
   ]
  },
  {
   "cell_type": "markdown",
   "id": "b3fa884f",
   "metadata": {},
   "source": [
    "The time required for driving is based on the distance between way points at an average speed of 15km/h."
   ]
  },
  {
   "cell_type": "code",
   "execution_count": 110,
   "id": "b5289c23",
   "metadata": {},
   "outputs": [],
   "source": [
    "# Speed conversion from km/h to m/s\n",
    "AVERAGE_SPEED = 15 / 3.6"
   ]
  },
  {
   "cell_type": "markdown",
   "id": "d0570441",
   "metadata": {},
   "source": [
    "The **cumulative preparation time** (route planning and \n",
    "sorting of the parcels in the delivery order and \n",
    "packing the cargo-bike) is assumed to be 50 sec per \n",
    "parcel to be delivered."
   ]
  },
  {
   "cell_type": "code",
   "execution_count": 111,
   "id": "401c830c",
   "metadata": {},
   "outputs": [],
   "source": [
    "# Time required for route planning, sorting parcels, and packing the cargo bike per parcel\n",
    "PREP_TIME_PER_PARCEL = 50"
   ]
  },
  {
   "cell_type": "markdown",
   "id": "75a1c046",
   "metadata": {},
   "source": [
    "**Additional assumption:** The time to **process returned parcels** in the delivery centre is 30 sec per parcel. "
   ]
  },
  {
   "cell_type": "code",
   "execution_count": 112,
   "id": "d3f0511b",
   "metadata": {},
   "outputs": [],
   "source": [
    "# Time required to process returned parcels in the delivery center per parcel\n",
    "RETURN_TIME_PER_PARCEL = 30"
   ]
  },
  {
   "cell_type": "markdown",
   "id": "9253ab4a",
   "metadata": {},
   "source": [
    "The average time to answer the door."
   ]
  },
  {
   "cell_type": "code",
   "execution_count": 113,
   "id": "65f1d082",
   "metadata": {},
   "outputs": [],
   "source": [
    "# Average time for a customer to answer the door\n",
    "AVERAGE_TIME_ANSWER_DOOR = 40"
   ]
  },
  {
   "cell_type": "code",
   "execution_count": 114,
   "id": "5f3548a1",
   "metadata": {},
   "outputs": [],
   "source": [
    "# Wait time if the customer doesn't answer the door\n",
    "WAIT_TIME_IF_CUSTOMER_DOESNT_ANSWER_DOOR = 60"
   ]
  },
  {
   "cell_type": "markdown",
   "id": "5a960ecb",
   "metadata": {},
   "source": [
    "Now, we will use the Delivery data generated for simulation earlier for the coming steps. "
   ]
  },
  {
   "cell_type": "code",
   "execution_count": 115,
   "id": "daa0e776",
   "metadata": {},
   "outputs": [
    {
     "data": {
      "text/plain": [
       "10"
      ]
     },
     "execution_count": 115,
     "metadata": {},
     "output_type": "execute_result"
    }
   ],
   "source": [
    "# Number of days(D)\n",
    "len(D)"
   ]
  },
  {
   "cell_type": "code",
   "execution_count": 116,
   "id": "0dc758b6",
   "metadata": {},
   "outputs": [],
   "source": [
    "def generateInputData(D, log=False):\n",
    "    \"\"\"\n",
    "    Generates input data for the simulation based on the number of days and customer data.\n",
    "\n",
    "    Args:\n",
    "        D (list): List of lists representing customer data for each day.\n",
    "        log (bool, optional): Flag to enable logging. Defaults to False.\n",
    "\n",
    "    Returns:\n",
    "        DataFrame: DataFrame containing input data for the simulation.\n",
    "    \"\"\"\n",
    "\n",
    "    # Calculate the total number of customers\n",
    "    R = [len(d) for d in D]\n",
    "    N = sum(R)\n",
    "    \n",
    "    # Constants for time handling\n",
    "    DAY_LENGTH = 24 * 3600    # measured in seconds\n",
    "    DAY_START = 8 * 3600      # first delivery in the morning\n",
    "    DAY_END = 17 * 3600       # last delivery during day time\n",
    "\n",
    "    # Initialize DataFrame\n",
    "    x = pd.DataFrame()\n",
    "    x['iarr'] = [None] * N  # Inter-arrival time\n",
    "    x['time'] = [None] * N  # Arrival time\n",
    "    x['day'] = [None] * N   # Day index\n",
    "    x['dest'] = [None] * N  # Destination (customer)\n",
    "\n",
    "    current_day = 0\n",
    "    last_time = 0\n",
    "    i = 0\n",
    "\n",
    "    # Generate data for each day\n",
    "    for d in D: \n",
    "        if log:\n",
    "            print(\"generating for day: \", current_day, D[current_day])\n",
    "\n",
    "        time = current_day * DAY_LENGTH + DAY_START  # Current time for the day\n",
    "\n",
    "        # Generate arrival times for each customer\n",
    "        for c in d: \n",
    "            # Calculate inter-arrival time based on the number of customers for the current day\n",
    "            IARR = (DAY_END - DAY_START - 2 * 3600) / len(d)  \n",
    "            iat = random.expovariate(1.0 / IARR)  # Exponential inter-arrival time\n",
    "            new_time = time + iat\n",
    "\n",
    "            # Populate DataFrame with arrival information\n",
    "            x.at[i, 'iarr'] = round(new_time - last_time, 1)  # Inter-arrival time\n",
    "            x.at[i, 'time'] = round(new_time - current_day * DAY_LENGTH, 1)  # Arrival time\n",
    "            x.at[i, 'day'] = current_day  # Day index\n",
    "            x.at[i, 'dest'] = c  # Destination (customer)\n",
    "            \n",
    "            # Increment index and update time variables\n",
    "            i += 1\n",
    "            last_time = time = new_time\n",
    "    \n",
    "        current_day += 1\n",
    "    \n",
    "    return x\n",
    "\n",
    "# The function 'generateInputData' is responsible for creating input data required for simulation.\n",
    "# It takes a list 'D' representing customer data for each day and an optional 'log' flag for logging.\n",
    "# The function calculates the inter-arrival time and arrival time for each customer based on the specified parameters.\n",
    "# It returns a DataFrame containing the generated input data with columns for inter-arrival time, arrival time, day index, and destination (customer).\n",
    "# This data will be used in the simulation to simulate parcel deliveries to customers over multiple days."
   ]
  },
  {
   "cell_type": "markdown",
   "id": "136e91d2",
   "metadata": {},
   "source": [
    "### 7.2 Simulation Routine"
   ]
  },
  {
   "cell_type": "code",
   "execution_count": 117,
   "id": "6f5b9d36",
   "metadata": {},
   "outputs": [],
   "source": [
    "def simulation(M, W, C, p=0.2, days=10, seed=0, \n",
    "               title=None, log=False, plot=False, timing=False):\n",
    "    \"\"\"\n",
    "    Simulation routine for simulating parcel delivery over multiple days.\n",
    "\n",
    "    Args:\n",
    "        M (list): List of tuples representing warehouse locations.\n",
    "        W (list): List of tuples representing customer locations.\n",
    "        C (list): List of customer indices.\n",
    "        p (float, optional): Probability of customer order on any given day. Defaults to 0.2.\n",
    "        days (int, optional): Number of simulation days. Defaults to 10.\n",
    "        seed (int, optional): Random seed for reproducibility. Defaults to 0.\n",
    "        title (str, optional): Title for the simulation. Defaults to None.\n",
    "        log (bool, optional): Flag to enable logging. Defaults to False.\n",
    "        plot (bool, optional): Flag to enable plotting. Defaults to False.\n",
    "        timing (bool, optional): Flag to enable timing measurements. Defaults to False.\n",
    "\n",
    "    Returns:\n",
    "        Recorder: Recorder object containing simulation results.\n",
    "    \"\"\"\n",
    "    if timing:\n",
    "        start_time = time.time()\n",
    "        \n",
    "    # Set random seed\n",
    "    random.seed(seed)\n",
    "    \n",
    "    # Generate delivery data\n",
    "    D = generateDeliveryData(p, C, days, seed)\n",
    "    \n",
    "    # Generate input data\n",
    "    X = generateInputData(D, log=log)\n",
    "    \n",
    "    # Initialize simulation environment and recorder\n",
    "    env = simpy.Environment()\n",
    "    rec = Recorder(env, M, W, C, days, log=log, plot=plot, timing=timing)\n",
    "\n",
    "    # Print simulation title\n",
    "    if title is not None:\n",
    "        print(title)\n",
    "    else:\n",
    "        print(f\"Simulating delivery of {len(X):d} parcels \"\n",
    "              f\"over {len(D):d} days to {len(C):d} customers\")\n",
    "\n",
    "    # Create customers, delivery centre, and driver\n",
    "    for c in C:\n",
    "        Customer.getCustomer(rec, c)           \n",
    "    DC = DeliveryCentre(rec, M, W)\n",
    "    D = Driver(rec, DC)\n",
    "\n",
    "    # Define generator process for generating parcels\n",
    "    def generatorProcess(env):\n",
    "        for i in range(len(X)):\n",
    "            yield env.timeout(X.at[i, 'iarr'])\n",
    "            custIndex = X.at[i, 'dest']\n",
    "            custLoc = C[custIndex]\n",
    "            cust = Customer.getCustomer(rec, custLoc)\n",
    "            p = Parcel.getParcel(rec, i, cust, custIndex)\n",
    "            DC.acceptParcel(p)\n",
    "\n",
    "    # Run simulation\n",
    "    env.process(generatorProcess(env))\n",
    "    env.run()\n",
    "\n",
    "    # Print delivery centre inventory if logging is enabled\n",
    "    if log:\n",
    "        print(DC.inventory())\n",
    "\n",
    "    # Finalize recorder\n",
    "    rec.finish()\n",
    "    \n",
    "    # Print timing information if enabled\n",
    "    if timing:\n",
    "        end_time = time.time()\n",
    "        print(f\"Simulation completed in {end_time - start_time:.2f} seconds\")\n",
    "\n",
    "    return rec\n",
    "\n",
    "# The function 'simulation' is the main routine for running the simulation of parcel delivery over multiple days.\n",
    "# It takes various parameters such as warehouse locations ('M'), customer locations 'W', customer indices 'C', simulation duration 'days', etc.\n",
    "# The function generates delivery data, input data, initializes the simulation environment, creates customers, delivery center, and driver objects.\n",
    "# It defines a generator process for generating parcels based on the input data and runs the simulation using SimPy.\n",
    "# After the simulation is complete, it finalizes the recorder object and returns it.\n",
    "# Optionally, it prints timing information if the 'timing' flag is set to True.\n",
    "# This routine facilitates the execution and monitoring of the parcel delivery simulation."
   ]
  },
  {
   "cell_type": "markdown",
   "id": "dd92568f",
   "metadata": {},
   "source": [
    "### 7.3 Model Verification"
   ]
  },
  {
   "cell_type": "code",
   "execution_count": 119,
   "id": "801d6dc4",
   "metadata": {},
   "outputs": [],
   "source": [
    "# Main code for running simulation\n",
    "with open('customer_data.pickled', 'rb') as f:\n",
    "    M, C = pickle.load(f)"
   ]
  },
  {
   "cell_type": "code",
   "execution_count": 120,
   "id": "8ee0d6c8",
   "metadata": {},
   "outputs": [
    {
     "data": {
      "text/plain": [
       "150"
      ]
     },
     "execution_count": 120,
     "metadata": {},
     "output_type": "execute_result"
    }
   ],
   "source": [
    "len(C)"
   ]
  },
  {
   "cell_type": "code",
   "execution_count": 121,
   "id": "7691b21d",
   "metadata": {
    "scrolled": true
   },
   "outputs": [
    {
     "name": "stdout",
     "output_type": "stream",
     "text": [
      "generating for day:  0 [0, 1, 2, 8, 11, 13, 23, 40, 44, 47, 48, 50, 73, 79, 92, 97, 105, 106, 108, 132, 135, 149]\n",
      "generating for day:  1 [1, 10, 20, 44, 67, 71, 79, 93, 93, 96, 101, 115, 117, 127, 137, 139, 143]\n",
      "generating for day:  2 [0, 1, 7, 13, 24, 25, 35, 43, 56, 66, 73, 82, 82, 90, 90, 107, 108, 116, 135, 138, 140, 141, 142]\n",
      "Simulating delivery of 62 parcels over 3 days to 150 customers\n",
      "[ 0] 08:14:13.2 Parcel:   0 (  0) arr at delivery centre\n",
      "[ 0] 09:18:26.3 Parcel:   1 (  1) arr at delivery centre\n",
      "[ 0] 09:57:02.7 Parcel:   2 (  2) arr at delivery centre\n",
      "[ 0] 10:13:55.6 Parcel:   3 (  8) arr at delivery centre\n",
      "[ 0] 10:23:42.9 Parcel:   4 ( 11) arr at delivery centre\n",
      "[ 0] 10:32:08.3 Parcel:   5 ( 13) arr at delivery centre\n",
      "[ 0] 10:59:15.1 Parcel:   6 ( 23) arr at delivery centre\n",
      "[ 0] 11:01:36.7 Parcel:   7 ( 40) arr at delivery centre\n",
      "[ 0] 11:16:22.3 Parcel:   8 ( 44) arr at delivery centre\n",
      "[ 0] 11:26:46.4 Parcel:   9 ( 47) arr at delivery centre\n",
      "[ 0] 12:14:21.2 Parcel:  10 ( 48) arr at delivery centre\n",
      "[ 0] 12:35:38.8 Parcel:  11 ( 50) arr at delivery centre\n",
      "[ 0] 12:52:08.8 Parcel:  12 ( 73) arr at delivery centre\n",
      "[ 0] 13:08:06.3 Parcel:  13 ( 79) arr at delivery centre\n",
      "[ 0] 13:15:30.2 Parcel:  14 ( 92) arr at delivery centre\n",
      "[ 0] 13:37:21.8 Parcel:  15 ( 97) arr at delivery centre\n",
      "[ 0] 14:05:26.7 Parcel:  16 (105) arr at delivery centre\n",
      "[ 0] 14:33:44.4 Parcel:  17 (106) arr at delivery centre\n",
      "[ 0] 16:52:22.8 Parcel:  18 (108) arr at delivery centre\n",
      "[ 0] 17:04:22.5 Parcel:  19 (132) arr at delivery centre\n",
      "[ 0] 17:05:12.8 Parcel:  20 (135) arr at delivery centre\n",
      "[ 0] 17:53:40.2 Parcel:  21 (149) arr at delivery centre\n",
      "[ 0] 18:00:00.0 Driver arrives for work\n",
      "[ 0] 18:00:00.0 Parcel:  17 (106) out for delivery\n",
      "[ 0] 18:00:00.0 Parcel:  11 ( 50) out for delivery\n",
      "[ 0] 18:00:00.0 Parcel:  10 ( 48) out for delivery\n",
      "[ 0] 18:00:00.0 Parcel:   7 ( 40) out for delivery\n",
      "[ 0] 18:00:00.0 Parcel:   5 ( 13) out for delivery\n",
      "[ 0] 18:00:00.0 Parcel:   0 (  0) out for delivery\n",
      "[ 0] 18:00:00.0 Parcel:   1 (  1) out for delivery\n",
      "[ 0] 18:00:00.0 Parcel:   2 (  2) out for delivery\n",
      "[ 0] 18:00:00.0 Parcel:   3 (  8) out for delivery\n",
      "[ 0] 18:00:00.0 Parcel:   4 ( 11) out for delivery\n",
      "[ 0] 18:00:00.0 Parcel:   6 ( 23) out for delivery\n",
      "[ 0] 18:00:00.0 Parcel:   8 ( 44) out for delivery\n",
      "[ 0] 18:00:00.0 Parcel:   9 ( 47) out for delivery\n",
      "[ 0] 18:00:00.0 Parcel:  13 ( 79) out for delivery\n",
      "[ 0] 18:00:00.0 Parcel:  16 (105) out for delivery\n",
      "[ 0] 18:00:00.0 Parcel:  21 (149) out for delivery\n",
      "[ 0] 18:00:00.0 Parcel:  20 (135) out for delivery\n",
      "[ 0] 18:00:00.0 Parcel:  19 (132) out for delivery\n",
      "[ 0] 18:00:00.0 Parcel:  18 (108) out for delivery\n",
      "[ 0] 18:00:00.0 Parcel:  15 ( 97) out for delivery\n",
      "[ 0] 18:00:00.0 Parcel:  14 ( 92) out for delivery\n",
      "[ 0] 18:00:00.0 Parcel:  12 ( 73) out for delivery\n"
     ]
    },
    {
     "data": {
      "image/png": "[encoded data removed]",
      "text/plain": [
       "<Figure size 600x600 with 1 Axes>"
      ]
     },
     "metadata": {},
     "output_type": "display_data"
    },
    {
     "name": "stdout",
     "output_type": "stream",
     "text": [
      "[ 0] 18:18:20.0 Driver leaves for delivery of 22 parcels\n",
      "[ 0] 18:18:20.0 Driver drives to Customer: 106 (5264, 640)\n",
      "[ 0] 18:23:23.4 Driver arrived at Customer: 106 (5264, 640)\n",
      "[ 0] 18:24:38.1 Customer: 106 (5264, 640) answers door\n",
      "[ 0] 18:24:38.1 Customer: 106 (5264, 640) accepts Parcel:  17 (106)\n",
      "[ 0] 18:24:53.4 Customer: 106 (5264, 640) signs off\n",
      "[ 0] 18:24:59.3 Driver drives to Customer: 50 (2880, 982)\n",
      "[ 0] 18:35:53.6 Driver arrived at Customer: 50 (2880, 982)\n",
      "[ 0] 18:36:17.2 Customer: 50 (2880, 982) answers door\n",
      "[ 0] 18:36:17.2 Customer: 50 (2880, 982) accepts Parcel:  11 ( 50)\n",
      "[ 0] 18:36:20.1 Customer: 50 (2880, 982) signs off\n",
      "[ 0] 18:36:25.3 Driver drives to Customer: 48 (2691, 1200)\n",
      "[ 0] 18:38:02.10 Driver arrived at Customer: 48 (2691, 1200)\n",
      "[ 0] 18:39:55.1 Customer: 48 (2691, 1200) answers door\n",
      "[ 0] 18:39:55.1 Customer: 48 (2691, 1200) accepts Parcel:  10 ( 48)\n",
      "[ 0] 18:40:02.1 Customer: 48 (2691, 1200) signs off\n",
      "[ 0] 18:40:32.3 Driver drives to Customer: 40 (2320, 3184)\n",
      "[ 0] 18:49:57.5 Driver arrived at Customer: 40 (2320, 3184)\n",
      "[ 0] 18:50:04.9 Customer: 40 (2320, 3184) answers door\n",
      "[ 0] 18:50:04.9 Customer: 40 (2320, 3184) accepts Parcel:   7 ( 40)\n",
      "[ 0] 18:50:18.7 Customer: 40 (2320, 3184) signs off\n",
      "[ 0] 18:50:22.3 Driver drives to Customer: 13 (1435, 2320)\n",
      "[ 0] 18:57:22.0 Driver arrived at Customer: 13 (1435, 2320)\n",
      "[ 0] 18:58:27.8 Customer: 13 (1435, 2320) answers door\n",
      "[ 0] 18:58:27.8 Customer: 13 (1435, 2320) accepts Parcel:   5 ( 13)\n",
      "[ 0] 18:58:32.0 Customer: 13 (1435, 2320) signs off\n",
      "[ 0] 18:58:40.10 Driver drives to Customer:  0 (640, 2700)\n",
      "[ 0] 19:03:22.10 Driver arrived at Customer:  0 (640, 2700)\n",
      "[ 0] 19:03:55.6 Customer:  0 (640, 2700) answers door\n",
      "[ 0] 19:03:55.6 Customer:  0 (640, 2700) accepts Parcel:   0 (  0)\n",
      "[ 0] 19:03:57.6 Customer:  0 (640, 2700) signs off\n",
      "[ 0] 19:04:39.10 Driver drives to Customer:  1 (640, 3044)\n",
      "[ 0] 19:06:02.5 Driver arrived at Customer:  1 (640, 3044)\n",
      "[ 0] 19:06:23.1 Customer:  1 (640, 3044) answers door\n",
      "[ 0] 19:06:23.1 Customer:  1 (640, 3044) accepts Parcel:   1 (  1)\n",
      "[ 0] 19:06:26.10 Customer:  1 (640, 3044) signs off\n",
      "[ 0] 19:06:30.1 Driver drives to Customer:  2 (640, 3197)\n",
      "[ 0] 19:07:06.8 Driver arrived at Customer:  2 (640, 3197)\n",
      "[ 0] 19:07:24.8 Customer:  2 (640, 3197) answers door\n",
      "[ 0] 19:07:24.8 Customer:  2 (640, 3197) accepts Parcel:   2 (  2)\n",
      "[ 0] 19:07:35.8 Customer:  2 (640, 3197) signs off\n",
      "[ 0] 19:07:36.4 Driver drives to Customer:  8 (1200, 3052)\n",
      "[ 0] 19:11:48.2 Driver arrived at Customer:  8 (1200, 3052)\n",
      "[ 0] 19:12:01.8 Customer:  8 (1200, 3052) answers door\n",
      "[ 0] 19:12:01.8 Customer:  8 (1200, 3052) accepts Parcel:   3 (  8)\n",
      "[ 0] 19:12:20.1 Customer:  8 (1200, 3052) signs off\n",
      "[ 0] 19:12:23.0 Driver drives to Customer: 11 (1333, 3573)\n",
      "[ 0] 19:14:41.3 Driver arrived at Customer: 11 (1333, 3573)\n",
      "[ 0] 19:15:31.2 Customer: 11 (1333, 3573) answers door\n",
      "[ 0] 19:15:31.2 Customer: 11 (1333, 3573) accepts Parcel:   4 ( 11)\n",
      "[ 0] 19:15:33.10 Customer: 11 (1333, 3573) signs off\n",
      "[ 0] 19:15:45.9 Driver drives to Customer: 23 (1760, 4785)\n",
      "[ 0] 19:21:19.0 Driver arrived at Customer: 23 (1760, 4785)\n",
      "[ 0] 19:23:03.5 Customer: 23 (1760, 4785) answers door\n",
      "[ 0] 19:23:03.5 Customer: 23 (1760, 4785) accepts Parcel:   6 ( 23)\n",
      "[ 0] 19:23:08.8 Customer: 23 (1760, 4785) signs off\n",
      "[ 0] 19:23:19.3 Driver drives to Customer: 44 (2538, 4560)\n",
      "[ 0] 19:27:19.10 Driver arrived at Customer: 44 (2538, 4560)\n",
      "[ 0] 19:28:08.6 Customer: 44 (2538, 4560) answers door\n",
      "[ 0] 19:28:08.6 Customer: 44 (2538, 4560) accepts Parcel:   8 ( 44)\n",
      "[ 0] 19:28:09.1 Customer: 44 (2538, 4560) signs off\n",
      "[ 0] 19:28:18.1 Driver drives to Customer: 47 (2675, 4560)\n",
      "[ 0] 19:28:50.10 Driver arrived at Customer: 47 (2675, 4560)\n",
      "[ 0] 19:29:15.10 Customer: 47 (2675, 4560) answers door\n",
      "[ 0] 19:29:15.10 Customer: 47 (2675, 4560) accepts Parcel:   9 ( 47)\n",
      "[ 0] 19:29:17.10 Customer: 47 (2675, 4560) signs off\n",
      "[ 0] 19:29:36.0 Driver drives to Customer: 79 (4000, 6479)\n",
      "[ 0] 19:39:56.6 Driver arrived at Customer: 79 (4000, 6479)\n",
      "[ 0] 19:40:47.7 Customer: 79 (4000, 6479) answers door\n",
      "[ 0] 19:40:47.7 Customer: 79 (4000, 6479) accepts Parcel:  13 ( 79)\n",
      "[ 0] 19:40:52.3 Customer: 79 (4000, 6479) signs off\n",
      "[ 0] 19:41:02.5 Driver drives to Customer: 105 (5244, 6364)\n",
      "[ 0] 19:47:10.7 Driver arrived at Customer: 105 (5244, 6364)\n",
      "[ 0] 19:47:46.8 Customer: 105 (5244, 6364) answers door\n",
      "[ 0] 19:47:46.8 Customer: 105 (5244, 6364) accepts Parcel:  16 (105)\n",
      "[ 0] 19:47:55.5 Customer: 105 (5244, 6364) signs off\n",
      "[ 0] 19:48:00.4 Driver drives to Customer: 149 (7360, 4937)\n",
      "[ 0] 20:01:33.7 Driver arrived at Customer: 149 (7360, 4937)\n",
      "[ 0] 20:01:53.3 Customer: 149 (7360, 4937) answers door\n",
      "[ 0] 20:01:53.3 Customer: 149 (7360, 4937) accepts Parcel:  21 (149)\n",
      "[ 0] 20:02:10.3 Customer: 149 (7360, 4937) signs off\n",
      "[ 0] 20:02:10.8 Driver drives to Customer: 135 (6800, 2701)\n",
      "[ 0] 20:13:21.9 Driver arrived at Customer: 135 (6800, 2701)\n",
      "[ 0] 20:13:23.7 Customer: 135 (6800, 2701) answers door\n",
      "[ 0] 20:13:23.7 Customer: 135 (6800, 2701) accepts Parcel:  20 (135)\n",
      "[ 0] 20:13:27.7 Customer: 135 (6800, 2701) signs off\n",
      "[ 0] 20:13:41.3 Driver drives to Customer: 132 (6610, 2320)\n",
      "[ 0] 20:15:58.3 Driver arrived at Customer: 132 (6610, 2320)\n",
      "[ 0] 20:16:34.10 Customer: 132 (6610, 2320) answers door\n",
      "[ 0] 20:16:34.10 Customer: 132 (6610, 2320) accepts Parcel:  19 (132)\n",
      "[ 0] 20:16:43.7 Customer: 132 (6610, 2320) signs off\n",
      "[ 0] 20:17:19.5 Driver drives to Customer: 108 (5445, 2320)\n",
      "[ 0] 20:21:59.1 Driver arrived at Customer: 108 (5445, 2320)\n",
      "[ 0] 20:22:51.4 Customer: 108 (5445, 2320) answers door\n",
      "[ 0] 20:22:51.4 Customer: 108 (5445, 2320) accepts Parcel:  18 (108)\n",
      "[ 0] 20:22:59.9 Customer: 108 (5445, 2320) signs off\n",
      "[ 0] 20:23:18.4 Driver drives to Customer: 97 (4860, 2320)\n",
      "[ 0] 20:25:38.8 Driver arrived at Customer: 97 (4860, 2320)\n",
      "[ 0] 20:25:47.6 Customer: 97 (4860, 2320) answers door\n",
      "[ 0] 20:25:47.6 Customer: 97 (4860, 2320) accepts Parcel:  15 ( 97)\n",
      "[ 0] 20:25:54.3 Customer: 97 (4860, 2320) signs off\n",
      "[ 0] 20:25:59.2 Driver drives to Customer: 92 (4560, 3239)\n",
      "[ 0] 20:30:51.8 Driver arrived at Customer: 92 (4560, 3239)\n",
      "[ 0] 20:31:29.0 Customer: 92 (4560, 3239) answers door\n",
      "[ 0] 20:31:29.0 Customer: 92 (4560, 3239) accepts Parcel:  14 ( 92)\n",
      "[ 0] 20:31:37.4 Customer: 92 (4560, 3239) signs off\n",
      "[ 0] 20:32:10.10 Driver drives to Customer: 73 (4000, 3130)\n",
      "[ 0] 20:36:28.0 Driver arrived at Customer: 73 (4000, 3130)\n",
      "[ 0] 20:36:30.3 Customer: 73 (4000, 3130) answers door\n",
      "[ 0] 20:36:30.3 Customer: 73 (4000, 3130) accepts Parcel:  12 ( 73)\n",
      "[ 0] 20:36:34.2 Customer: 73 (4000, 3130) signs off\n",
      "[ 0] 20:36:42.6 Driver returns to delivery centre\n",
      "[ 0] 20:46:40.2 Driver arrived at delivery centre\n",
      "[ 0] 20:56:40.2 0 left over for next day\n",
      "[ 0] 20:56:40.2 Driver goes home\n",
      "[ 0] 20:56:40.2 Delivery Centre Inventory: 0\n",
      "[ 1] 08:04:36.7 Parcel:  22 (  1) arr at delivery centre\n",
      "[ 1] 08:14:21.7 Parcel:  23 ( 10) arr at delivery centre\n",
      "[ 1] 08:21:17.8 Parcel:  24 ( 20) arr at delivery centre\n",
      "[ 1] 08:45:04.0 Parcel:  25 ( 44) arr at delivery centre\n",
      "[ 1] 08:45:19.7 Parcel:  26 ( 67) arr at delivery centre\n",
      "[ 1] 08:57:08.3 Parcel:  27 ( 71) arr at delivery centre\n",
      "[ 1] 09:31:19.0 Parcel:  28 ( 79) arr at delivery centre\n",
      "[ 1] 09:37:05.3 Parcel:  29 ( 93) arr at delivery centre\n",
      "[ 1] 09:47:42.9 Parcel:  30 ( 93) arr at delivery centre\n",
      "[ 1] 10:05:08.6 Parcel:  31 ( 96) arr at delivery centre\n",
      "[ 1] 10:24:11.1 Parcel:  32 (101) arr at delivery centre\n",
      "[ 1] 11:20:02.4 Parcel:  33 (115) arr at delivery centre\n",
      "[ 1] 11:34:17.1 Parcel:  34 (117) arr at delivery centre\n",
      "[ 1] 11:41:16.9 Parcel:  35 (127) arr at delivery centre\n",
      "[ 1] 11:51:30.5 Parcel:  36 (137) arr at delivery centre\n",
      "[ 1] 12:34:10.3 Parcel:  37 (139) arr at delivery centre\n",
      "[ 1] 12:36:20.8 Parcel:  38 (143) arr at delivery centre\n",
      "[ 1] 18:00:00.0 Driver arrives for work\n",
      "[ 1] 18:00:00.0 Parcel:  32 (101) out for delivery\n",
      "[ 1] 18:00:00.0 Parcel:  33 (115) out for delivery\n",
      "[ 1] 18:00:00.0 Parcel:  34 (117) out for delivery\n",
      "[ 1] 18:00:00.0 Parcel:  36 (137) out for delivery\n",
      "[ 1] 18:00:00.0 Parcel:  37 (139) out for delivery\n",
      "[ 1] 18:00:00.0 Parcel:  38 (143) out for delivery\n",
      "[ 1] 18:00:00.0 Parcel:  35 (127) out for delivery\n",
      "[ 1] 18:00:00.0 Parcel:  28 ( 79) out for delivery\n",
      "[ 1] 18:00:00.0 Parcel:  29 ( 93) out for delivery\n",
      "[ 1] 18:00:00.0 Parcel:  30 ( 93) out for delivery\n",
      "[ 1] 18:00:00.0 Parcel:  26 ( 67) out for delivery\n",
      "[ 1] 18:00:00.0 Parcel:  25 ( 44) out for delivery\n",
      "[ 1] 18:00:00.0 Parcel:  23 ( 10) out for delivery\n",
      "[ 1] 18:00:00.0 Parcel:  22 (  1) out for delivery\n",
      "[ 1] 18:00:00.0 Parcel:  24 ( 20) out for delivery\n",
      "[ 1] 18:00:00.0 Parcel:  27 ( 71) out for delivery\n",
      "[ 1] 18:00:00.0 Parcel:  31 ( 96) out for delivery\n"
     ]
    },
    {
     "data": {
      "image/png": "[encoded data removed]",
      "text/plain": [
       "<Figure size 600x600 with 1 Axes>"
      ]
     },
     "metadata": {},
     "output_type": "display_data"
    },
    {
     "name": "stdout",
     "output_type": "stream",
     "text": [
      "[ 1] 18:14:10.0 Driver leaves for delivery of 17 parcels\n",
      "[ 1] 18:14:10.0 Driver drives to Customer: 101 (5120, 2144)\n",
      "[ 1] 18:15:42.2 Driver arrived at Customer: 101 (5120, 2144)\n",
      "[ 1] 18:16:24.9 Customer: 101 (5120, 2144) answers door\n",
      "[ 1] 18:16:24.9 Customer: 101 (5120, 2144) accepts Parcel:  32 (101)\n",
      "[ 1] 18:16:26.5 Customer: 101 (5120, 2144) signs off\n",
      "[ 1] 18:16:40.4 Driver drives to Customer: 115 (5855, 815)\n",
      "[ 1] 18:25:55.0 Driver arrived at Customer: 115 (5855, 815)\n",
      "[ 1] 18:27:04.4 Customer: 115 (5855, 815) answers door\n",
      "[ 1] 18:27:04.4 Customer: 115 (5855, 815) accepts Parcel:  33 (115)\n",
      "[ 1] 18:27:55.1 Customer: 115 (5855, 815) signs off\n",
      "[ 1] 18:28:13.1 Driver drives to Customer: 117 (5945, 2320)\n",
      "[ 1] 18:36:03.2 Driver arrived at Customer: 117 (5945, 2320)\n",
      "[ 1] 18:36:04.2 Customer: 117 (5945, 2320) answers door\n",
      "[ 1] 18:36:04.2 Customer: 117 (5945, 2320) accepts Parcel:  34 (117)\n",
      "[ 1] 18:36:04.10 Customer: 117 (5945, 2320) signs off\n",
      "[ 1] 18:36:19.0 Driver drives to Customer: 137 (6800, 3200)\n",
      "[ 1] 18:43:15.4 Driver arrived at Customer: 137 (6800, 3200)\n",
      "[ 1] 18:43:31.8 Customer: 137 (6800, 3200) answers door\n",
      "[ 1] 18:43:31.8 Customer: 137 (6800, 3200) accepts Parcel:  36 (137)\n",
      "[ 1] 18:43:32.3 Customer: 137 (6800, 3200) signs off\n",
      "[ 1] 18:43:34.1 Driver drives to Customer: 139 (6800, 3820)\n",
      "[ 1] 18:46:02.9 Driver arrived at Customer: 139 (6800, 3820)\n",
      "[ 1] 18:47:07.1 Customer: 139 (6800, 3820) answers door\n",
      "[ 1] 18:47:07.1 Customer: 139 (6800, 3820) accepts Parcel:  37 (139)\n",
      "[ 1] 18:47:08.9 Customer: 139 (6800, 3820) signs off\n",
      "[ 1] 18:47:24.1 Driver drives to Customer: 143 (6970, 4000)\n",
      "[ 1] 18:48:48.1 Driver arrived at Customer: 143 (6970, 4000)\n",
      "[ 1] 18:49:57.9 Customer: 143 (6970, 4000) answers door\n",
      "[ 1] 18:49:57.9 Customer: 143 (6970, 4000) accepts Parcel:  38 (143)\n",
      "[ 1] 18:49:58.4 Customer: 143 (6970, 4000) signs off\n",
      "[ 1] 18:49:59.3 Driver drives to Customer: 127 (6240, 6411)\n",
      "[ 1] 19:02:33.1 Driver arrived at Customer: 127 (6240, 6411)\n",
      "[ 1] 19:02:51.5 Customer: 127 (6240, 6411) answers door\n",
      "[ 1] 19:02:51.5 Customer: 127 (6240, 6411) accepts Parcel:  35 (127)\n",
      "[ 1] 19:02:58.4 Customer: 127 (6240, 6411) signs off\n",
      "[ 1] 19:03:12.5 Driver drives to Customer: 79 (4000, 6479)\n",
      "[ 1] 19:15:36.3 Driver arrived at Customer: 79 (4000, 6479)\n",
      "[ 1] 19:15:44.4 Customer: 79 (4000, 6479) answers door\n",
      "[ 1] 19:15:44.4 Customer: 79 (4000, 6479) accepts Parcel:  28 ( 79)\n",
      "[ 1] 19:15:49.3 Customer: 79 (4000, 6479) signs off\n",
      "[ 1] 19:15:56.5 Driver drives to Customer: 93 (4560, 4798)\n",
      "[ 1] 19:26:45.2 Driver arrived at Customer: 93 (4560, 4798)\n",
      "[ 1] 19:27:16.0 Customer: 93 (4560, 4798) answers door\n",
      "[ 1] 19:27:16.0 Customer: 93 (4560, 4798) accepts Parcel:  29 ( 93)\n",
      "[ 1] 19:27:17.8 Customer: 93 (4560, 4798) accepts Parcel:  30 ( 93)\n",
      "[ 1] 19:27:25.1 Customer: 93 (4560, 4798) signs off\n",
      "[ 1] 19:27:42.3 Driver drives to Customer: 67 (3774, 4560)\n",
      "[ 1] 19:31:48.1 Driver arrived at Customer: 67 (3774, 4560)\n",
      "[ 1] 19:33:28.5 Customer: 67 (3774, 4560) answers door\n",
      "[ 1] 19:33:28.5 Customer: 67 (3774, 4560) accepts Parcel:  26 ( 67)\n",
      "[ 1] 19:33:42.4 Customer: 67 (3774, 4560) signs off\n",
      "[ 1] 19:33:52.4 Driver drives to Customer: 44 (2538, 4560)\n",
      "[ 1] 19:38:48.10 Driver arrived at Customer: 44 (2538, 4560)\n",
      "[ 1] 19:39:05.8 Customer: 44 (2538, 4560) answers door\n",
      "[ 1] 19:39:05.8 Customer: 44 (2538, 4560) accepts Parcel:  25 ( 44)\n",
      "[ 1] 19:39:23.9 Customer: 44 (2538, 4560) signs off\n",
      "[ 1] 19:39:39.3 Driver drives to Customer: 10 (1200, 6070)\n",
      "[ 1] 19:49:43.8 Driver arrived at Customer: 10 (1200, 6070)\n",
      "[ 1] 19:49:46.10 Customer: 10 (1200, 6070) answers door\n",
      "[ 1] 19:49:46.10 Customer: 10 (1200, 6070) accepts Parcel:  23 ( 10)\n",
      "[ 1] 19:49:51.10 Customer: 10 (1200, 6070) signs off\n",
      "[ 1] 19:50:10.9 Driver drives to Customer:  1 (640, 3044)\n",
      "[ 1] 20:06:22.4 Driver arrived at Customer:  1 (640, 3044)\n",
      "[ 1] 20:07:05.9 Customer:  1 (640, 3044) answers door\n",
      "[ 1] 20:07:05.9 Customer:  1 (640, 3044) accepts Parcel:  22 (  1)\n",
      "[ 1] 20:07:08.1 Customer:  1 (640, 3044) signs off\n",
      "[ 1] 20:07:10.9 Driver drives to Customer: 20 (1760, 2102)\n",
      "[ 1] 20:15:25.8 Driver arrived at Customer: 20 (1760, 2102)\n",
      "[ 1] 20:17:24.4 Customer: 20 (1760, 2102) answers door\n",
      "[ 1] 20:17:24.4 Customer: 20 (1760, 2102) accepts Parcel:  24 ( 20)\n",
      "[ 1] 20:17:43.9 Customer: 20 (1760, 2102) signs off\n",
      "[ 1] 20:17:52.8 Driver drives to Customer: 71 (4000, 1577)\n",
      "[ 1] 20:30:41.0 Driver arrived at Customer: 71 (4000, 1577)\n",
      "[ 1] 20:31:09.9 Customer: 71 (4000, 1577) answers door\n",
      "[ 1] 20:31:09.9 Customer: 71 (4000, 1577) accepts Parcel:  27 ( 71)\n",
      "[ 1] 20:31:41.1 Customer: 71 (4000, 1577) signs off\n",
      "[ 1] 20:31:44.0 Driver drives to Customer: 96 (4840, 1760)\n",
      "[ 1] 20:35:49.5 Driver arrived at Customer: 96 (4840, 1760)\n",
      "[ 1] 20:36:01.6 Customer: 96 (4840, 1760) answers door\n",
      "[ 1] 20:36:01.6 Customer: 96 (4840, 1760) accepts Parcel:  31 ( 96)\n",
      "[ 1] 20:36:06.4 Customer: 96 (4840, 1760) signs off\n",
      "[ 1] 20:36:12.1 Driver returns to delivery centre\n",
      "[ 1] 20:37:19.3 Driver arrived at delivery centre\n",
      "[ 1] 20:47:19.3 0 left over for next day\n",
      "[ 1] 20:47:19.3 Driver goes home\n",
      "[ 1] 20:47:19.3 Delivery Centre Inventory: 0\n",
      "[ 2] 08:23:35.0 Parcel:  39 (  0) arr at delivery centre\n",
      "[ 2] 08:41:08.4 Parcel:  40 (  1) arr at delivery centre\n",
      "[ 2] 09:14:29.8 Parcel:  41 (  7) arr at delivery centre\n",
      "[ 2] 09:37:00.7 Parcel:  42 ( 13) arr at delivery centre\n",
      "[ 2] 09:39:14.6 Parcel:  43 ( 24) arr at delivery centre\n",
      "[ 2] 09:39:20.6 Parcel:  44 ( 25) arr at delivery centre\n",
      "[ 2] 09:39:53.5 Parcel:  45 ( 35) arr at delivery centre\n",
      "[ 2] 09:42:27.2 Parcel:  46 ( 43) arr at delivery centre\n",
      "[ 2] 09:47:00.7 Parcel:  47 ( 56) arr at delivery centre\n",
      "[ 2] 09:48:09.6 Parcel:  48 ( 66) arr at delivery centre\n",
      "[ 2] 09:56:42.9 Parcel:  49 ( 73) arr at delivery centre\n",
      "[ 2] 10:12:00.10 Parcel:  50 ( 82) arr at delivery centre\n",
      "[ 2] 10:21:56.9 Parcel:  51 ( 82) arr at delivery centre\n",
      "[ 2] 10:25:14.4 Parcel:  52 ( 90) arr at delivery centre\n",
      "[ 2] 10:30:29.3 Parcel:  53 ( 90) arr at delivery centre\n",
      "[ 2] 10:51:29.10 Parcel:  54 (107) arr at delivery centre\n",
      "[ 2] 11:08:57.7 Parcel:  55 (108) arr at delivery centre\n",
      "[ 2] 11:22:02.10 Parcel:  56 (116) arr at delivery centre\n",
      "[ 2] 11:56:20.10 Parcel:  57 (135) arr at delivery centre\n",
      "[ 2] 12:15:16.9 Parcel:  58 (138) arr at delivery centre\n",
      "[ 2] 12:28:38.6 Parcel:  59 (140) arr at delivery centre\n",
      "[ 2] 13:02:42.4 Parcel:  60 (141) arr at delivery centre\n",
      "[ 2] 13:38:14.4 Parcel:  61 (142) arr at delivery centre\n",
      "[ 2] 18:00:00.0 Driver arrives for work\n",
      "[ 2] 18:00:00.0 Parcel:  50 ( 82) out for delivery\n",
      "[ 2] 18:00:00.0 Parcel:  51 ( 82) out for delivery\n",
      "[ 2] 18:00:00.0 Parcel:  46 ( 43) out for delivery\n",
      "[ 2] 18:00:00.0 Parcel:  41 (  7) out for delivery\n",
      "[ 2] 18:00:00.0 Parcel:  42 ( 13) out for delivery\n",
      "[ 2] 18:00:00.0 Parcel:  39 (  0) out for delivery\n",
      "[ 2] 18:00:00.0 Parcel:  40 (  1) out for delivery\n",
      "[ 2] 18:00:00.0 Parcel:  45 ( 35) out for delivery\n",
      "[ 2] 18:00:00.0 Parcel:  43 ( 24) out for delivery\n",
      "[ 2] 18:00:00.0 Parcel:  44 ( 25) out for delivery\n",
      "[ 2] 18:00:00.0 Parcel:  54 (107) out for delivery\n",
      "[ 2] 18:00:00.0 Parcel:  48 ( 66) out for delivery\n",
      "[ 2] 18:00:00.0 Parcel:  47 ( 56) out for delivery\n",
      "[ 2] 18:00:00.0 Parcel:  49 ( 73) out for delivery\n",
      "[ 2] 18:00:00.0 Parcel:  52 ( 90) out for delivery\n",
      "[ 2] 18:00:00.0 Parcel:  53 ( 90) out for delivery\n",
      "[ 2] 18:00:00.0 Parcel:  55 (108) out for delivery\n",
      "[ 2] 18:00:00.0 Parcel:  57 (135) out for delivery\n",
      "[ 2] 18:00:00.0 Parcel:  56 (116) out for delivery\n"
     ]
    },
    {
     "data": {
      "image/png": "[encoded data removed]",
      "text/plain": [
       "<Figure size 600x600 with 1 Axes>"
      ]
     },
     "metadata": {},
     "output_type": "display_data"
    },
    {
     "name": "stdout",
     "output_type": "stream",
     "text": [
      "[ 2] 18:15:50.0 Driver leaves for delivery of 19 parcels\n",
      "[ 2] 18:15:50.0 Driver drives to Customer: 82 (4197, 1200)\n",
      "[ 2] 18:21:45.9 Driver arrived at Customer: 82 (4197, 1200)\n",
      "[ 2] 18:22:03.2 Customer: 82 (4197, 1200) answers door\n",
      "[ 2] 18:22:03.2 Customer: 82 (4197, 1200) accepts Parcel:  50 ( 82)\n",
      "[ 2] 18:22:27.10 Customer: 82 (4197, 1200) accepts Parcel:  51 ( 82)\n",
      "[ 2] 18:22:30.0 Customer: 82 (4197, 1200) signs off\n",
      "[ 2] 18:22:55.2 Driver drives to Customer: 43 (2534, 1200)\n",
      "[ 2] 18:34:03.1 Driver arrived at Customer: 43 (2534, 1200)\n",
      "[ 2] 18:35:07.2 Customer: 43 (2534, 1200) answers door\n",
      "[ 2] 18:35:07.2 Customer: 43 (2534, 1200) accepts Parcel:  46 ( 43)\n",
      "[ 2] 18:35:22.5 Customer: 43 (2534, 1200) signs off\n",
      "[ 2] 18:36:05.5 Driver drives to Customer:  7 (1200, 2038)\n",
      "[ 2] 18:44:46.7 Driver arrived at Customer:  7 (1200, 2038)\n",
      "[ 2] 18:45:22.2 Customer:  7 (1200, 2038) answers door\n",
      "[ 2] 18:45:22.2 Customer:  7 (1200, 2038) accepts Parcel:  41 (  7)\n",
      "[ 2] 18:45:26.4 Customer:  7 (1200, 2038) signs off\n",
      "[ 2] 18:45:33.6 Driver drives to Customer: 13 (1435, 2320)\n",
      "[ 2] 18:47:37.7 Driver arrived at Customer: 13 (1435, 2320)\n",
      "[ 2] 18:48:01.1 Customer: 13 (1435, 2320) answers door\n",
      "[ 2] 18:48:01.1 Customer: 13 (1435, 2320) accepts Parcel:  42 ( 13)\n",
      "[ 2] 18:48:10.8 Customer: 13 (1435, 2320) signs off\n",
      "[ 2] 18:48:16.7 Driver drives to Customer:  0 (640, 2700)\n",
      "[ 2] 18:52:58.7 Driver arrived at Customer:  0 (640, 2700)\n",
      "[ 2] 18:53:32.9 Customer:  0 (640, 2700) answers door\n",
      "[ 2] 18:53:32.9 Customer:  0 (640, 2700) accepts Parcel:  39 (  0)\n",
      "[ 2] 18:53:39.8 Customer:  0 (640, 2700) signs off\n",
      "[ 2] 18:53:45.10 Driver drives to Customer:  1 (640, 3044)\n",
      "[ 2] 18:55:08.5 Driver arrived at Customer:  1 (640, 3044)\n",
      "[ 2] 18:55:40.5 Customer:  1 (640, 3044) answers door\n",
      "[ 2] 18:55:40.5 Customer:  1 (640, 3044) accepts Parcel:  40 (  1)\n",
      "[ 2] 18:55:41.6 Customer:  1 (640, 3044) signs off\n",
      "[ 2] 18:55:52.8 Driver drives to Customer: 35 (2178, 3580)\n",
      "[ 2] 19:05:14.1 Driver arrived at Customer: 35 (2178, 3580)\n",
      "[ 2] 19:05:25.4 Customer: 35 (2178, 3580) answers door\n",
      "[ 2] 19:05:25.4 Customer: 35 (2178, 3580) accepts Parcel:  45 ( 35)\n",
      "[ 2] 19:05:29.4 Customer: 35 (2178, 3580) signs off\n",
      "[ 2] 19:06:16.4 Driver drives to Customer: 24 (1760, 6450)\n",
      "[ 2] 19:21:36.3 Driver arrived at Customer: 24 (1760, 6450)\n",
      "[ 2] 19:22:04.5 Customer: 24 (1760, 6450) answers door\n",
      "[ 2] 19:22:04.5 Customer: 24 (1760, 6450) accepts Parcel:  43 ( 24)\n",
      "[ 2] 19:22:10.8 Customer: 24 (1760, 6450) signs off\n",
      "[ 2] 19:22:21.8 Driver drives to Customer: 25 (1760, 6589)\n",
      "[ 2] 19:22:55.2 Driver arrived at Customer: 25 (1760, 6589)\n",
      "[ 2] 19:22:58.8 Customer: 25 (1760, 6589) answers door\n",
      "[ 2] 19:22:58.8 Customer: 25 (1760, 6589) accepts Parcel:  44 ( 25)\n",
      "[ 2] 19:22:59.7 Customer: 25 (1760, 6589) signs off\n",
      "[ 2] 19:23:05.1 Driver drives to Customer: 107 (5322, 6442)\n",
      "[ 2] 19:42:35.9 Driver arrived at Customer: 107 (5322, 6442)\n",
      "[ 2] 19:42:38.3 Customer: 107 (5322, 6442) answers door\n",
      "[ 2] 19:42:38.3 Customer: 107 (5322, 6442) accepts Parcel:  54 (107)\n",
      "[ 2] 19:42:41.7 Customer: 107 (5322, 6442) signs off\n",
      "[ 2] 19:43:23.2 Driver drives to Customer: 66 (3768, 5351)\n",
      "[ 2] 19:53:28.7 Driver arrived at Customer: 66 (3768, 5351)\n",
      "[ 2] 19:54:03.3 Customer: 66 (3768, 5351) answers door\n",
      "[ 2] 19:54:03.3 Customer: 66 (3768, 5351) accepts Parcel:  48 ( 66)\n",
      "[ 2] 19:54:17.4 Customer: 66 (3768, 5351) signs off\n",
      "[ 2] 19:54:19.6 Driver drives to Customer: 56 (3090, 4560)\n",
      "[ 2] 20:01:30.9 Driver arrived at Customer: 56 (3090, 4560)\n",
      "[ 2] 20:02:01.10 Customer: 56 (3090, 4560) answers door\n",
      "[ 2] 20:02:01.10 Customer: 56 (3090, 4560) accepts Parcel:  47 ( 56)\n",
      "[ 2] 20:02:08.8 Customer: 56 (3090, 4560) signs off\n",
      "[ 2] 20:02:38.1 Driver drives to Customer: 73 (4000, 3130)\n",
      "[ 2] 20:11:59.7 Driver arrived at Customer: 73 (4000, 3130)\n",
      "[ 2] 20:14:32.8 Customer: 73 (4000, 3130) answers door\n",
      "[ 2] 20:14:32.8 Customer: 73 (4000, 3130) accepts Parcel:  49 ( 73)\n",
      "[ 2] 20:14:36.4 Customer: 73 (4000, 3130) signs off\n",
      "[ 2] 20:14:46.0 Driver drives to Customer: 90 (4560, 2162)\n",
      "[ 2] 20:20:52.8 Driver arrived at Customer: 90 (4560, 2162)\n",
      "[ 2] 20:21:25.5 Customer: 90 (4560, 2162) answers door\n",
      "[ 2] 20:21:25.5 Customer: 90 (4560, 2162) accepts Parcel:  52 ( 90)\n",
      "[ 2] 20:21:26.8 Customer: 90 (4560, 2162) accepts Parcel:  53 ( 90)\n",
      "[ 2] 20:21:55.1 Customer: 90 (4560, 2162) signs off\n",
      "[ 2] 20:22:29.1 Driver drives to Customer: 108 (5445, 2320)\n",
      "[ 2] 20:26:39.4 Driver arrived at Customer: 108 (5445, 2320)\n",
      "[ 2] 20:28:41.8 Customer: 108 (5445, 2320) answers door\n",
      "[ 2] 20:28:41.8 Customer: 108 (5445, 2320) accepts Parcel:  55 (108)\n",
      "[ 2] 20:28:57.5 Customer: 108 (5445, 2320) signs off\n",
      "[ 2] 20:29:08.1 Driver drives to Customer: 135 (6800, 2701)\n",
      "[ 2] 20:36:04.8 Driver arrived at Customer: 135 (6800, 2701)\n",
      "[ 2] 20:37:11.5 Customer: 135 (6800, 2701) answers door\n",
      "[ 2] 20:37:11.5 Customer: 135 (6800, 2701) accepts Parcel:  57 (135)\n",
      "[ 2] 20:37:25.1 Customer: 135 (6800, 2701) signs off\n",
      "[ 2] 20:37:27.2 Driver drives to Customer: 116 (5868, 1760)\n",
      "[ 2] 20:44:56.8 Driver arrived at Customer: 116 (5868, 1760)\n",
      "[ 2] 20:45:30.2 Customer: 116 (5868, 1760) answers door\n",
      "[ 2] 20:45:30.2 Customer: 116 (5868, 1760) accepts Parcel:  56 (116)\n",
      "[ 2] 20:45:41.4 Customer: 116 (5868, 1760) signs off\n",
      "[ 2] 20:45:44.7 Driver returns to delivery centre\n",
      "[ 2] 20:48:44.2 Driver arrived at delivery centre\n",
      "[ 2] 20:58:44.2 4 left over for next day\n",
      "[ 2] 20:58:44.2 Driver goes home\n",
      "[ 2] 20:58:44.2 Delivery Centre Inventory: 4\n",
      "Delivery Centre Inventory: 4\n"
     ]
    }
   ],
   "source": [
    "# simulating delivery over 3 days. \n",
    "n_days=3\n",
    "random.seed(8268)\n",
    "W = generateWarehouseLocation(M)\n",
    "rec = simulation(M, W, C, p=0.15, days=n_days, log=True,seed=8268,plot=True)"
   ]
  },
  {
   "cell_type": "code",
   "execution_count": 123,
   "id": "78da61f9",
   "metadata": {},
   "outputs": [],
   "source": [
    "# Serialize the Recorder object using pickle and write it to a file named 'recorder.pickle'\n",
    "with open('recorder.pickle', 'wb') as f:\n",
    "    pickle.dump(rec, f)\n",
    "\n",
    "with open('recorder.pickle', 'wb') as f:\n",
    "            pickle.dump(rec, f)"
   ]
  },
  {
   "cell_type": "markdown",
   "id": "ee9d90aa",
   "metadata": {},
   "source": [
    "## 8 Plotting Routines"
   ]
  },
  {
   "cell_type": "code",
   "execution_count": 125,
   "id": "31c80048",
   "metadata": {},
   "outputs": [],
   "source": [
    "import scipy.stats as stats\n",
    "\n",
    "def histplot(data, title=\"\", xlabel=\"\",\n",
    "             width=None, height=None):\n",
    "    # Calculate statistics of the data\n",
    "    minx = min(data)  # Minimum value\n",
    "    maxx = max(data)  # Maximum value\n",
    "    μ = np.mean(data)  # Mean\n",
    "    σ = np.std(data)  # Standard deviation\n",
    "    \n",
    "    # Create a new figure with specified width and height\n",
    "    fig = plt.figure()\n",
    "    fig.set_figwidth(width if width is not None else 4)\n",
    "    fig.set_figheight(height if height is not None else 2.5)\n",
    "    ax = fig.gca()  # Get current axes\n",
    "    \n",
    "    # Determine the number of bins for the histogram\n",
    "    bins = (maxx - minx) // 5 + 1\n",
    "    \n",
    "    # Plot the histogram\n",
    "    hist = plt.hist(data, density=True, bins=bins)\n",
    "    plt.xlabel(xlabel)  # Set the label for the x-axis\n",
    "    plt.ylabel('Density')  # Set the label for the y-axis\n",
    "    plt.title(title)  # Set the title of the plot\n",
    "    \n",
    "    # Generate x-values for the normal distribution curve\n",
    "    x = np.linspace(minx, maxx, 100)\n",
    "    # Compute y-values for the normal distribution curve using mean and standard deviation\n",
    "    y = [stats.norm(loc=μ, scale=σ).pdf(p) for p in x]\n",
    "    \n",
    "    # Plot the normal distribution curve\n",
    "    ax.plot(x, y, lw=1, color='red')\n",
    "    ax.axvline(x=μ, color='red')  # Add a vertical line at the mean\n",
    "    maxy = max(max(y), max(hist[0]))  # Determine the maximum y-value for annotation\n",
    "    # Annotate mean and standard deviation\n",
    "    ax.text(maxx, maxy, f'μ={μ:2.2f}\\nσ={σ:2.2f}', ha='right', va='top', color='red', fontsize=12)\n",
    "    ax.grid(True)  # Add grid lines to the plot\n",
    "    plt.show()  # Display the plot\n",
    "\n",
    "# This function takes the data as input and generates a histogram with overlaid normal distribution curve, providing insights into the distribution of the data."
   ]
  },
  {
   "cell_type": "code",
   "execution_count": 127,
   "id": "52173030",
   "metadata": {},
   "outputs": [],
   "source": [
    "def dailyPlot(data, \n",
    "              title=\"\", ylabel=\"\",\n",
    "              width=None, height=None):\n",
    "    # Calculate the number of days\n",
    "    days = len(data)\n",
    "    \n",
    "    # Create a new figure with specified width and height\n",
    "    fig = plt.figure()\n",
    "    fig.set_figwidth(width if width is not None else 6)\n",
    "    fig.set_figheight(height if height is not None else 2)\n",
    "    \n",
    "    ax = fig.gca()  # Get current axes\n",
    "    # Adjust the y-axis limits with a small margin\n",
    "    diff = (max(data) - min(data)) * 0.1\n",
    "    ymin = int(math.floor(min(data) - diff))\n",
    "    ymax = int(math.ceil(max(data) + diff))\n",
    "    ax.set_xlim(-1, days)  # Set the x-axis limits\n",
    "    ax.set_ylim(ymin, ymax)  # Set the y-axis limits\n",
    "    ax.grid(True)  # Add grid lines\n",
    "    \n",
    "    # Set marker size and line width based on data length\n",
    "    ms = 2 if len(data) > 100 else 5\n",
    "    lw = 0.5 if len(data) > 100 else 1\n",
    "\n",
    "    # Generate x-values (days)\n",
    "    x = np.arange(0, len(data))\n",
    "    # Convert data to numpy array\n",
    "    y = np.array([y for y in data])\n",
    "    # Fit a linear polynomial to the data\n",
    "    b, m = np.polynomial.polynomial.polyfit(x, y, 1)\n",
    "    \n",
    "    # Plot the data points\n",
    "    plt.plot(x, y, 'bo-', linewidth=lw, markersize=ms)\n",
    "    # Plot the linear fit\n",
    "    plt.plot(x, m * x + b, 'r-')\n",
    "    \n",
    "    plt.xlabel('Day')  # Set the label for the x-axis\n",
    "    plt.ylabel(ylabel)  # Set the label for the y-axis\n",
    "    plt.title(title)  # Set the title of the plot\n",
    "    plt.show()  # Display the plot\n",
    "\n",
    "# This function plots daily data over a range of days, including a linear fit to the data points.\n",
    "# It provides insights into the trend of the data over time."
   ]
  },
  {
   "cell_type": "code",
   "execution_count": 128,
   "id": "ee8d96a5",
   "metadata": {
    "scrolled": true
   },
   "outputs": [
    {
     "data": {
      "image/png": "[encoded data removed]",
      "text/plain": [
       "<Figure size 400x250 with 1 Axes>"
      ]
     },
     "metadata": {},
     "output_type": "display_data"
    },
    {
     "data": {
      "image/png": "[encoded data removed]",
      "text/plain": [
       "<Figure size 600x200 with 1 Axes>"
      ]
     },
     "metadata": {},
     "output_type": "display_data"
    },
    {
     "data": {
      "text/plain": [
       "(173.66666666666666, 176.0, 5.859465277082315)"
      ]
     },
     "execution_count": 128,
     "metadata": {},
     "output_type": "execute_result"
    }
   ],
   "source": [
    "# Plot histogram of working time data stored in Recorder object\n",
    "rec.histWorkingTime()\n",
    "\n",
    "# Plot daily working time data stored in Recorder object\n",
    "rec.plotWorkingTime()\n",
    "\n",
    "# Calculate statistics (mean, median, and standard deviation) of working time data stored in Recorder object\n",
    "rec.statsWorkingTime()"
   ]
  },
  {
   "cell_type": "markdown",
   "id": "8e489f2b",
   "metadata": {},
   "source": [
    "These functions are used to analyze and visualize the working time data recorded during the simulation. The histWorkingTime function plots a histogram of the working time data, providing an overview of its distribution. The plotWorkingTime function generates a line plot showing the daily working time over the simulation period. Finally, the statsWorkingTime function calculates and returns statistics such as the mean, median, and standard deviation of the working time data."
   ]
  },
  {
   "cell_type": "code",
   "execution_count": 129,
   "id": "41e62b09",
   "metadata": {
    "scrolled": true
   },
   "outputs": [
    {
     "data": {
      "image/png": "[encoded data removed]",
      "text/plain": [
       "<Figure size 400x250 with 1 Axes>"
      ]
     },
     "metadata": {},
     "output_type": "display_data"
    },
    {
     "data": {
      "image/png": "[encoded data removed]",
      "text/plain": [
       "<Figure size 600x200 with 1 Axes>"
      ]
     },
     "metadata": {},
     "output_type": "display_data"
    },
    {
     "data": {
      "text/plain": [
       "(32226.0, 31732.0, 887.8687966135537)"
      ]
     },
     "execution_count": 129,
     "metadata": {},
     "output_type": "execute_result"
    }
   ],
   "source": [
    "# Plot histogram of tour length data stored in Recorder object\n",
    "rec.histTourLength()\n",
    "\n",
    "# Plot daily tour length data stored in Recorder object\n",
    "rec.plotTourLength()\n",
    "\n",
    "# Calculate statistics (mean, median, and standard deviation) of tour length data stored in Recorder object\n",
    "rec.statsTourLength()"
   ]
  },
  {
   "cell_type": "markdown",
   "id": "9042efba",
   "metadata": {},
   "source": [
    "These functions are used to analyze and visualize the tour length data recorded during the simulation. The histTourLength function plots a histogram of the tour length data, providing an overview of its distribution. The plotTourLength function generates a line plot showing the daily tour length over the simulation period. Finally, the statsTourLength function calculates and returns statistics such as the mean, median, and standard deviation of the tour length data."
   ]
  },
  {
   "cell_type": "code",
   "execution_count": 130,
   "id": "238640ae",
   "metadata": {
    "scrolled": true
   },
   "outputs": [
    {
     "data": {
      "image/png": "[encoded data removed]",
      "text/plain": [
       "<Figure size 400x250 with 1 Axes>"
      ]
     },
     "metadata": {},
     "output_type": "display_data"
    },
    {
     "data": {
      "image/png": "[encoded data removed]",
      "text/plain": [
       "<Figure size 600x200 with 1 Axes>"
      ]
     },
     "metadata": {},
     "output_type": "display_data"
    },
    {
     "data": {
      "text/plain": [
       "(1.3333333333333333, 0.0, 2.3094010767585034)"
      ]
     },
     "execution_count": 130,
     "metadata": {},
     "output_type": "execute_result"
    }
   ],
   "source": [
    "# Plot histogram of left-over parcels data stored in Recorder object\n",
    "rec.histLeftOver()\n",
    "\n",
    "# Plot daily left-over parcels data stored in Recorder object\n",
    "rec.plotLeftOver()\n",
    "\n",
    "# Calculate statistics (mean, median, and standard deviation) of left-over parcels data stored in Recorder object\n",
    "rec.statsLeftOver()"
   ]
  },
  {
   "cell_type": "markdown",
   "id": "3b0eb98b",
   "metadata": {},
   "source": [
    "These functions are used to analyze and visualize the left-over parcels data recorded during the simulation. The histLeftOver function plots a histogram of the left-over parcels data, providing insights into its distribution. The plotLeftOver function generates a line plot showing the daily left-over parcels over the simulation period. Finally, the statsLeftOver function calculates and returns statistics such as the mean, median, and standard deviation of the left-over parcels data."
   ]
  },
  {
   "cell_type": "code",
   "execution_count": 131,
   "id": "04441c62",
   "metadata": {},
   "outputs": [
    {
     "name": "stdout",
     "output_type": "stream",
     "text": [
      "==== t:  23.24s Total\n",
      "==== ΣΔt:  22.41s createLoop\n",
      "==== ΣΔt:   0.49s addTarget\n"
     ]
    }
   ],
   "source": [
    "# Print the report of time measurements recorded during the simulation\n",
    "rec.reportTimer()"
   ]
  },
  {
   "cell_type": "markdown",
   "id": "7990546a",
   "metadata": {},
   "source": [
    "This function prints a report summarizing the time measurements recorded during the simulation run. It includes the total simulation time and the accumulated time for each specific activity or event tracked during the simulation, providing insights into the time spent on different tasks or processes."
   ]
  },
  {
   "cell_type": "code",
   "execution_count": 132,
   "id": "c24e1fb4",
   "metadata": {},
   "outputs": [
    {
     "data": {
      "text/html": [
       "<div>\n",
       "<style scoped>\n",
       "    .dataframe tbody tr th:only-of-type {\n",
       "        vertical-align: middle;\n",
       "    }\n",
       "\n",
       "    .dataframe tbody tr th {\n",
       "        vertical-align: top;\n",
       "    }\n",
       "\n",
       "    .dataframe thead th {\n",
       "        text-align: right;\n",
       "    }\n",
       "</style>\n",
       "<table border=\"1\" class=\"dataframe\">\n",
       "  <thead>\n",
       "    <tr style=\"text-align: right;\">\n",
       "      <th></th>\n",
       "      <th>begin work at</th>\n",
       "      <th>end work at</th>\n",
       "      <th>dist</th>\n",
       "      <th>left</th>\n",
       "      <th>working time</th>\n",
       "    </tr>\n",
       "  </thead>\n",
       "  <tbody>\n",
       "    <tr>\n",
       "      <th>0</th>\n",
       "      <td>64800</td>\n",
       "      <td>75400</td>\n",
       "      <td>31732</td>\n",
       "      <td>0</td>\n",
       "      <td>176</td>\n",
       "    </tr>\n",
       "    <tr>\n",
       "      <th>1</th>\n",
       "      <td>151200</td>\n",
       "      <td>161239</td>\n",
       "      <td>31695</td>\n",
       "      <td>0</td>\n",
       "      <td>167</td>\n",
       "    </tr>\n",
       "    <tr>\n",
       "      <th>2</th>\n",
       "      <td>237600</td>\n",
       "      <td>248324</td>\n",
       "      <td>33251</td>\n",
       "      <td>4</td>\n",
       "      <td>178</td>\n",
       "    </tr>\n",
       "  </tbody>\n",
       "</table>\n",
       "</div>"
      ],
      "text/plain": [
       "  begin work at end work at   dist left working time\n",
       "0         64800       75400  31732    0          176\n",
       "1        151200      161239  31695    0          167\n",
       "2        237600      248324  33251    4          178"
      ]
     },
     "execution_count": 132,
     "metadata": {},
     "output_type": "execute_result"
    }
   ],
   "source": [
    "# Access the daily records DataFrame from the Recorder object\n",
    "rec.daily"
   ]
  },
  {
   "cell_type": "markdown",
   "id": "caa8ba13",
   "metadata": {},
   "source": [
    "## 9 Optimisation"
   ]
  },
  {
   "cell_type": "code",
   "execution_count": 133,
   "id": "99f389b3",
   "metadata": {},
   "outputs": [
    {
     "data": {
      "image/png": "[encoded data removed]",
      "text/plain": [
       "<Figure size 600x600 with 1 Axes>"
      ]
     },
     "metadata": {},
     "output_type": "display_data"
    },
    {
     "name": "stdout",
     "output_type": "stream",
     "text": [
      "Simulate Delivery from Warehouse (6800,5120)\n",
      "  improved position:   (6800,5120) f=31316.33\n",
      "Simulate Delivery from Warehouse (4000,4560)\n",
      "Simulate Delivery from Warehouse (5120,4000)\n",
      "Simulate Delivery from Warehouse (4560,4560)\n",
      "Simulate Delivery from Warehouse (2320,2320)\n",
      "Simulate Delivery from Warehouse (4560,2320)\n",
      "Simulate Delivery from Warehouse (7360,4560)\n",
      "Simulate Delivery from Warehouse (1200,2880)\n",
      "Simulate Delivery from Warehouse (3440,5680)\n",
      "  improved position:   (3440,5680) f=31257.67\n",
      "Simulate Delivery from Warehouse (2880,4560)\n"
     ]
    },
    {
     "data": {
      "image/png": "[encoded data removed]",
      "text/plain": [
       "<Figure size 600x600 with 1 Axes>"
      ]
     },
     "metadata": {},
     "output_type": "display_data"
    }
   ],
   "source": [
    "# Optimization routine to generate warehouse locations\n",
    "import os\n",
    "\n",
    "def generateWarehouseLocations(M, p):\n",
    "    \"\"\"\n",
    "    Generates potential warehouse locations based on the provided graph and a probability parameter.\n",
    "\n",
    "    Args:\n",
    "    - M: Tuple containing vertices and edges of the graph\n",
    "    - p: Probability parameter determining the proportion of potential warehouse locations\n",
    "\n",
    "    Returns:\n",
    "    - List of potential warehouse locations sampled from the vertices of the graph\n",
    "    \"\"\"\n",
    "    # Function to count the number of edges incident to a vertex\n",
    "    def numberOfEdges(v, E):\n",
    "        count = 0\n",
    "        for e in E:\n",
    "            if e[0] == v or e[1] == v:\n",
    "                count += 1\n",
    "        return count\n",
    "\n",
    "    V, E = M\n",
    "    # Select vertices with more than 2 incident edges as potential warehouse locations\n",
    "    W = [v for v in V if numberOfEdges(v, E) > 2]\n",
    "    # Sample from potential warehouse locations based on probability parameter\n",
    "    return random.sample(W, k=int(round(len(W) * p)))\n",
    "\n",
    "def formatLocation(w):\n",
    "    \"\"\"\n",
    "    Formats a warehouse location as a string.\n",
    "\n",
    "    Args:\n",
    "    - w: Tuple representing the coordinates of the warehouse location\n",
    "\n",
    "    Returns:\n",
    "    - Formatted string representing the warehouse location\n",
    "    \"\"\"\n",
    "    return f\"({w[0]:4d},{w[1]:4d})\"\n",
    "\n",
    "def objectiveFunction(w, seed, days, p):\n",
    "    \"\"\"\n",
    "    Objective function to simulate delivery from a warehouse location and evaluate tour length.\n",
    "\n",
    "    Args:\n",
    "    - w: Tuple representing the coordinates of the warehouse location\n",
    "    - seed: Seed value for random number generation\n",
    "    - days: Number of days for simulation\n",
    "    - p: Probability parameter for the proportion of potential warehouse locations\n",
    "\n",
    "    Returns:\n",
    "    - Mean tour length from the simulation\n",
    "    \"\"\"\n",
    "    random.seed(seed)\n",
    "    # Generate title for simulation based on warehouse location\n",
    "    title = \"Simulate Delivery from Warehouse \" + formatLocation(w)\n",
    "    # Simulate delivery from the warehouse location\n",
    "    rec = simulation(M, w, C, p=p, days=days, title=title)\n",
    "    # Define filename for saving simulation results\n",
    "    filename = \"recorder/rec_w=\" + formatLocation(w) + \".pickled\"\n",
    "    \n",
    "    # Check if directory exists, create it if not\n",
    "    directory = os.path.dirname(filename)\n",
    "    if not os.path.exists(directory):\n",
    "        os.makedirs(directory)\n",
    "    \n",
    "    # Serialize recorder object and save to file\n",
    "    with open(filename, 'wb') as f:\n",
    "        pickle.dump(rec, f)\n",
    "    # Return mean tour length from simulation\n",
    "    return rec.statsTourLength()[0]\n",
    "\n",
    "def monteCarlo(M, p, days, seed):\n",
    "    \"\"\"\n",
    "    Monte Carlo optimization routine to find the best warehouse location.\n",
    "\n",
    "    Args:\n",
    "    - M: Tuple containing vertices and edges of the graph\n",
    "    - p: Probability parameter for the proportion of potential warehouse locations\n",
    "    - days: Number of days for simulation\n",
    "    - seed: Seed value for random number generation\n",
    "\n",
    "    Returns:\n",
    "    - List of best warehouse locations based on the optimization\n",
    "    \"\"\"\n",
    "    # Generate potential warehouse locations\n",
    "    W = generateWarehouseLocations(M, p)\n",
    "    # Plot potential warehouse locations on the map\n",
    "    plotMap(M, T=W, styleT='bo', msT=7, text=\"Warehouse Candidate Positions\")\n",
    "\n",
    "    minW, minP = None, math.inf\n",
    "    for w in W:\n",
    "        # Evaluate objective function for each warehouse location\n",
    "        f = objectiveFunction(w, seed, days, p)\n",
    "        if f < minP:\n",
    "            print(f\"  improved position:   {formatLocation(w):s} f={f:7.2f}\")\n",
    "            minW, minP = [w], f\n",
    "        elif f == minP:\n",
    "            print(f\"  equivalent position: {formatLocation(w):s} f={f:7.2f}\")\n",
    "            minW.append(w)\n",
    "    \n",
    "    # Return best warehouse locations\n",
    "    return minW\n",
    "\n",
    "# Set seed for random number generation\n",
    "seed = 8268\n",
    "random.seed(seed)\n",
    "# Perform Monte Carlo optimization to find the best warehouse location\n",
    "W = monteCarlo(M, p=0.15, days=3, seed=seed)\n",
    "# Plot the best warehouse locations on the map\n",
    "plotMap(M, T=W, styleT='bo', msT=7, text='Best Warehouse Positions')"
   ]
  }
 ],
 "metadata": {
  "kernelspec": {
   "display_name": "Python 3 (ipykernel)",
   "language": "python",
   "name": "python3"
  },
  "language_info": {
   "codemirror_mode": {
    "name": "ipython",
    "version": 3
   },
   "file_extension": ".py",
   "mimetype": "text/x-python",
   "name": "python",
   "nbconvert_exporter": "python",
   "pygments_lexer": "ipython3",
   "version": "3.11.5"
  }
 },
 "nbformat": 4,
 "nbformat_minor": 5
}
